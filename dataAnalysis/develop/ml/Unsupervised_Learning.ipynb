{
 "cells": [
  {
   "cell_type": "markdown",
   "metadata": {},
   "source": [
    "The purpose of this notebook is to analyze PCA/ICA of the verbose (large) data collection for the singleton weaselball case. This will tell us what data to put into the Markov Chain."
   ]
  },
  {
   "cell_type": "code",
   "execution_count": 92,
   "metadata": {
    "collapsed": true
   },
   "outputs": [],
   "source": [
    "import pandas as pd\n",
    "import numpy as np\n",
    "import matplotlib.pyplot as plt\n",
    "import seaborn as sns\n",
    "from sklearn.ensemble import RandomForestClassifier\n",
    "sns.set()"
   ]
  },
  {
   "cell_type": "markdown",
   "metadata": {},
   "source": [
    "## Get rows to skip (Downsample)"
   ]
  },
  {
   "cell_type": "code",
   "execution_count": 93,
   "metadata": {},
   "outputs": [
    {
     "data": {
      "text/plain": [
       "11299060"
      ]
     },
     "execution_count": 93,
     "metadata": {},
     "output_type": "execute_result"
    }
   ],
   "source": [
    "import csv\n",
    "row_count = len(open('../../data/10-07-2018_09-47-33_long.csv').readlines())\n",
    "row_count"
   ]
  },
  {
   "cell_type": "code",
   "execution_count": 94,
   "metadata": {
    "collapsed": true
   },
   "outputs": [],
   "source": [
    "skip_rows = []\n",
    "SAMPLE = 250\n",
    "for i in range(row_count+100):\n",
    "    if (i % SAMPLE != 0):\n",
    "        skip_rows.append(i)\n",
    "#There appears to be something wrong with the data collection where extra rows are given for no reason... \n",
    "#So I am clipping out some of the data\n",
    "for i in range(int((2.0/3.0)*row_count)):\n",
    "    skip_rows.append(i)"
   ]
  },
  {
   "cell_type": "markdown",
   "metadata": {},
   "source": [
    "## Import data"
   ]
  },
  {
   "cell_type": "code",
   "execution_count": 95,
   "metadata": {},
   "outputs": [
    {
     "data": {
      "text/plain": [
       "(15066, 40)"
      ]
     },
     "execution_count": 95,
     "metadata": {},
     "output_type": "execute_result"
    }
   ],
   "source": [
    "df = pd.read_csv('../../data/10-07-2018_09-47-33_long.csv', index_col=False, skiprows = skip_rows, sep=',', header=None)\n",
    "df.shape"
   ]
  },
  {
   "cell_type": "code",
   "execution_count": 96,
   "metadata": {},
   "outputs": [
    {
     "data": {
      "text/html": [
       "<div>\n",
       "<style scoped>\n",
       "    .dataframe tbody tr th:only-of-type {\n",
       "        vertical-align: middle;\n",
       "    }\n",
       "\n",
       "    .dataframe tbody tr th {\n",
       "        vertical-align: top;\n",
       "    }\n",
       "\n",
       "    .dataframe thead th {\n",
       "        text-align: right;\n",
       "    }\n",
       "</style>\n",
       "<table border=\"1\" class=\"dataframe\">\n",
       "  <thead>\n",
       "    <tr style=\"text-align: right;\">\n",
       "      <th></th>\n",
       "      <th>0</th>\n",
       "      <th>1</th>\n",
       "      <th>2</th>\n",
       "      <th>3</th>\n",
       "      <th>4</th>\n",
       "      <th>5</th>\n",
       "      <th>6</th>\n",
       "      <th>7</th>\n",
       "      <th>8</th>\n",
       "      <th>9</th>\n",
       "      <th>...</th>\n",
       "      <th>30</th>\n",
       "      <th>31</th>\n",
       "      <th>32</th>\n",
       "      <th>33</th>\n",
       "      <th>34</th>\n",
       "      <th>35</th>\n",
       "      <th>36</th>\n",
       "      <th>37</th>\n",
       "      <th>38</th>\n",
       "      <th>39</th>\n",
       "    </tr>\n",
       "  </thead>\n",
       "  <tbody>\n",
       "    <tr>\n",
       "      <th>0</th>\n",
       "      <td>14985 517000000</td>\n",
       "      <td>48</td>\n",
       "      <td>0</td>\n",
       "      <td>-0.027979</td>\n",
       "      <td>0.344137</td>\n",
       "      <td>2.03535</td>\n",
       "      <td>-0.019105</td>\n",
       "      <td>0.347468</td>\n",
       "      <td>0.041</td>\n",
       "      <td>-0.055463</td>\n",
       "      <td>...</td>\n",
       "      <td>2.584690</td>\n",
       "      <td>-3.712140</td>\n",
       "      <td>-1.434930</td>\n",
       "      <td>-3.45610</td>\n",
       "      <td>-11.4949</td>\n",
       "      <td>-3.15820</td>\n",
       "      <td>1</td>\n",
       "      <td>1</td>\n",
       "      <td>0</td>\n",
       "      <td>NaN</td>\n",
       "    </tr>\n",
       "    <tr>\n",
       "      <th>1</th>\n",
       "      <td>14985 767000000</td>\n",
       "      <td>48</td>\n",
       "      <td>0</td>\n",
       "      <td>-0.029478</td>\n",
       "      <td>0.396406</td>\n",
       "      <td>2.04870</td>\n",
       "      <td>-0.038135</td>\n",
       "      <td>0.404294</td>\n",
       "      <td>0.041</td>\n",
       "      <td>1.401630</td>\n",
       "      <td>...</td>\n",
       "      <td>2.224930</td>\n",
       "      <td>-7.098020</td>\n",
       "      <td>3.002540</td>\n",
       "      <td>8.70964</td>\n",
       "      <td>-57.8569</td>\n",
       "      <td>-1.73376</td>\n",
       "      <td>1</td>\n",
       "      <td>1</td>\n",
       "      <td>0</td>\n",
       "      <td>NaN</td>\n",
       "    </tr>\n",
       "    <tr>\n",
       "      <th>2</th>\n",
       "      <td>14986 17000000</td>\n",
       "      <td>48</td>\n",
       "      <td>0</td>\n",
       "      <td>-0.037741</td>\n",
       "      <td>0.496602</td>\n",
       "      <td>2.04732</td>\n",
       "      <td>-0.038430</td>\n",
       "      <td>0.507709</td>\n",
       "      <td>0.041</td>\n",
       "      <td>-0.777750</td>\n",
       "      <td>...</td>\n",
       "      <td>-0.046311</td>\n",
       "      <td>-0.838124</td>\n",
       "      <td>2.795540</td>\n",
       "      <td>25.12890</td>\n",
       "      <td>139.3170</td>\n",
       "      <td>-46.01750</td>\n",
       "      <td>1</td>\n",
       "      <td>1</td>\n",
       "      <td>0</td>\n",
       "      <td>NaN</td>\n",
       "    </tr>\n",
       "    <tr>\n",
       "      <th>3</th>\n",
       "      <td>14986 267000000</td>\n",
       "      <td>48</td>\n",
       "      <td>0</td>\n",
       "      <td>-0.039684</td>\n",
       "      <td>0.497387</td>\n",
       "      <td>2.00736</td>\n",
       "      <td>-0.044504</td>\n",
       "      <td>0.507859</td>\n",
       "      <td>0.041</td>\n",
       "      <td>-0.868378</td>\n",
       "      <td>...</td>\n",
       "      <td>-0.056913</td>\n",
       "      <td>0.064586</td>\n",
       "      <td>-0.203651</td>\n",
       "      <td>-1.75967</td>\n",
       "      <td>-31.3824</td>\n",
       "      <td>9.22416</td>\n",
       "      <td>1</td>\n",
       "      <td>1</td>\n",
       "      <td>0</td>\n",
       "      <td>NaN</td>\n",
       "    </tr>\n",
       "    <tr>\n",
       "      <th>4</th>\n",
       "      <td>14986 517000000</td>\n",
       "      <td>48</td>\n",
       "      <td>0</td>\n",
       "      <td>-0.038976</td>\n",
       "      <td>0.476104</td>\n",
       "      <td>2.00549</td>\n",
       "      <td>-0.037135</td>\n",
       "      <td>0.466660</td>\n",
       "      <td>0.041</td>\n",
       "      <td>0.150809</td>\n",
       "      <td>...</td>\n",
       "      <td>0.870542</td>\n",
       "      <td>7.985590</td>\n",
       "      <td>1.056690</td>\n",
       "      <td>16.18820</td>\n",
       "      <td>-32.4782</td>\n",
       "      <td>-5.09194</td>\n",
       "      <td>1</td>\n",
       "      <td>1</td>\n",
       "      <td>0</td>\n",
       "      <td>NaN</td>\n",
       "    </tr>\n",
       "  </tbody>\n",
       "</table>\n",
       "<p>5 rows × 40 columns</p>\n",
       "</div>"
      ],
      "text/plain": [
       "                0   1   2         3         4        5         6         7   \\\n",
       "0  14985 517000000  48   0 -0.027979  0.344137  2.03535 -0.019105  0.347468   \n",
       "1  14985 767000000  48   0 -0.029478  0.396406  2.04870 -0.038135  0.404294   \n",
       "2   14986 17000000  48   0 -0.037741  0.496602  2.04732 -0.038430  0.507709   \n",
       "3  14986 267000000  48   0 -0.039684  0.497387  2.00736 -0.044504  0.507859   \n",
       "4  14986 517000000  48   0 -0.038976  0.476104  2.00549 -0.037135  0.466660   \n",
       "\n",
       "      8         9  ...        30        31        32        33        34  \\\n",
       "0  0.041 -0.055463 ...  2.584690 -3.712140 -1.434930  -3.45610  -11.4949   \n",
       "1  0.041  1.401630 ...  2.224930 -7.098020  3.002540   8.70964  -57.8569   \n",
       "2  0.041 -0.777750 ... -0.046311 -0.838124  2.795540  25.12890  139.3170   \n",
       "3  0.041 -0.868378 ... -0.056913  0.064586 -0.203651  -1.75967  -31.3824   \n",
       "4  0.041  0.150809 ...  0.870542  7.985590  1.056690  16.18820  -32.4782   \n",
       "\n",
       "         35  36  37  38  39  \n",
       "0  -3.15820   1   1   0 NaN  \n",
       "1  -1.73376   1   1   0 NaN  \n",
       "2 -46.01750   1   1   0 NaN  \n",
       "3   9.22416   1   1   0 NaN  \n",
       "4  -5.09194   1   1   0 NaN  \n",
       "\n",
       "[5 rows x 40 columns]"
      ]
     },
     "execution_count": 96,
     "metadata": {},
     "output_type": "execute_result"
    }
   ],
   "source": [
    "df.head()"
   ]
  },
  {
   "cell_type": "code",
   "execution_count": 97,
   "metadata": {},
   "outputs": [
    {
     "data": {
      "text/html": [
       "<div>\n",
       "<style scoped>\n",
       "    .dataframe tbody tr th:only-of-type {\n",
       "        vertical-align: middle;\n",
       "    }\n",
       "\n",
       "    .dataframe tbody tr th {\n",
       "        vertical-align: top;\n",
       "    }\n",
       "\n",
       "    .dataframe thead th {\n",
       "        text-align: right;\n",
       "    }\n",
       "</style>\n",
       "<table border=\"1\" class=\"dataframe\">\n",
       "  <thead>\n",
       "    <tr style=\"text-align: right;\">\n",
       "      <th></th>\n",
       "      <th>2</th>\n",
       "      <th>3</th>\n",
       "      <th>4</th>\n",
       "      <th>5</th>\n",
       "      <th>6</th>\n",
       "      <th>7</th>\n",
       "      <th>8</th>\n",
       "      <th>9</th>\n",
       "      <th>10</th>\n",
       "      <th>11</th>\n",
       "      <th>...</th>\n",
       "      <th>26</th>\n",
       "      <th>27</th>\n",
       "      <th>28</th>\n",
       "      <th>29</th>\n",
       "      <th>30</th>\n",
       "      <th>31</th>\n",
       "      <th>32</th>\n",
       "      <th>33</th>\n",
       "      <th>34</th>\n",
       "      <th>35</th>\n",
       "    </tr>\n",
       "  </thead>\n",
       "  <tbody>\n",
       "    <tr>\n",
       "      <th>0</th>\n",
       "      <td>0</td>\n",
       "      <td>-0.027979</td>\n",
       "      <td>0.344137</td>\n",
       "      <td>2.03535</td>\n",
       "      <td>-0.019105</td>\n",
       "      <td>0.347468</td>\n",
       "      <td>0.041</td>\n",
       "      <td>-0.055463</td>\n",
       "      <td>-0.055463</td>\n",
       "      <td>1.87143</td>\n",
       "      <td>...</td>\n",
       "      <td>-0.008304</td>\n",
       "      <td>0.395906</td>\n",
       "      <td>-0.165988</td>\n",
       "      <td>0.048860</td>\n",
       "      <td>2.584690</td>\n",
       "      <td>-3.712140</td>\n",
       "      <td>-1.434930</td>\n",
       "      <td>-3.45610</td>\n",
       "      <td>-11.4949</td>\n",
       "      <td>-3.15820</td>\n",
       "    </tr>\n",
       "    <tr>\n",
       "      <th>1</th>\n",
       "      <td>0</td>\n",
       "      <td>-0.029478</td>\n",
       "      <td>0.396406</td>\n",
       "      <td>2.04870</td>\n",
       "      <td>-0.038135</td>\n",
       "      <td>0.404294</td>\n",
       "      <td>0.041</td>\n",
       "      <td>1.401630</td>\n",
       "      <td>1.401630</td>\n",
       "      <td>2.28316</td>\n",
       "      <td>...</td>\n",
       "      <td>-0.296324</td>\n",
       "      <td>0.250291</td>\n",
       "      <td>0.134410</td>\n",
       "      <td>-1.965250</td>\n",
       "      <td>2.224930</td>\n",
       "      <td>-7.098020</td>\n",
       "      <td>3.002540</td>\n",
       "      <td>8.70964</td>\n",
       "      <td>-57.8569</td>\n",
       "      <td>-1.73376</td>\n",
       "    </tr>\n",
       "    <tr>\n",
       "      <th>2</th>\n",
       "      <td>0</td>\n",
       "      <td>-0.037741</td>\n",
       "      <td>0.496602</td>\n",
       "      <td>2.04732</td>\n",
       "      <td>-0.038430</td>\n",
       "      <td>0.507709</td>\n",
       "      <td>0.041</td>\n",
       "      <td>-0.777750</td>\n",
       "      <td>-0.777750</td>\n",
       "      <td>-1.11605</td>\n",
       "      <td>...</td>\n",
       "      <td>0.017196</td>\n",
       "      <td>2.726250</td>\n",
       "      <td>-1.667530</td>\n",
       "      <td>-3.487960</td>\n",
       "      <td>-0.046311</td>\n",
       "      <td>-0.838124</td>\n",
       "      <td>2.795540</td>\n",
       "      <td>25.12890</td>\n",
       "      <td>139.3170</td>\n",
       "      <td>-46.01750</td>\n",
       "    </tr>\n",
       "    <tr>\n",
       "      <th>3</th>\n",
       "      <td>0</td>\n",
       "      <td>-0.039684</td>\n",
       "      <td>0.497387</td>\n",
       "      <td>2.00736</td>\n",
       "      <td>-0.044504</td>\n",
       "      <td>0.507859</td>\n",
       "      <td>0.041</td>\n",
       "      <td>-0.868378</td>\n",
       "      <td>-0.868378</td>\n",
       "      <td>-1.39298</td>\n",
       "      <td>...</td>\n",
       "      <td>-0.001755</td>\n",
       "      <td>-0.733295</td>\n",
       "      <td>0.312100</td>\n",
       "      <td>0.936270</td>\n",
       "      <td>-0.056913</td>\n",
       "      <td>0.064586</td>\n",
       "      <td>-0.203651</td>\n",
       "      <td>-1.75967</td>\n",
       "      <td>-31.3824</td>\n",
       "      <td>9.22416</td>\n",
       "    </tr>\n",
       "    <tr>\n",
       "      <th>4</th>\n",
       "      <td>0</td>\n",
       "      <td>-0.038976</td>\n",
       "      <td>0.476104</td>\n",
       "      <td>2.00549</td>\n",
       "      <td>-0.037135</td>\n",
       "      <td>0.466660</td>\n",
       "      <td>0.041</td>\n",
       "      <td>0.150809</td>\n",
       "      <td>0.150809</td>\n",
       "      <td>-1.44429</td>\n",
       "      <td>...</td>\n",
       "      <td>0.042047</td>\n",
       "      <td>-1.260490</td>\n",
       "      <td>-0.564123</td>\n",
       "      <td>-0.312194</td>\n",
       "      <td>0.870542</td>\n",
       "      <td>7.985590</td>\n",
       "      <td>1.056690</td>\n",
       "      <td>16.18820</td>\n",
       "      <td>-32.4782</td>\n",
       "      <td>-5.09194</td>\n",
       "    </tr>\n",
       "  </tbody>\n",
       "</table>\n",
       "<p>5 rows × 34 columns</p>\n",
       "</div>"
      ],
      "text/plain": [
       "   2         3         4        5         6         7      8         9   \\\n",
       "0   0 -0.027979  0.344137  2.03535 -0.019105  0.347468  0.041 -0.055463   \n",
       "1   0 -0.029478  0.396406  2.04870 -0.038135  0.404294  0.041  1.401630   \n",
       "2   0 -0.037741  0.496602  2.04732 -0.038430  0.507709  0.041 -0.777750   \n",
       "3   0 -0.039684  0.497387  2.00736 -0.044504  0.507859  0.041 -0.868378   \n",
       "4   0 -0.038976  0.476104  2.00549 -0.037135  0.466660  0.041  0.150809   \n",
       "\n",
       "         10       11    ...           26        27        28        29  \\\n",
       "0 -0.055463  1.87143    ...    -0.008304  0.395906 -0.165988  0.048860   \n",
       "1  1.401630  2.28316    ...    -0.296324  0.250291  0.134410 -1.965250   \n",
       "2 -0.777750 -1.11605    ...     0.017196  2.726250 -1.667530 -3.487960   \n",
       "3 -0.868378 -1.39298    ...    -0.001755 -0.733295  0.312100  0.936270   \n",
       "4  0.150809 -1.44429    ...     0.042047 -1.260490 -0.564123 -0.312194   \n",
       "\n",
       "         30        31        32        33        34        35  \n",
       "0  2.584690 -3.712140 -1.434930  -3.45610  -11.4949  -3.15820  \n",
       "1  2.224930 -7.098020  3.002540   8.70964  -57.8569  -1.73376  \n",
       "2 -0.046311 -0.838124  2.795540  25.12890  139.3170 -46.01750  \n",
       "3 -0.056913  0.064586 -0.203651  -1.75967  -31.3824   9.22416  \n",
       "4  0.870542  7.985590  1.056690  16.18820  -32.4782  -5.09194  \n",
       "\n",
       "[5 rows x 34 columns]"
      ]
     },
     "execution_count": 97,
     "metadata": {},
     "output_type": "execute_result"
    }
   ],
   "source": [
    "#Remove useless columns\n",
    "df = df.drop(columns=[0,1,36,37,38,39], axis=1)\n",
    "df.head()"
   ]
  },
  {
   "cell_type": "code",
   "execution_count": 98,
   "metadata": {
    "collapsed": true
   },
   "outputs": [],
   "source": [
    "df = df.drop(df.index[len(df)-1])"
   ]
  },
  {
   "cell_type": "code",
   "execution_count": 99,
   "metadata": {},
   "outputs": [
    {
     "data": {
      "text/html": [
       "<div>\n",
       "<style scoped>\n",
       "    .dataframe tbody tr th:only-of-type {\n",
       "        vertical-align: middle;\n",
       "    }\n",
       "\n",
       "    .dataframe tbody tr th {\n",
       "        vertical-align: top;\n",
       "    }\n",
       "\n",
       "    .dataframe thead th {\n",
       "        text-align: right;\n",
       "    }\n",
       "</style>\n",
       "<table border=\"1\" class=\"dataframe\">\n",
       "  <thead>\n",
       "    <tr style=\"text-align: right;\">\n",
       "      <th></th>\n",
       "      <th>2</th>\n",
       "      <th>3</th>\n",
       "      <th>4</th>\n",
       "      <th>5</th>\n",
       "      <th>6</th>\n",
       "      <th>7</th>\n",
       "      <th>8</th>\n",
       "      <th>9</th>\n",
       "      <th>10</th>\n",
       "      <th>11</th>\n",
       "      <th>...</th>\n",
       "      <th>26</th>\n",
       "      <th>27</th>\n",
       "      <th>28</th>\n",
       "      <th>29</th>\n",
       "      <th>30</th>\n",
       "      <th>31</th>\n",
       "      <th>32</th>\n",
       "      <th>33</th>\n",
       "      <th>34</th>\n",
       "      <th>35</th>\n",
       "    </tr>\n",
       "  </thead>\n",
       "  <tbody>\n",
       "  </tbody>\n",
       "</table>\n",
       "<p>0 rows × 34 columns</p>\n",
       "</div>"
      ],
      "text/plain": [
       "Empty DataFrame\n",
       "Columns: [2, 3, 4, 5, 6, 7, 8, 9, 10, 11, 12, 13, 14, 15, 16, 17, 18, 19, 20, 21, 22, 23, 24, 25, 26, 27, 28, 29, 30, 31, 32, 33, 34, 35]\n",
       "Index: []\n",
       "\n",
       "[0 rows x 34 columns]"
      ]
     },
     "execution_count": 99,
     "metadata": {},
     "output_type": "execute_result"
    }
   ],
   "source": [
    "#Find NaNs\n",
    "nans = lambda df: df[df.isnull().any(axis=1)]\n",
    "nans(df)"
   ]
  },
  {
   "cell_type": "code",
   "execution_count": 100,
   "metadata": {},
   "outputs": [
    {
     "data": {
      "text/html": [
       "<div>\n",
       "<style scoped>\n",
       "    .dataframe tbody tr th:only-of-type {\n",
       "        vertical-align: middle;\n",
       "    }\n",
       "\n",
       "    .dataframe tbody tr th {\n",
       "        vertical-align: top;\n",
       "    }\n",
       "\n",
       "    .dataframe thead th {\n",
       "        text-align: right;\n",
       "    }\n",
       "</style>\n",
       "<table border=\"1\" class=\"dataframe\">\n",
       "  <thead>\n",
       "    <tr style=\"text-align: right;\">\n",
       "      <th></th>\n",
       "      <th>2</th>\n",
       "      <th>3</th>\n",
       "      <th>4</th>\n",
       "      <th>5</th>\n",
       "      <th>6</th>\n",
       "      <th>7</th>\n",
       "      <th>8</th>\n",
       "      <th>9</th>\n",
       "      <th>10</th>\n",
       "      <th>11</th>\n",
       "      <th>...</th>\n",
       "      <th>26</th>\n",
       "      <th>27</th>\n",
       "      <th>28</th>\n",
       "      <th>29</th>\n",
       "      <th>30</th>\n",
       "      <th>31</th>\n",
       "      <th>32</th>\n",
       "      <th>33</th>\n",
       "      <th>34</th>\n",
       "      <th>35</th>\n",
       "    </tr>\n",
       "  </thead>\n",
       "  <tbody>\n",
       "    <tr>\n",
       "      <th>0</th>\n",
       "      <td>0.0</td>\n",
       "      <td>-0.014639</td>\n",
       "      <td>0.358239</td>\n",
       "      <td>2.039612</td>\n",
       "      <td>-0.005757</td>\n",
       "      <td>0.361686</td>\n",
       "      <td>-7.264122e-07</td>\n",
       "      <td>-0.057105</td>\n",
       "      <td>-0.057105</td>\n",
       "      <td>1.875124</td>\n",
       "      <td>...</td>\n",
       "      <td>-0.007827</td>\n",
       "      <td>0.484346</td>\n",
       "      <td>-0.246713</td>\n",
       "      <td>0.054171</td>\n",
       "      <td>2.580193</td>\n",
       "      <td>2.185631</td>\n",
       "      <td>-1.385860</td>\n",
       "      <td>-3.924192</td>\n",
       "      <td>-7.198419</td>\n",
       "      <td>-2.874965</td>\n",
       "    </tr>\n",
       "    <tr>\n",
       "      <th>1</th>\n",
       "      <td>0.0</td>\n",
       "      <td>-0.016138</td>\n",
       "      <td>0.410508</td>\n",
       "      <td>2.052962</td>\n",
       "      <td>-0.024787</td>\n",
       "      <td>0.418512</td>\n",
       "      <td>-7.264122e-07</td>\n",
       "      <td>1.399989</td>\n",
       "      <td>1.399989</td>\n",
       "      <td>2.286854</td>\n",
       "      <td>...</td>\n",
       "      <td>-0.295847</td>\n",
       "      <td>0.338731</td>\n",
       "      <td>0.053685</td>\n",
       "      <td>-1.959939</td>\n",
       "      <td>2.220433</td>\n",
       "      <td>-1.200249</td>\n",
       "      <td>3.051610</td>\n",
       "      <td>8.241548</td>\n",
       "      <td>-53.560419</td>\n",
       "      <td>-1.450525</td>\n",
       "    </tr>\n",
       "    <tr>\n",
       "      <th>2</th>\n",
       "      <td>0.0</td>\n",
       "      <td>-0.024401</td>\n",
       "      <td>0.510704</td>\n",
       "      <td>2.051582</td>\n",
       "      <td>-0.025081</td>\n",
       "      <td>0.521927</td>\n",
       "      <td>-7.264122e-07</td>\n",
       "      <td>-0.779391</td>\n",
       "      <td>-0.779391</td>\n",
       "      <td>-1.112356</td>\n",
       "      <td>...</td>\n",
       "      <td>0.017673</td>\n",
       "      <td>2.814690</td>\n",
       "      <td>-1.748255</td>\n",
       "      <td>-3.482649</td>\n",
       "      <td>-0.050808</td>\n",
       "      <td>5.059647</td>\n",
       "      <td>2.844610</td>\n",
       "      <td>24.660808</td>\n",
       "      <td>143.613481</td>\n",
       "      <td>-45.734265</td>\n",
       "    </tr>\n",
       "    <tr>\n",
       "      <th>3</th>\n",
       "      <td>0.0</td>\n",
       "      <td>-0.026344</td>\n",
       "      <td>0.511489</td>\n",
       "      <td>2.011622</td>\n",
       "      <td>-0.031155</td>\n",
       "      <td>0.522077</td>\n",
       "      <td>-7.264122e-07</td>\n",
       "      <td>-0.870019</td>\n",
       "      <td>-0.870019</td>\n",
       "      <td>-1.389286</td>\n",
       "      <td>...</td>\n",
       "      <td>-0.001278</td>\n",
       "      <td>-0.644855</td>\n",
       "      <td>0.231375</td>\n",
       "      <td>0.941581</td>\n",
       "      <td>-0.061410</td>\n",
       "      <td>5.962356</td>\n",
       "      <td>-0.154581</td>\n",
       "      <td>-2.227762</td>\n",
       "      <td>-27.085919</td>\n",
       "      <td>9.507395</td>\n",
       "    </tr>\n",
       "    <tr>\n",
       "      <th>4</th>\n",
       "      <td>0.0</td>\n",
       "      <td>-0.025636</td>\n",
       "      <td>0.490206</td>\n",
       "      <td>2.009752</td>\n",
       "      <td>-0.023787</td>\n",
       "      <td>0.480878</td>\n",
       "      <td>-7.264122e-07</td>\n",
       "      <td>0.149168</td>\n",
       "      <td>0.149168</td>\n",
       "      <td>-1.440596</td>\n",
       "      <td>...</td>\n",
       "      <td>0.042524</td>\n",
       "      <td>-1.172050</td>\n",
       "      <td>-0.644848</td>\n",
       "      <td>-0.306883</td>\n",
       "      <td>0.866045</td>\n",
       "      <td>13.883361</td>\n",
       "      <td>1.105760</td>\n",
       "      <td>15.720108</td>\n",
       "      <td>-28.181719</td>\n",
       "      <td>-4.808705</td>\n",
       "    </tr>\n",
       "  </tbody>\n",
       "</table>\n",
       "<p>5 rows × 34 columns</p>\n",
       "</div>"
      ],
      "text/plain": [
       "    2         3         4         5         6         7             8   \\\n",
       "0  0.0 -0.014639  0.358239  2.039612 -0.005757  0.361686 -7.264122e-07   \n",
       "1  0.0 -0.016138  0.410508  2.052962 -0.024787  0.418512 -7.264122e-07   \n",
       "2  0.0 -0.024401  0.510704  2.051582 -0.025081  0.521927 -7.264122e-07   \n",
       "3  0.0 -0.026344  0.511489  2.011622 -0.031155  0.522077 -7.264122e-07   \n",
       "4  0.0 -0.025636  0.490206  2.009752 -0.023787  0.480878 -7.264122e-07   \n",
       "\n",
       "         9         10        11    ...            26        27        28  \\\n",
       "0 -0.057105 -0.057105  1.875124    ...     -0.007827  0.484346 -0.246713   \n",
       "1  1.399989  1.399989  2.286854    ...     -0.295847  0.338731  0.053685   \n",
       "2 -0.779391 -0.779391 -1.112356    ...      0.017673  2.814690 -1.748255   \n",
       "3 -0.870019 -0.870019 -1.389286    ...     -0.001278 -0.644855  0.231375   \n",
       "4  0.149168  0.149168 -1.440596    ...      0.042524 -1.172050 -0.644848   \n",
       "\n",
       "         29        30         31        32         33          34         35  \n",
       "0  0.054171  2.580193   2.185631 -1.385860  -3.924192   -7.198419  -2.874965  \n",
       "1 -1.959939  2.220433  -1.200249  3.051610   8.241548  -53.560419  -1.450525  \n",
       "2 -3.482649 -0.050808   5.059647  2.844610  24.660808  143.613481 -45.734265  \n",
       "3  0.941581 -0.061410   5.962356 -0.154581  -2.227762  -27.085919   9.507395  \n",
       "4 -0.306883  0.866045  13.883361  1.105760  15.720108  -28.181719  -4.808705  \n",
       "\n",
       "[5 rows x 34 columns]"
      ]
     },
     "execution_count": 100,
     "metadata": {},
     "output_type": "execute_result"
    }
   ],
   "source": [
    "#Mean center the data\n",
    "df = df.subtract(df.mean())\n",
    "df.head()"
   ]
  },
  {
   "cell_type": "code",
   "execution_count": 101,
   "metadata": {
    "collapsed": true
   },
   "outputs": [],
   "source": [
    "#Normalize data?\n",
    "df = df / np.linalg.norm(df)"
   ]
  },
  {
   "cell_type": "markdown",
   "metadata": {
    "collapsed": true
   },
   "source": [
    "## PCA"
   ]
  },
  {
   "cell_type": "code",
   "execution_count": 102,
   "metadata": {
    "collapsed": true
   },
   "outputs": [],
   "source": [
    "from sklearn.decomposition import PCA"
   ]
  },
  {
   "cell_type": "code",
   "execution_count": null,
   "metadata": {
    "collapsed": true
   },
   "outputs": [],
   "source": []
  },
  {
   "cell_type": "code",
   "execution_count": 103,
   "metadata": {},
   "outputs": [
    {
     "data": {
      "text/plain": [
       "PCA(copy=True, iterated_power='auto', n_components=None, random_state=None,\n",
       "  svd_solver='auto', tol=0.0, whiten=False)"
      ]
     },
     "execution_count": 103,
     "metadata": {},
     "output_type": "execute_result"
    }
   ],
   "source": [
    "pca = PCA()\n",
    "pca.fit(df)"
   ]
  },
  {
   "cell_type": "code",
   "execution_count": 104,
   "metadata": {},
   "outputs": [
    {
     "data": {
      "text/plain": [
       "<matplotlib.text.Text at 0x7fc6eb4aef10>"
      ]
     },
     "execution_count": 104,
     "metadata": {},
     "output_type": "execute_result"
    },
    {
     "data": {
      "image/png": "[encoded data removed]",
      "text/plain": [
       "<matplotlib.figure.Figure at 0x7fc6eb4f3390>"
      ]
     },
     "metadata": {},
     "output_type": "display_data"
    }
   ],
   "source": [
    "plt.figure(figsize=(8,8))\n",
    "plt.plot(pca.explained_variance_ratio_)\n",
    "plt.grid()\n",
    "plt.title('Variation Ratio Per Component')\n"
   ]
  },
  {
   "cell_type": "markdown",
   "metadata": {},
   "source": [
    "\n",
    "\n",
    "\n",
    "\n",
    "\n",
    "\n",
    "\n",
    "\n",
    "\n",
    "\n",
    "\n",
    "\n",
    "\n",
    "\n",
    "\n",
    "\n",
    "\n",
    "\n",
    "\n",
    "\n",
    "It can be seen that 6 components should be able to sufficiently represent our data..."
   ]
  },
  {
   "cell_type": "code",
   "execution_count": 105,
   "metadata": {},
   "outputs": [
    {
     "data": {
      "text/plain": [
       "array([[ -1.86718471e-04,   2.45826555e-04,  -1.77676967e-04,\n",
       "         -1.55749025e-04,  -1.21613340e-04,  -1.02414466e-04],\n",
       "       [ -1.05056105e-03,   8.91018313e-04,  -1.79403927e-03,\n",
       "          1.98016266e-04,   3.64425371e-06,  -2.78316207e-05],\n",
       "       [  3.45619874e-03,  -1.16543419e-03,   4.52284265e-03,\n",
       "          8.26495330e-04,   1.29276807e-03,  -9.68788732e-04],\n",
       "       ..., \n",
       "       [  5.80922471e-04,   5.42526947e-04,   9.21698721e-04,\n",
       "         -8.20842504e-05,   1.17708624e-04,   9.91447816e-04],\n",
       "       [ -8.41821709e-04,  -2.44533315e-04,  -1.50457846e-03,\n",
       "          3.55657620e-04,  -6.74713670e-04,   1.71056748e-04],\n",
       "       [  7.20121973e-04,   2.33672473e-03,   1.42921270e-03,\n",
       "          1.71700871e-03,  -3.57351370e-03,  -6.13279796e-04]])"
      ]
     },
     "execution_count": 105,
     "metadata": {},
     "output_type": "execute_result"
    }
   ],
   "source": [
    "pca_6 = PCA(n_components=6)\n",
    "pca_6.fit_transform(df)"
   ]
  },
  {
   "cell_type": "code",
   "execution_count": 106,
   "metadata": {},
   "outputs": [
    {
     "name": "stdout",
     "output_type": "stream",
     "text": [
      "                0         1         2         3         4         5   \\\n",
      "PC-1 -8.643067e-20  0.000010 -0.000001  0.000106  0.000010 -0.000001   \n",
      "PC-2  1.763481e-17  0.000078 -0.000030 -0.000075  0.000079 -0.000031   \n",
      "PC-3 -1.161939e-17  0.000027  0.000076 -0.000062  0.000029  0.000075   \n",
      "PC-4 -1.017142e-16 -0.000077  0.000014  0.000082 -0.000076  0.000015   \n",
      "PC-5  1.974816e-18  0.000056 -0.000070 -0.000165  0.000056 -0.000072   \n",
      "PC-6 -3.710026e-18  0.000077 -0.000084  0.000331  0.000079 -0.000088   \n",
      "\n",
      "                6         7         8         9     ...           24  \\\n",
      "PC-1  1.109071e-08  0.000051  0.000051  0.000113    ...    -0.000009   \n",
      "PC-2  5.054252e-09  0.000037  0.000037 -0.000029    ...    -0.000003   \n",
      "PC-3 -2.754822e-10 -0.000034 -0.000034  0.000151    ...     0.000009   \n",
      "PC-4 -1.871305e-09 -0.000053 -0.000053  0.000198    ...    -0.000001   \n",
      "PC-5 -9.919255e-09  0.000246  0.000246  0.000039    ...    -0.000063   \n",
      "PC-6 -6.605608e-09 -0.000593 -0.000593  0.000334    ...     0.000078   \n",
      "\n",
      "            25        26        27        28        29        30        31  \\\n",
      "PC-1  0.000238 -0.000442  0.004028  0.000346  0.000723 -0.000060  0.071097   \n",
      "PC-2  0.003252 -0.000537  0.007805  0.000504 -0.000266 -0.000268  0.076495   \n",
      "PC-3 -0.002001 -0.001733 -0.003533  0.000236  0.000324  0.000085 -0.130237   \n",
      "PC-4  0.003106 -0.006498  0.004351  0.000077 -0.000798  0.000219  0.040163   \n",
      "PC-5  0.007593  0.004436  0.013103  0.000965  0.000520  0.003023  0.971976   \n",
      "PC-6 -0.007892  0.000266 -0.002032 -0.003821  0.001412  0.000738  0.159589   \n",
      "\n",
      "            32        33  \n",
      "PC-1  0.937354 -0.053109  \n",
      "PC-2 -0.122985 -0.077306  \n",
      "PC-3  0.214757 -0.005211  \n",
      "PC-4 -0.242326 -0.051291  \n",
      "PC-5 -0.024302 -0.149878  \n",
      "PC-6  0.025770  0.982807  \n",
      "\n",
      "[6 rows x 34 columns]\n"
     ]
    }
   ],
   "source": [
    "print pd.DataFrame(pca_6.components_,index = ['PC-1','PC-2','PC-3','PC-4','PC-5','PC-6'])"
   ]
  },
  {
   "cell_type": "code",
   "execution_count": 107,
   "metadata": {},
   "outputs": [
    {
     "name": "stdout",
     "output_type": "stream",
     "text": [
      "(array([32]),) makes up 0.93735351755% of PC0\n",
      "(array([31]),) makes up 0.0764953111569% of PC1\n",
      "(array([19]),) makes up 0.859851381655% of PC2\n",
      "(array([20]),) makes up 0.179767506002% of PC3\n",
      "(array([31]),) makes up 0.971975891233% of PC4\n",
      "(array([33]),) makes up 0.982806973767% of PC5\n"
     ]
    }
   ],
   "source": [
    "foo = pca_6.components_.shape\n",
    "components = []\n",
    "for i in range(6):\n",
    "    max_component_percent = np.max(pca_6.components_[i])\n",
    "    max_component_col_id = np.where(pca_6.components_[i] == max_component_percent)\n",
    "    print(\"{} makes up {}% of PC{}\".format(max_component_col_id,max_component_percent,i))\n",
    "    components.append(max_component_col_id)\n"
   ]
  },
  {
   "cell_type": "code",
   "execution_count": 108,
   "metadata": {},
   "outputs": [
    {
     "name": "stdout",
     "output_type": "stream",
     "text": [
      "37\n"
     ]
    }
   ],
   "source": [
    "#Map numbers back to data\n",
    "data_label = ['time_stamp', 'id', 'numberOfWalls', 'hub_x','hub_y','hub_yaw','ball_x','ball_y','ball_z', 'rd1','rd2','rd3',\n",
    "             'LVWx','LVWy','LVWz','LAWx','LAWy','LAWz','RVWx', 'RVWy', 'RVWz', 'RAWx', 'RAWy', 'RAWz', 'LVRx', 'LVRy', 'LVRz',\n",
    "             'LARx', 'LARy', 'LARz','RVRx', 'RVRy', 'RVRz', 'RARx', 'RARy', 'RARz', 'resetcounter', 'checkcorrect', '#Walls']\n",
    "data_labels = ['Time','ID','Mount_X','Mount_Y','Mount_Yaw','Pos_x','Pos_y','Pos_z','Yaw','Pitch','Roll','Linear_Velocity_X_World','Linear_Velocity_Y_World','Linear_Velocity_Z_World','Linear_Acceleration_X_World','Linear_Acceleration_Y_World','Linear_Acceleration_Z_World','Rotational_Velocity_X_World','Rotational_Velocity_Y_World','Rotational_Velocity_Z_World','Rotational_Acceleration_X_World','Rotational_Acceleration_Y_World','Rotational_Acceleration_Z_World','Linear_Velocity_X_Relative','Linear_Velocity_Y_Relative','Linear_Velocity_Z_Relative','Linear_Acceleration_X_Relative','Linear_Acceleration_Y_Relative','Linear_Acceleration_Z_Relative_Relative','Rotational_Velocity_X_Relative','Rotational_Velocity_Y_Relative','Rotational_Velocity_Z_Relative','Rotational_Acceleration_X_Relative','Rotational_Acceleration_Y_Relatve','Rotational_Acceleration_Z_Relative','ResetID','checkCorrectness' ]\n",
    "print(len(data_labels))"
   ]
  },
  {
   "cell_type": "code",
   "execution_count": 109,
   "metadata": {
    "collapsed": true
   },
   "outputs": [],
   "source": [
    "del data_labels[36]\n",
    "del data_labels[1]\n",
    "del data_labels[0]"
   ]
  },
  {
   "cell_type": "code",
   "execution_count": 110,
   "metadata": {},
   "outputs": [
    {
     "name": "stdout",
     "output_type": "stream",
     "text": [
      "PC0 is mostly made up from Rotational_Acceleration_Z_Relative\n",
      "PC1 is mostly made up from Rotational_Acceleration_Y_Relatve\n",
      "PC2 is mostly made up from Rotational_Acceleration_Y_World\n",
      "PC3 is mostly made up from Rotational_Acceleration_Z_World\n",
      "PC4 is mostly made up from Rotational_Acceleration_Y_Relatve\n",
      "PC5 is mostly made up from ResetID\n"
     ]
    }
   ],
   "source": [
    "import re\n",
    "for count, component in enumerate(components):\n",
    "    col = re.findall(r'\\d+', str(component))\n",
    "    print(\"PC{} is mostly made up from {}\".format(count,data_labels[int(col[0])]))"
   ]
  },
  {
   "cell_type": "code",
   "execution_count": null,
   "metadata": {
    "collapsed": true
   },
   "outputs": [],
   "source": []
  }
 ],
 "metadata": {
  "kernelspec": {
   "display_name": "Python 2",
   "language": "python",
   "name": "python2"
  },
  "language_info": {
   "codemirror_mode": {
    "name": "ipython",
    "version": 2
   },
   "file_extension": ".py",
   "mimetype": "text/x-python",
   "name": "python",
   "nbconvert_exporter": "python",
   "pygments_lexer": "ipython2",
   "version": "2.7.15"
  }
 },
 "nbformat": 4,
 "nbformat_minor": 2
}
