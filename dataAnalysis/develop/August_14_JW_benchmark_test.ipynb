{
 "cells": [
  {
   "cell_type": "markdown",
   "metadata": {},
   "source": [
    "# The purpose of this notebook is to run a benchmark test on the different size transition matrices to find a good size to have our code run on"
   ]
  },
  {
   "cell_type": "code",
   "execution_count": 119,
   "metadata": {},
   "outputs": [
    {
     "name": "stdout",
     "output_type": "stream",
     "text": [
      "The version_information extension is already loaded. To reload it, use:\n",
      "  %reload_ext version_information\n"
     ]
    }
   ],
   "source": [
    "import pandas as pd\n",
    "import numpy as np\n",
    "from mapping import Mapping\n",
    "from scipy import sparse\n",
    "from sklearn.preprocessing import normalize\n",
    "from random import randint\n",
    "import time\n",
    "import seaborn as sns\n",
    "\n",
    "%load_ext version_information\n",
    "%version_information numpy, pandas, matplotlib\n",
    "%version_information\n",
    "fig_prefix = \"../figures/2018-08-14_jw-benchmark_test_\"\n",
    "data_prefix = \"../data/2018-08-14_jw-benchmark_test_\""
   ]
  },
  {
   "cell_type": "markdown",
   "metadata": {},
   "source": [
    "## Define the functions used in the test"
   ]
  },
  {
   "cell_type": "code",
   "execution_count": 120,
   "metadata": {},
   "outputs": [],
   "source": [
    "def crossproduct_sparse(P,Q, size):\n",
    "    start_time = time.time()\n",
    "    k = size #K is used for the number of states each configuration can be in. This needs to be the same for all configurations\n",
    "            # And this isnt a bad assumption because all of the configurations should be discretized the same way\n",
    "    if(P.get_shape()[0] != P.get_shape()[1] or Q.get_shape()[0] != Q.get_shape()[1]):\n",
    "        print(\"[Error] the transition matrices should be square!\")\n",
    "        print(P.get_shape())\n",
    "        print(Q.get_shape())\n",
    "        return None\n",
    "    \n",
    "    length_P = P.get_shape()[0]\n",
    "    length_Q = Q.get_shape()[0]\n",
    "    \n",
    "    d_M1 = {}\n",
    "    for key in P.keys():\n",
    "        new_key = key + ((1,),)\n",
    "        d_M1[new_key] = P.get(key)\n",
    "\n",
    "    d_M2 = {}\n",
    "    for key in Q.keys():\n",
    "        new_key = key + ((2,),)\n",
    "        d_M2[new_key] = Q.get(key)\n",
    "    print(\"preparing all the data took {} seconds\".format(time.time()-start_time))   \n",
    "    PQ = sparse.dok_matrix( (length_P*length_Q,length_P*length_Q), dtype=np.float32)\n",
    "    for key_1,value_1 in d_M1.iteritems():\n",
    "        for key_2,value_2 in d_M2.iteritems():\n",
    "            #The new key is in the format of (x_1,y_1,yaw_1,x_2,y_2,yaw_2,...,x_n,y_n,yaw_n, [1,2,...,n])\n",
    "            #Note: The (x,y,yaw) should also just be a map3dTo1D\n",
    "            #By doing this format we can track back the states of different configurations\n",
    "            combined_key = key_1[:-1] + key_2[:-1] + (key_1[-1] + key_2[-1],)\n",
    "            x_map = y_map = 0\n",
    "            for i in range(len(key_1[-1] + key_2[-1],)):\n",
    "                x_map += combined_key[2 * i] * (k ** i)\n",
    "                y_map += combined_key[1 + 2 * i] * (k ** i)\n",
    "            PQ[x_map,y_map] = value_1 * value_2\n",
    "    print(\"completing took {} seconds\".format(time.time()-start_time))           \n",
    "    return PQ"
   ]
  },
  {
   "cell_type": "code",
   "execution_count": 121,
   "metadata": {},
   "outputs": [],
   "source": [
    "def createRandomSparseMatrix(n):\n",
    "    new_matrix = sparse.dok_matrix( (n,n), dtype=np.float32)\n",
    "    empty_percentage = 1 - 0.993707205845\n",
    "    total_non_zeroes = empty_percentage * (n*n)\n",
    "\n",
    "    min_number_of_events = 1 #This is arbitrary\n",
    "    max_number_of_events = 1000 #This is arbitrary\n",
    "    non_zero_locations = []\n",
    "    #Manually add along the diagnol so that way all rows have an action\n",
    "    for i in range(n):\n",
    "        non_zero_locations.append((i,i))\n",
    "    while (len(non_zero_locations) < total_non_zeroes):\n",
    "        new_x = randint(0, n-1)\n",
    "        new_y = randint(0, n-1)\n",
    "        if (new_x, new_y) not in non_zero_locations:\n",
    "            non_zero_locations.append((new_x,new_y))\n",
    "    for coordinate in non_zero_locations:\n",
    "        new_matrix[coordinate[0], coordinate[1]] = randint(min_number_of_events,max_number_of_events)\n",
    "    normalized_new_matrix = normalize(new_matrix, norm='l1', axis=1)\n",
    "    return normalized_new_matrix"
   ]
  },
  {
   "cell_type": "markdown",
   "metadata": {},
   "source": [
    "## Start the test"
   ]
  },
  {
   "cell_type": "code",
   "execution_count": 122,
   "metadata": {},
   "outputs": [],
   "source": [
    "max_waiting_time = 100 #In seconds\n",
    "results = []\n",
    "continue_flag = 1\n",
    "size = 2"
   ]
  },
  {
   "cell_type": "code",
   "execution_count": 123,
   "metadata": {},
   "outputs": [
    {
     "name": "stdout",
     "output_type": "stream",
     "text": [
      "preparing all the data took 0.000115871429443 seconds\n",
      "completing took 0.000941038131714 seconds\n",
      "(2, 0.0010230541229248047)\n",
      "preparing all the data took 0.000179052352905 seconds\n",
      "completing took 0.00157618522644 seconds\n",
      "(4, 0.0019459724426269531)\n",
      "preparing all the data took 0.000347852706909 seconds\n",
      "completing took 0.00398993492126 seconds\n",
      "(8, 0.004680156707763672)\n",
      "preparing all the data took 0.000670909881592 seconds\n",
      "completing took 0.0123119354248 seconds\n",
      "(16, 0.012980937957763672)\n",
      "preparing all the data took 0.00102210044861 seconds\n",
      "completing took 0.0241439342499 seconds\n",
      "(32, 0.024631977081298828)\n",
      "preparing all the data took 0.00105810165405 seconds\n",
      "completing took 0.0672640800476 seconds\n",
      "(64, 0.06781911849975586)\n",
      "preparing all the data took 0.0018949508667 seconds\n",
      "completing took 0.30325293541 seconds\n",
      "(128, 0.30425286293029785)\n",
      "preparing all the data took 0.0055468082428 seconds\n",
      "completing took 2.6497130394 seconds\n",
      "(256, 2.675199031829834)\n",
      "preparing all the data took 0.0237929821014 seconds\n",
      "completing took 40.8270618916 seconds\n",
      "(512, 41.49064087867737)\n",
      "preparing all the data took 0.0883240699768 seconds\n",
      "completing took 708.873939037 seconds\n",
      "(1024, 732.7939741611481)\n"
     ]
    }
   ],
   "source": [
    "#The test will work like this. We will keep running until there exists a test that goes over the time constraint given.\n",
    "while(continue_flag == 1):\n",
    "    test_matrix = createRandomSparseMatrix(size)\n",
    "    sparse_test_matrix = sparse.dok_matrix(test_matrix)\n",
    "    test_time_start = time.time()\n",
    "    crossproduct_sparse(sparse_test_matrix,sparse_test_matrix,size)\n",
    "    results.append( (size, time.time() - test_time_start) )\n",
    "    if(time.time() - test_time_start > max_waiting_time):\n",
    "        continue_flag = 0\n",
    "    size = size * 2"
   ]
  },
  {
   "cell_type": "code",
   "execution_count": 124,
   "metadata": {},
   "outputs": [
    {
     "data": {
      "text/plain": [
       "[(2, 0.0010211467742919922),\n",
       " (4, 0.0019440650939941406),\n",
       " (8, 0.004678010940551758),\n",
       " (16, 0.01297903060913086),\n",
       " (32, 0.024630069732666016),\n",
       " (64, 0.06781816482543945),\n",
       " (128, 0.30425190925598145),\n",
       " (256, 2.6751980781555176),\n",
       " (512, 41.49063682556152),\n",
       " (1024, 732.7939710617065)]"
      ]
     },
     "execution_count": 124,
     "metadata": {},
     "output_type": "execute_result"
    }
   ],
   "source": [
    "results"
   ]
  },
  {
   "cell_type": "code",
   "execution_count": 125,
   "metadata": {},
   "outputs": [
    {
     "data": {
      "text/html": [
       "<div>\n",
       "<style scoped>\n",
       "    .dataframe tbody tr th:only-of-type {\n",
       "        vertical-align: middle;\n",
       "    }\n",
       "\n",
       "    .dataframe tbody tr th {\n",
       "        vertical-align: top;\n",
       "    }\n",
       "\n",
       "    .dataframe thead th {\n",
       "        text-align: right;\n",
       "    }\n",
       "</style>\n",
       "<table border=\"1\" class=\"dataframe\">\n",
       "  <thead>\n",
       "    <tr style=\"text-align: right;\">\n",
       "      <th></th>\n",
       "      <th>n</th>\n",
       "      <th>seconds</th>\n",
       "    </tr>\n",
       "  </thead>\n",
       "  <tbody>\n",
       "    <tr>\n",
       "      <th>0</th>\n",
       "      <td>2</td>\n",
       "      <td>0.001021</td>\n",
       "    </tr>\n",
       "    <tr>\n",
       "      <th>1</th>\n",
       "      <td>4</td>\n",
       "      <td>0.001944</td>\n",
       "    </tr>\n",
       "    <tr>\n",
       "      <th>2</th>\n",
       "      <td>8</td>\n",
       "      <td>0.004678</td>\n",
       "    </tr>\n",
       "    <tr>\n",
       "      <th>3</th>\n",
       "      <td>16</td>\n",
       "      <td>0.012979</td>\n",
       "    </tr>\n",
       "    <tr>\n",
       "      <th>4</th>\n",
       "      <td>32</td>\n",
       "      <td>0.024630</td>\n",
       "    </tr>\n",
       "    <tr>\n",
       "      <th>5</th>\n",
       "      <td>64</td>\n",
       "      <td>0.067818</td>\n",
       "    </tr>\n",
       "    <tr>\n",
       "      <th>6</th>\n",
       "      <td>128</td>\n",
       "      <td>0.304252</td>\n",
       "    </tr>\n",
       "    <tr>\n",
       "      <th>7</th>\n",
       "      <td>256</td>\n",
       "      <td>2.675198</td>\n",
       "    </tr>\n",
       "    <tr>\n",
       "      <th>8</th>\n",
       "      <td>512</td>\n",
       "      <td>41.490637</td>\n",
       "    </tr>\n",
       "    <tr>\n",
       "      <th>9</th>\n",
       "      <td>1024</td>\n",
       "      <td>732.793971</td>\n",
       "    </tr>\n",
       "  </tbody>\n",
       "</table>\n",
       "</div>"
      ],
      "text/plain": [
       "      n     seconds\n",
       "0     2    0.001021\n",
       "1     4    0.001944\n",
       "2     8    0.004678\n",
       "3    16    0.012979\n",
       "4    32    0.024630\n",
       "5    64    0.067818\n",
       "6   128    0.304252\n",
       "7   256    2.675198\n",
       "8   512   41.490637\n",
       "9  1024  732.793971"
      ]
     },
     "execution_count": 125,
     "metadata": {},
     "output_type": "execute_result"
    }
   ],
   "source": [
    "df = pd.DataFrame(results, columns=['n', 'seconds'])\n",
    "df"
   ]
  },
  {
   "cell_type": "code",
   "execution_count": 126,
   "metadata": {},
   "outputs": [
    {
     "data": {
      "text/html": [
       "<div>\n",
       "<style scoped>\n",
       "    .dataframe tbody tr th:only-of-type {\n",
       "        vertical-align: middle;\n",
       "    }\n",
       "\n",
       "    .dataframe tbody tr th {\n",
       "        vertical-align: top;\n",
       "    }\n",
       "\n",
       "    .dataframe thead th {\n",
       "        text-align: right;\n",
       "    }\n",
       "</style>\n",
       "<table border=\"1\" class=\"dataframe\">\n",
       "  <thead>\n",
       "    <tr style=\"text-align: right;\">\n",
       "      <th></th>\n",
       "      <th>n</th>\n",
       "      <th>seconds</th>\n",
       "      <th>log(seconds)</th>\n",
       "    </tr>\n",
       "  </thead>\n",
       "  <tbody>\n",
       "    <tr>\n",
       "      <th>0</th>\n",
       "      <td>2</td>\n",
       "      <td>0.001021</td>\n",
       "      <td>-6.886829</td>\n",
       "    </tr>\n",
       "    <tr>\n",
       "      <th>1</th>\n",
       "      <td>4</td>\n",
       "      <td>0.001944</td>\n",
       "      <td>-6.242974</td>\n",
       "    </tr>\n",
       "    <tr>\n",
       "      <th>2</th>\n",
       "      <td>8</td>\n",
       "      <td>0.004678</td>\n",
       "      <td>-5.364882</td>\n",
       "    </tr>\n",
       "    <tr>\n",
       "      <th>3</th>\n",
       "      <td>16</td>\n",
       "      <td>0.012979</td>\n",
       "      <td>-4.344420</td>\n",
       "    </tr>\n",
       "    <tr>\n",
       "      <th>4</th>\n",
       "      <td>32</td>\n",
       "      <td>0.024630</td>\n",
       "      <td>-3.703787</td>\n",
       "    </tr>\n",
       "    <tr>\n",
       "      <th>5</th>\n",
       "      <td>64</td>\n",
       "      <td>0.067818</td>\n",
       "      <td>-2.690925</td>\n",
       "    </tr>\n",
       "    <tr>\n",
       "      <th>6</th>\n",
       "      <td>128</td>\n",
       "      <td>0.304252</td>\n",
       "      <td>-1.189899</td>\n",
       "    </tr>\n",
       "    <tr>\n",
       "      <th>7</th>\n",
       "      <td>256</td>\n",
       "      <td>2.675198</td>\n",
       "      <td>0.984023</td>\n",
       "    </tr>\n",
       "    <tr>\n",
       "      <th>8</th>\n",
       "      <td>512</td>\n",
       "      <td>41.490637</td>\n",
       "      <td>3.725468</td>\n",
       "    </tr>\n",
       "    <tr>\n",
       "      <th>9</th>\n",
       "      <td>1024</td>\n",
       "      <td>732.793971</td>\n",
       "      <td>6.596865</td>\n",
       "    </tr>\n",
       "  </tbody>\n",
       "</table>\n",
       "</div>"
      ],
      "text/plain": [
       "      n     seconds  log(seconds)\n",
       "0     2    0.001021     -6.886829\n",
       "1     4    0.001944     -6.242974\n",
       "2     8    0.004678     -5.364882\n",
       "3    16    0.012979     -4.344420\n",
       "4    32    0.024630     -3.703787\n",
       "5    64    0.067818     -2.690925\n",
       "6   128    0.304252     -1.189899\n",
       "7   256    2.675198      0.984023\n",
       "8   512   41.490637      3.725468\n",
       "9  1024  732.793971      6.596865"
      ]
     },
     "execution_count": 126,
     "metadata": {},
     "output_type": "execute_result"
    }
   ],
   "source": [
    "df['log(seconds)'] = np.log(df['seconds'])\n",
    "df"
   ]
  },
  {
   "cell_type": "markdown",
   "metadata": {},
   "source": [
    "## Create the appropiate graphics"
   ]
  },
  {
   "cell_type": "code",
   "execution_count": 127,
   "metadata": {},
   "outputs": [
    {
     "data": {
      "image/png": "[encoded data removed]",
      "text/plain": [
       "<Figure size 432x288 with 1 Axes>"
      ]
     },
     "metadata": {},
     "output_type": "display_data"
    }
   ],
   "source": [
    "#Create appropiate log figure\n",
    "sns.set(style=\"whitegrid\")\n",
    "ax = sns.barplot(x=df['n'], y=df['log(seconds)'], data=df).set_title('Size of n x n sparse matrix vs log(time) to calculate cross product')\n",
    "ax.figure.savefig(fig_prefix + \"log_seconds_for_completion\")"
   ]
  },
  {
   "cell_type": "code",
   "execution_count": 128,
   "metadata": {},
   "outputs": [
    {
     "data": {
      "image/png": "[encoded data removed]",
      "text/plain": [
       "<Figure size 432x288 with 1 Axes>"
      ]
     },
     "metadata": {},
     "output_type": "display_data"
    }
   ],
   "source": [
    "#Create appropiate figure\n",
    "sns.set(style=\"whitegrid\")\n",
    "ax = sns.barplot(x=df['n'], y=df['seconds'], data=df).set_title('Size of n x n sparse matrix vs time to calculate cross product')\n",
    "ax.figure.savefig(fig_prefix + \"seconds_for_completion\")"
   ]
  },
  {
   "cell_type": "code",
   "execution_count": null,
   "metadata": {},
   "outputs": [],
   "source": []
  }
 ],
 "metadata": {
  "kernelspec": {
   "display_name": "Python 2",
   "language": "python",
   "name": "python2"
  },
  "language_info": {
   "codemirror_mode": {
    "name": "ipython",
    "version": 2
   },
   "file_extension": ".py",
   "mimetype": "text/x-python",
   "name": "python",
   "nbconvert_exporter": "python",
   "pygments_lexer": "ipython2",
   "version": "2.7.13"
  }
 },
 "nbformat": 4,
 "nbformat_minor": 2
}
