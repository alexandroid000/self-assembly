{
 "cells": [
  {
   "cell_type": "markdown",
   "metadata": {},
   "source": [
    "# The purpose of this notebook is to run a benchmark test on the different size transition matrices to find a good size to have our code run on"
   ]
  },
  {
   "cell_type": "code",
   "execution_count": 23,
   "metadata": {},
   "outputs": [],
   "source": [
    "import pandas as pd\n",
    "import numpy as np\n",
    "from scipy import sparse\n",
    "from sklearn.preprocessing import normalize\n",
    "from random import randint\n",
    "import time\n",
    "import seaborn as sns\n",
    "import math\n",
    "\n",
    "import pycuda.autoinit\n",
    "import pycuda.driver as cuda\n",
    "\n",
    "from pycuda.compiler import SourceModule\n",
    "\n",
    "fig_prefix = \"../figures/2018-08-14_jw-benchmark_test_\"\n",
    "data_prefix = \"../data/2018-08-14_jw-benchmark_test_\""
   ]
  },
  {
   "cell_type": "code",
   "execution_count": 24,
   "metadata": {},
   "outputs": [],
   "source": [
    "RUN_CUDA = 1"
   ]
  },
  {
   "cell_type": "markdown",
   "metadata": {},
   "source": [
    "## Define the functions used in the test"
   ]
  },
  {
   "cell_type": "code",
   "execution_count": 25,
   "metadata": {},
   "outputs": [],
   "source": [
    "def createRandomSparseMatrix(n):\n",
    "    new_matrix = sparse.dok_matrix( (n,n), dtype=np.float32)\n",
    "    empty_percentage = 1 - 0.993707205845\n",
    "    total_non_zeroes = empty_percentage * (n*n)\n",
    "\n",
    "    min_number_of_events = 1 #This is arbitrary\n",
    "    max_number_of_events = 1000 #This is arbitrary\n",
    "    non_zero_locations = []\n",
    "    #Manually add along the diagnol so that way all rows have an action\n",
    "    for i in range(n):\n",
    "        non_zero_locations.append((i,i))\n",
    "    while (len(non_zero_locations) < total_non_zeroes):\n",
    "        new_x = randint(0, n-1)\n",
    "        new_y = randint(0, n-1)\n",
    "        if (new_x, new_y) not in non_zero_locations:\n",
    "            non_zero_locations.append((new_x,new_y))\n",
    "    for coordinate in non_zero_locations:\n",
    "        new_matrix[coordinate[0], coordinate[1]] = randint(min_number_of_events,max_number_of_events)\n",
    "    normalized_new_matrix = normalize(new_matrix, norm='l1', axis=1)\n",
    "    return normalized_new_matrix"
   ]
  },
  {
   "cell_type": "markdown",
   "metadata": {},
   "source": [
    "### The following are for non-cuda implementation"
   ]
  },
  {
   "cell_type": "code",
   "execution_count": 26,
   "metadata": {},
   "outputs": [],
   "source": [
    "def crossproduct_sparse(P,Q, size):\n",
    "    start_time = time.time()\n",
    "    k = size #K is used for the number of states each configuration can be in. This needs to be the same for all configurations\n",
    "            # And this isnt a bad assumption because all of the configurations should be discretized the same way\n",
    "    if(P.get_shape()[0] != P.get_shape()[1] or Q.get_shape()[0] != Q.get_shape()[1]):\n",
    "        print(\"[Error] the transition matrices should be square!\")\n",
    "        print(P.get_shape())\n",
    "        print(Q.get_shape())\n",
    "        return None\n",
    "    \n",
    "    length_P = P.get_shape()[0]\n",
    "    length_Q = Q.get_shape()[0]\n",
    "    \n",
    "    d_M1 = {}\n",
    "    for key in P.keys():\n",
    "        new_key = key + ((1,),)\n",
    "        d_M1[new_key] = P.get(key)\n",
    "\n",
    "    d_M2 = {}\n",
    "    for key in Q.keys():\n",
    "        new_key = key + ((2,),)\n",
    "        d_M2[new_key] = Q.get(key)\n",
    "    print(\"preparing all the data took {} seconds\".format(time.time()-start_time))   \n",
    "    PQ = sparse.dok_matrix( (length_P*length_Q,length_P*length_Q), dtype=np.float32)\n",
    "    for key_1,value_1 in d_M1.iteritems():\n",
    "        for key_2,value_2 in d_M2.iteritems():\n",
    "            #The new key is in the format of (x_1,y_1,yaw_1,x_2,y_2,yaw_2,...,x_n,y_n,yaw_n, [1,2,...,n])\n",
    "            #Note: The (x,y,yaw) should also just be a map3dTo1D\n",
    "            #By doing this format we can track back the states of different configurations\n",
    "            combined_key = key_1[:-1] + key_2[:-1] + (key_1[-1] + key_2[-1],)\n",
    "            x_map = y_map = 0\n",
    "            for i in range(len(key_1[-1] + key_2[-1],)):\n",
    "                x_map += combined_key[2 * i] * (k ** i)\n",
    "                y_map += combined_key[1 + 2 * i] * (k ** i)\n",
    "            PQ[x_map,y_map] = value_1 * value_2\n",
    "    print(\"completing took {} seconds\".format(time.time()-start_time))           \n",
    "    return PQ"
   ]
  },
  {
   "cell_type": "markdown",
   "metadata": {},
   "source": [
    "### The following are for cuda implementation"
   ]
  },
  {
   "cell_type": "code",
   "execution_count": 36,
   "metadata": {},
   "outputs": [],
   "source": [
    "def cuda_sparse(sparse_M1, sparse_M2, size):\n",
    "    gpu_d = {}\n",
    "\n",
    "    d_M1 = {}\n",
    "\n",
    "    for key in sparse_M1.keys():\n",
    "        new_key = key + ((1,),)\n",
    "        d_M1[new_key] = sparse_M1.get(key)\n",
    "\n",
    "    d_M2 = {}\n",
    "    for key in sparse_M2.keys():\n",
    "        new_key = key + ((2,),)\n",
    "        d_M2[new_key] = sparse_M2.get(key)\n",
    "    counter = 0\n",
    "    flag = 1\n",
    "    l_M1 = []\n",
    "    l_M2 = []\n",
    "    v_M1 = []\n",
    "    v_M2 = []\n",
    "    for key_1,value_1 in d_M1.iteritems():\n",
    "        for key_2,value_2 in d_M2.iteritems():\n",
    "            #The new key is in the format of (x_1,y_1,yaw_1,x_2,y_2,yaw_2,...,x_n,y_n,yaw_n, [1,2,...,n])\n",
    "            #Note: The (x,y,yaw) should also just be a map3dTo1D\n",
    "            #By doing this format we can track back the states of different configurations\n",
    "            combined_key = key_1[:-1] + key_2[:-1] + (key_1[-1] + key_2[-1],)\n",
    "            gpu_d[counter] = combined_key\n",
    "            counter += 1\n",
    "            if flag:\n",
    "                v_M2.append(value_2)\n",
    "                l_M2.append(key_2)\n",
    "        flag = 0\n",
    "        l_M1.append(key_1)\n",
    "        v_M1.append(value_1)\n",
    "        \n",
    "    out_N = max(len(v_M1),len(v_M2))\n",
    "    M1 = np.squeeze(np.asarray(v_M1))\n",
    "    M2 = np.squeeze(np.asarray(v_M2))\n",
    "    M1 = M1.astype(np.float32)\n",
    "    M2 = M2.astype(np.float32)\n",
    "    M1_gpu = cuda.mem_alloc(M1.nbytes)\n",
    "    M2_gpu = cuda.mem_alloc(M2.nbytes)\n",
    "\n",
    "    Out = np.zeros( (out_N, out_N))\n",
    "    Out = np.squeeze(np.asarray(Out))\n",
    "    Out = Out.astype(np.float32)\n",
    "    Out_gpu = cuda.mem_alloc(Out.nbytes)\n",
    "    \n",
    "    #Transfer the data over\n",
    "    cuda.memcpy_htod(M1_gpu, M1)\n",
    "    cuda.memcpy_htod(M2_gpu, M2)\n",
    "\n",
    "    #Create the kernel to be used\n",
    "    s = \"\"\"\n",
    "    __global__ void cross_sparse_product(float* A, float *B, float *C, int size)\n",
    "    {\n",
    "\n",
    "        int n = size;\n",
    "        int l = threadIdx.x;\n",
    "        int k = threadIdx.y;\n",
    "\n",
    "        if(l < n && k < n)\n",
    "        {\n",
    "            A[k*n + l] = B[l] * C[k];  \n",
    "        }\n",
    "\n",
    "    }\n",
    "    \"\"\"\n",
    "    mod = SourceModule(s)\n",
    "    \n",
    "    NUMBER_OF_THREADS = 1024\n",
    "    grid_size = int(math.ceil(float(out_N * out_N) / float(NUMBER_OF_THREADS)))\n",
    "\n",
    "    grid_size = int(math.ceil(math.sqrt(grid_size)))\n",
    "    grid_size\n",
    "\n",
    "    func = mod.get_function(\"cross_sparse_product\")\n",
    "    run_time = time.time()\n",
    "    # call the kernel on the card\n",
    "    func( Out_gpu, M1_gpu, M2_gpu, np.int32(out_N), grid=(grid_size,grid_size), block=(32,32,1) )\n",
    "    # copy back the result\n",
    "    cuda.memcpy_dtoh(Out, Out_gpu)\n",
    "    gpu_dense_time = time.time()-run_time\n",
    "\n",
    "    #Convert results into sparse matrix\n",
    "    N = original_M1.shape[0]\n",
    "    M = original_M2.shape[1]\n",
    "\n",
    "    print(\"New out matrix is {} x {}\".format(N*M, N*M))\n",
    "#    dense_out_matrix = np.zeros( (N*M, N*M) )\n",
    "#    k = N\n",
    "\n",
    "#    for value, new_key in gpu_d.iteritems():\n",
    "#        x_map = 0\n",
    "#        y_map = 0\n",
    "#        for i in range(len(new_key[-1])):\n",
    "#            x_map += new_key[2*i] * (k**i)\n",
    "#            y_map += new_key[1 +2*i] * (k**i)\n",
    "#        dense_out_matrix[x_map][y_map] = Out[value%out_N][value/out_N]"
   ]
  },
  {
   "cell_type": "markdown",
   "metadata": {},
   "source": [
    "## Start the test"
   ]
  },
  {
   "cell_type": "code",
   "execution_count": 41,
   "metadata": {},
   "outputs": [],
   "source": [
    "max_waiting_time = 60 #In seconds\n",
    "results = []\n",
    "continue_flag = 1\n",
    "size = 2"
   ]
  },
  {
   "cell_type": "code",
   "execution_count": 42,
   "metadata": {},
   "outputs": [],
   "source": [
    "#The test will work like this. We will keep running until there exists a test that goes over the time constraint given.\n",
    "while(continue_flag == 1 and RUN_CUDA == 0):\n",
    "    test_matrix = createRandomSparseMatrix(size)\n",
    "    sparse_test_matrix = sparse.dok_matrix(test_matrix)\n",
    "    test_time_start = time.time()\n",
    "    crossproduct_sparse(sparse_test_matrix,sparse_test_matrix,size)\n",
    "    results.append( (size, time.time() - test_time_start) )\n",
    "    if(time.time() - test_time_start > max_waiting_time):\n",
    "        continue_flag = 0\n",
    "    size = size * 2"
   ]
  },
  {
   "cell_type": "code",
   "execution_count": 43,
   "metadata": {},
   "outputs": [
    {
     "name": "stdout",
     "output_type": "stream",
     "text": [
      "New out matrix is 4 x 4\n",
      "New out matrix is 16 x 16\n",
      "New out matrix is 64 x 64\n",
      "New out matrix is 256 x 256\n",
      "New out matrix is 1024 x 1024\n",
      "New out matrix is 4096 x 4096\n",
      "New out matrix is 16384 x 16384\n",
      "New out matrix is 65536 x 65536\n",
      "New out matrix is 262144 x 262144\n",
      "New out matrix is 1048576 x 1048576\n"
     ]
    }
   ],
   "source": [
    "#The test will work like this. We will keep running until there exists a test that goes over the time constraint given.\n",
    "while(continue_flag == 1 and RUN_CUDA == 1):\n",
    "    original_M1= createRandomSparseMatrix(size)\n",
    "    original_M2= original_M1\n",
    "    #original_M1, and original_M2 need to be here for the code (it checks the size of the original matrices)\n",
    "    sparse_test_matrix = sparse.dok_matrix(original_M1)\n",
    "    test_time_start = time.time()\n",
    "    cuda_sparse(sparse_test_matrix,sparse_test_matrix,size)\n",
    "    results.append( (size, time.time() - test_time_start) )\n",
    "    if(time.time() - test_time_start > max_waiting_time):\n",
    "        continue_flag = 0\n",
    "    size = size * 2"
   ]
  },
  {
   "cell_type": "code",
   "execution_count": 44,
   "metadata": {},
   "outputs": [
    {
     "data": {
      "text/plain": [
       "[(2, 0.004128932952880859),\n",
       " (4, 0.0017080307006835938),\n",
       " (8, 0.0018429756164550781),\n",
       " (16, 0.002009153366088867),\n",
       " (32, 0.0030028820037841797),\n",
       " (64, 0.0075299739837646484),\n",
       " (128, 0.014429092407226562),\n",
       " (256, 0.15113186836242676),\n",
       " (512, 2.454699993133545),\n",
       " (1024, 157.8543140888214)]"
      ]
     },
     "execution_count": 44,
     "metadata": {},
     "output_type": "execute_result"
    }
   ],
   "source": [
    "results"
   ]
  },
  {
   "cell_type": "code",
   "execution_count": 45,
   "metadata": {},
   "outputs": [
    {
     "data": {
      "text/html": [
       "<div>\n",
       "<style scoped>\n",
       "    .dataframe tbody tr th:only-of-type {\n",
       "        vertical-align: middle;\n",
       "    }\n",
       "\n",
       "    .dataframe tbody tr th {\n",
       "        vertical-align: top;\n",
       "    }\n",
       "\n",
       "    .dataframe thead th {\n",
       "        text-align: right;\n",
       "    }\n",
       "</style>\n",
       "<table border=\"1\" class=\"dataframe\">\n",
       "  <thead>\n",
       "    <tr style=\"text-align: right;\">\n",
       "      <th></th>\n",
       "      <th>n</th>\n",
       "      <th>seconds</th>\n",
       "    </tr>\n",
       "  </thead>\n",
       "  <tbody>\n",
       "    <tr>\n",
       "      <th>0</th>\n",
       "      <td>2</td>\n",
       "      <td>0.004129</td>\n",
       "    </tr>\n",
       "    <tr>\n",
       "      <th>1</th>\n",
       "      <td>4</td>\n",
       "      <td>0.001708</td>\n",
       "    </tr>\n",
       "    <tr>\n",
       "      <th>2</th>\n",
       "      <td>8</td>\n",
       "      <td>0.001843</td>\n",
       "    </tr>\n",
       "    <tr>\n",
       "      <th>3</th>\n",
       "      <td>16</td>\n",
       "      <td>0.002009</td>\n",
       "    </tr>\n",
       "    <tr>\n",
       "      <th>4</th>\n",
       "      <td>32</td>\n",
       "      <td>0.003003</td>\n",
       "    </tr>\n",
       "    <tr>\n",
       "      <th>5</th>\n",
       "      <td>64</td>\n",
       "      <td>0.007530</td>\n",
       "    </tr>\n",
       "    <tr>\n",
       "      <th>6</th>\n",
       "      <td>128</td>\n",
       "      <td>0.014429</td>\n",
       "    </tr>\n",
       "    <tr>\n",
       "      <th>7</th>\n",
       "      <td>256</td>\n",
       "      <td>0.151132</td>\n",
       "    </tr>\n",
       "    <tr>\n",
       "      <th>8</th>\n",
       "      <td>512</td>\n",
       "      <td>2.454700</td>\n",
       "    </tr>\n",
       "    <tr>\n",
       "      <th>9</th>\n",
       "      <td>1024</td>\n",
       "      <td>157.854314</td>\n",
       "    </tr>\n",
       "  </tbody>\n",
       "</table>\n",
       "</div>"
      ],
      "text/plain": [
       "      n     seconds\n",
       "0     2    0.004129\n",
       "1     4    0.001708\n",
       "2     8    0.001843\n",
       "3    16    0.002009\n",
       "4    32    0.003003\n",
       "5    64    0.007530\n",
       "6   128    0.014429\n",
       "7   256    0.151132\n",
       "8   512    2.454700\n",
       "9  1024  157.854314"
      ]
     },
     "execution_count": 45,
     "metadata": {},
     "output_type": "execute_result"
    }
   ],
   "source": [
    "df = pd.DataFrame(results, columns=['n', 'seconds'])\n",
    "df"
   ]
  },
  {
   "cell_type": "code",
   "execution_count": 46,
   "metadata": {},
   "outputs": [
    {
     "data": {
      "text/html": [
       "<div>\n",
       "<style scoped>\n",
       "    .dataframe tbody tr th:only-of-type {\n",
       "        vertical-align: middle;\n",
       "    }\n",
       "\n",
       "    .dataframe tbody tr th {\n",
       "        vertical-align: top;\n",
       "    }\n",
       "\n",
       "    .dataframe thead th {\n",
       "        text-align: right;\n",
       "    }\n",
       "</style>\n",
       "<table border=\"1\" class=\"dataframe\">\n",
       "  <thead>\n",
       "    <tr style=\"text-align: right;\">\n",
       "      <th></th>\n",
       "      <th>n</th>\n",
       "      <th>seconds</th>\n",
       "      <th>log(seconds)</th>\n",
       "    </tr>\n",
       "  </thead>\n",
       "  <tbody>\n",
       "    <tr>\n",
       "      <th>0</th>\n",
       "      <td>2</td>\n",
       "      <td>0.004129</td>\n",
       "      <td>-5.489736</td>\n",
       "    </tr>\n",
       "    <tr>\n",
       "      <th>1</th>\n",
       "      <td>4</td>\n",
       "      <td>0.001708</td>\n",
       "      <td>-6.372414</td>\n",
       "    </tr>\n",
       "    <tr>\n",
       "      <th>2</th>\n",
       "      <td>8</td>\n",
       "      <td>0.001843</td>\n",
       "      <td>-6.296374</td>\n",
       "    </tr>\n",
       "    <tr>\n",
       "      <th>3</th>\n",
       "      <td>16</td>\n",
       "      <td>0.002009</td>\n",
       "      <td>-6.210042</td>\n",
       "    </tr>\n",
       "    <tr>\n",
       "      <th>4</th>\n",
       "      <td>32</td>\n",
       "      <td>0.003003</td>\n",
       "      <td>-5.808183</td>\n",
       "    </tr>\n",
       "    <tr>\n",
       "      <th>5</th>\n",
       "      <td>64</td>\n",
       "      <td>0.007530</td>\n",
       "      <td>-4.888864</td>\n",
       "    </tr>\n",
       "    <tr>\n",
       "      <th>6</th>\n",
       "      <td>128</td>\n",
       "      <td>0.014429</td>\n",
       "      <td>-4.238509</td>\n",
       "    </tr>\n",
       "    <tr>\n",
       "      <th>7</th>\n",
       "      <td>256</td>\n",
       "      <td>0.151132</td>\n",
       "      <td>-1.889603</td>\n",
       "    </tr>\n",
       "    <tr>\n",
       "      <th>8</th>\n",
       "      <td>512</td>\n",
       "      <td>2.454700</td>\n",
       "      <td>0.898005</td>\n",
       "    </tr>\n",
       "    <tr>\n",
       "      <th>9</th>\n",
       "      <td>1024</td>\n",
       "      <td>157.854314</td>\n",
       "      <td>5.061673</td>\n",
       "    </tr>\n",
       "  </tbody>\n",
       "</table>\n",
       "</div>"
      ],
      "text/plain": [
       "      n     seconds  log(seconds)\n",
       "0     2    0.004129     -5.489736\n",
       "1     4    0.001708     -6.372414\n",
       "2     8    0.001843     -6.296374\n",
       "3    16    0.002009     -6.210042\n",
       "4    32    0.003003     -5.808183\n",
       "5    64    0.007530     -4.888864\n",
       "6   128    0.014429     -4.238509\n",
       "7   256    0.151132     -1.889603\n",
       "8   512    2.454700      0.898005\n",
       "9  1024  157.854314      5.061673"
      ]
     },
     "execution_count": 46,
     "metadata": {},
     "output_type": "execute_result"
    }
   ],
   "source": [
    "df['log(seconds)'] = np.log(df['seconds'])\n",
    "df"
   ]
  },
  {
   "cell_type": "markdown",
   "metadata": {},
   "source": [
    "## Create the appropiate graphics"
   ]
  },
  {
   "cell_type": "code",
   "execution_count": 47,
   "metadata": {},
   "outputs": [
    {
     "data": {
      "image/png": "[encoded data removed]",
      "text/plain": [
       "<Figure size 432x288 with 1 Axes>"
      ]
     },
     "metadata": {},
     "output_type": "display_data"
    }
   ],
   "source": [
    "#Create appropiate log figure\n",
    "sns.set(style=\"whitegrid\")\n",
    "ax = sns.barplot(x=df['n'], y=df['log(seconds)'], data=df).set_title('Size of n x n sparse matrix vs log(time) to calculate cross product')\n",
    "ax.figure.savefig(fig_prefix + \"log_seconds_for_completion\")"
   ]
  },
  {
   "cell_type": "code",
   "execution_count": 48,
   "metadata": {},
   "outputs": [
    {
     "data": {
      "image/png": "[encoded data removed]",
      "text/plain": [
       "<Figure size 432x288 with 1 Axes>"
      ]
     },
     "metadata": {},
     "output_type": "display_data"
    }
   ],
   "source": [
    "#Create appropiate figure\n",
    "sns.set(style=\"whitegrid\")\n",
    "ax = sns.barplot(x=df['n'], y=df['seconds'], data=df).set_title('Size of n x n sparse matrix vs time to calculate cross product')\n",
    "ax.figure.savefig(fig_prefix + \"seconds_for_completion\")"
   ]
  },
  {
   "cell_type": "code",
   "execution_count": null,
   "metadata": {},
   "outputs": [],
   "source": []
  }
 ],
 "metadata": {
  "kernelspec": {
   "display_name": "snakes",
   "language": "python",
   "name": "snakes"
  },
  "language_info": {
   "codemirror_mode": {
    "name": "ipython",
    "version": 2
   },
   "file_extension": ".py",
   "mimetype": "text/x-python",
   "name": "python",
   "nbconvert_exporter": "python",
   "pygments_lexer": "ipython2",
   "version": "2.7.15"
  }
 },
 "nbformat": 4,
 "nbformat_minor": 2
}
