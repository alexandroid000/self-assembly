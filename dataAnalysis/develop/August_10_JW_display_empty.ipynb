{
 "cells": [
  {
   "cell_type": "markdown",
   "metadata": {},
   "source": [
    "# The purpose of this journal is to prove that the markov transition matrices are very empty so we should consider using a different data structure\n",
    "\n",
    "This experiment will be done by comparing the time to make and do operations on different data structures. Namely I will be focusing on the time to make the data structures (as this is a large bottleneck in 2018-07-22-jw-weaselball_analysis.ipynb), as well as the time it takes to do a cross product on 2 of the same data structure matrices."
   ]
  },
  {
   "cell_type": "markdown",
   "metadata": {},
   "source": [
    "## Import modules and define a few magic numbers"
   ]
  },
  {
   "cell_type": "code",
   "execution_count": 1,
   "metadata": {},
   "outputs": [],
   "source": [
    "import pandas as pd\n",
    "import numpy as np\n",
    "from mapping import Mapping\n",
    "%load_ext version_information\n",
    "%version_information numpy, pandas, matplotlib\n",
    "%version_information\n",
    "fig_prefix = \"../figuires/2018-07-22-jw-weaselball_analysis\"\n",
    "data_prefix = \"../data/2018-07-22-jw-weaselball_analysis_\""
   ]
  },
  {
   "cell_type": "markdown",
   "metadata": {},
   "source": [
    "## Get the data we want and clean it"
   ]
  },
  {
   "cell_type": "markdown",
   "metadata": {},
   "source": [
    "### First get the data"
   ]
  },
  {
   "cell_type": "code",
   "execution_count": 2,
   "metadata": {},
   "outputs": [
    {
     "name": "stdout",
     "output_type": "stream",
     "text": [
      "(56740222, 8)\n"
     ]
    },
    {
     "data": {
      "text/html": [
       "<div>\n",
       "<style scoped>\n",
       "    .dataframe tbody tr th:only-of-type {\n",
       "        vertical-align: middle;\n",
       "    }\n",
       "\n",
       "    .dataframe tbody tr th {\n",
       "        vertical-align: top;\n",
       "    }\n",
       "\n",
       "    .dataframe thead th {\n",
       "        text-align: right;\n",
       "    }\n",
       "</style>\n",
       "<table border=\"1\" class=\"dataframe\">\n",
       "  <thead>\n",
       "    <tr style=\"text-align: right;\">\n",
       "      <th></th>\n",
       "      <th>ID</th>\n",
       "      <th>X</th>\n",
       "      <th>Y</th>\n",
       "      <th>Yaw</th>\n",
       "      <th>ResetID</th>\n",
       "      <th>checkCorrectness</th>\n",
       "      <th>NumberOfWalls</th>\n",
       "    </tr>\n",
       "  </thead>\n",
       "  <tbody>\n",
       "    <tr>\n",
       "      <th>0</th>\n",
       "      <td>0</td>\n",
       "      <td>0.000000</td>\n",
       "      <td>0.0000</td>\n",
       "      <td>0.000000</td>\n",
       "      <td>1</td>\n",
       "      <td>0</td>\n",
       "      <td>0.0</td>\n",
       "    </tr>\n",
       "    <tr>\n",
       "      <th>1</th>\n",
       "      <td>0</td>\n",
       "      <td>-0.466000</td>\n",
       "      <td>-0.2796</td>\n",
       "      <td>0.292237</td>\n",
       "      <td>2</td>\n",
       "      <td>1</td>\n",
       "      <td>0.0</td>\n",
       "    </tr>\n",
       "    <tr>\n",
       "      <th>2</th>\n",
       "      <td>0</td>\n",
       "      <td>-0.465999</td>\n",
       "      <td>-0.2796</td>\n",
       "      <td>0.292237</td>\n",
       "      <td>2</td>\n",
       "      <td>1</td>\n",
       "      <td>0.0</td>\n",
       "    </tr>\n",
       "    <tr>\n",
       "      <th>3</th>\n",
       "      <td>0</td>\n",
       "      <td>-0.465999</td>\n",
       "      <td>-0.2796</td>\n",
       "      <td>0.292237</td>\n",
       "      <td>2</td>\n",
       "      <td>1</td>\n",
       "      <td>0.0</td>\n",
       "    </tr>\n",
       "    <tr>\n",
       "      <th>4</th>\n",
       "      <td>0</td>\n",
       "      <td>-0.465999</td>\n",
       "      <td>-0.2796</td>\n",
       "      <td>0.292237</td>\n",
       "      <td>2</td>\n",
       "      <td>1</td>\n",
       "      <td>0.0</td>\n",
       "    </tr>\n",
       "    <tr>\n",
       "      <th>5</th>\n",
       "      <td>0</td>\n",
       "      <td>-0.465999</td>\n",
       "      <td>-0.2796</td>\n",
       "      <td>0.292237</td>\n",
       "      <td>2</td>\n",
       "      <td>1</td>\n",
       "      <td>0.0</td>\n",
       "    </tr>\n",
       "    <tr>\n",
       "      <th>6</th>\n",
       "      <td>0</td>\n",
       "      <td>-0.465998</td>\n",
       "      <td>-0.2796</td>\n",
       "      <td>0.292237</td>\n",
       "      <td>2</td>\n",
       "      <td>1</td>\n",
       "      <td>0.0</td>\n",
       "    </tr>\n",
       "    <tr>\n",
       "      <th>7</th>\n",
       "      <td>0</td>\n",
       "      <td>-0.465998</td>\n",
       "      <td>-0.2796</td>\n",
       "      <td>0.292237</td>\n",
       "      <td>2</td>\n",
       "      <td>1</td>\n",
       "      <td>0.0</td>\n",
       "    </tr>\n",
       "    <tr>\n",
       "      <th>8</th>\n",
       "      <td>0</td>\n",
       "      <td>-0.465998</td>\n",
       "      <td>-0.2796</td>\n",
       "      <td>0.292237</td>\n",
       "      <td>2</td>\n",
       "      <td>1</td>\n",
       "      <td>0.0</td>\n",
       "    </tr>\n",
       "    <tr>\n",
       "      <th>9</th>\n",
       "      <td>0</td>\n",
       "      <td>-0.465998</td>\n",
       "      <td>-0.2796</td>\n",
       "      <td>0.292237</td>\n",
       "      <td>2</td>\n",
       "      <td>1</td>\n",
       "      <td>0.0</td>\n",
       "    </tr>\n",
       "  </tbody>\n",
       "</table>\n",
       "</div>"
      ],
      "text/plain": [
       "   ID         X       Y       Yaw  ResetID  checkCorrectness  NumberOfWalls\n",
       "0   0  0.000000  0.0000  0.000000        1                 0            0.0\n",
       "1   0 -0.466000 -0.2796  0.292237        2                 1            0.0\n",
       "2   0 -0.465999 -0.2796  0.292237        2                 1            0.0\n",
       "3   0 -0.465999 -0.2796  0.292237        2                 1            0.0\n",
       "4   0 -0.465999 -0.2796  0.292237        2                 1            0.0\n",
       "5   0 -0.465999 -0.2796  0.292237        2                 1            0.0\n",
       "6   0 -0.465998 -0.2796  0.292237        2                 1            0.0\n",
       "7   0 -0.465998 -0.2796  0.292237        2                 1            0.0\n",
       "8   0 -0.465998 -0.2796  0.292237        2                 1            0.0\n",
       "9   0 -0.465998 -0.2796  0.292237        2                 1            0.0"
      ]
     },
     "execution_count": 2,
     "metadata": {},
     "output_type": "execute_result"
    }
   ],
   "source": [
    "FLOAT_ERROR_TOLERANCE = 0.00000000001 #See IEEE 754 for why a floating point is never perfect\n",
    "df_strings = ['../data/08-04-2018_23-37-09.csv']\n",
    "frames = []\n",
    "for csv in df_strings:\n",
    "    temp = pd.read_csv(csv,index_col=False )\n",
    "    frames.append(temp)\n",
    "df = pd.concat(frames,ignore_index=True)\n",
    "print(df.shape)\n",
    "df = df.drop(columns=['Time'])\n",
    "df = df.dropna() #Get rid of any rows with NA in it.\n",
    "df = df.apply(pd.to_numeric)\n",
    "df.head(10)"
   ]
  },
  {
   "cell_type": "markdown",
   "metadata": {},
   "source": [
    "### Sample the data"
   ]
  },
  {
   "cell_type": "code",
   "execution_count": 3,
   "metadata": {},
   "outputs": [
    {
     "name": "stdout",
     "output_type": "stream",
     "text": [
      "Size of new DF is (226961, 7)\n"
     ]
    },
    {
     "data": {
      "text/html": [
       "<div>\n",
       "<style scoped>\n",
       "    .dataframe tbody tr th:only-of-type {\n",
       "        vertical-align: middle;\n",
       "    }\n",
       "\n",
       "    .dataframe tbody tr th {\n",
       "        vertical-align: top;\n",
       "    }\n",
       "\n",
       "    .dataframe thead th {\n",
       "        text-align: right;\n",
       "    }\n",
       "</style>\n",
       "<table border=\"1\" class=\"dataframe\">\n",
       "  <thead>\n",
       "    <tr style=\"text-align: right;\">\n",
       "      <th></th>\n",
       "      <th>ID</th>\n",
       "      <th>X</th>\n",
       "      <th>Y</th>\n",
       "      <th>Yaw</th>\n",
       "      <th>ResetID</th>\n",
       "      <th>checkCorrectness</th>\n",
       "      <th>NumberOfWalls</th>\n",
       "    </tr>\n",
       "  </thead>\n",
       "  <tbody>\n",
       "    <tr>\n",
       "      <th>0</th>\n",
       "      <td>0</td>\n",
       "      <td>0.000000</td>\n",
       "      <td>0.000000</td>\n",
       "      <td>0.000000</td>\n",
       "      <td>1</td>\n",
       "      <td>0</td>\n",
       "      <td>0.0</td>\n",
       "    </tr>\n",
       "    <tr>\n",
       "      <th>250</th>\n",
       "      <td>0</td>\n",
       "      <td>-0.482503</td>\n",
       "      <td>-0.306513</td>\n",
       "      <td>0.311928</td>\n",
       "      <td>2</td>\n",
       "      <td>1</td>\n",
       "      <td>0.0</td>\n",
       "    </tr>\n",
       "    <tr>\n",
       "      <th>500</th>\n",
       "      <td>0</td>\n",
       "      <td>-0.481564</td>\n",
       "      <td>-0.273259</td>\n",
       "      <td>0.297979</td>\n",
       "      <td>2</td>\n",
       "      <td>1</td>\n",
       "      <td>0.0</td>\n",
       "    </tr>\n",
       "    <tr>\n",
       "      <th>750</th>\n",
       "      <td>0</td>\n",
       "      <td>-0.444129</td>\n",
       "      <td>-0.303773</td>\n",
       "      <td>0.261811</td>\n",
       "      <td>2</td>\n",
       "      <td>1</td>\n",
       "      <td>0.0</td>\n",
       "    </tr>\n",
       "    <tr>\n",
       "      <th>1000</th>\n",
       "      <td>0</td>\n",
       "      <td>-0.373807</td>\n",
       "      <td>-0.350501</td>\n",
       "      <td>0.262825</td>\n",
       "      <td>2</td>\n",
       "      <td>1</td>\n",
       "      <td>0.0</td>\n",
       "    </tr>\n",
       "    <tr>\n",
       "      <th>1250</th>\n",
       "      <td>0</td>\n",
       "      <td>-0.290904</td>\n",
       "      <td>-0.402638</td>\n",
       "      <td>0.268619</td>\n",
       "      <td>2</td>\n",
       "      <td>1</td>\n",
       "      <td>0.0</td>\n",
       "    </tr>\n",
       "    <tr>\n",
       "      <th>1500</th>\n",
       "      <td>0</td>\n",
       "      <td>-0.211749</td>\n",
       "      <td>-0.479484</td>\n",
       "      <td>0.257386</td>\n",
       "      <td>2</td>\n",
       "      <td>1</td>\n",
       "      <td>0.0</td>\n",
       "    </tr>\n",
       "    <tr>\n",
       "      <th>1750</th>\n",
       "      <td>0</td>\n",
       "      <td>-0.164203</td>\n",
       "      <td>-0.493754</td>\n",
       "      <td>-0.095464</td>\n",
       "      <td>2</td>\n",
       "      <td>1</td>\n",
       "      <td>0.0</td>\n",
       "    </tr>\n",
       "    <tr>\n",
       "      <th>2000</th>\n",
       "      <td>0</td>\n",
       "      <td>-0.112374</td>\n",
       "      <td>-0.441557</td>\n",
       "      <td>-0.535227</td>\n",
       "      <td>2</td>\n",
       "      <td>1</td>\n",
       "      <td>0.0</td>\n",
       "    </tr>\n",
       "    <tr>\n",
       "      <th>2250</th>\n",
       "      <td>0</td>\n",
       "      <td>-0.137613</td>\n",
       "      <td>-0.347291</td>\n",
       "      <td>-0.874043</td>\n",
       "      <td>2</td>\n",
       "      <td>1</td>\n",
       "      <td>0.0</td>\n",
       "    </tr>\n",
       "  </tbody>\n",
       "</table>\n",
       "</div>"
      ],
      "text/plain": [
       "      ID         X         Y       Yaw  ResetID  checkCorrectness  \\\n",
       "0      0  0.000000  0.000000  0.000000        1                 0   \n",
       "250    0 -0.482503 -0.306513  0.311928        2                 1   \n",
       "500    0 -0.481564 -0.273259  0.297979        2                 1   \n",
       "750    0 -0.444129 -0.303773  0.261811        2                 1   \n",
       "1000   0 -0.373807 -0.350501  0.262825        2                 1   \n",
       "1250   0 -0.290904 -0.402638  0.268619        2                 1   \n",
       "1500   0 -0.211749 -0.479484  0.257386        2                 1   \n",
       "1750   0 -0.164203 -0.493754 -0.095464        2                 1   \n",
       "2000   0 -0.112374 -0.441557 -0.535227        2                 1   \n",
       "2250   0 -0.137613 -0.347291 -0.874043        2                 1   \n",
       "\n",
       "      NumberOfWalls  \n",
       "0               0.0  \n",
       "250             0.0  \n",
       "500             0.0  \n",
       "750             0.0  \n",
       "1000            0.0  \n",
       "1250            0.0  \n",
       "1500            0.0  \n",
       "1750            0.0  \n",
       "2000            0.0  \n",
       "2250            0.0  "
      ]
     },
     "execution_count": 3,
     "metadata": {},
     "output_type": "execute_result"
    }
   ],
   "source": [
    "SAMPLING_RATE = 250 #Keep 1 row for every SAMPLING_RATE\n",
    "df_sampled = df.iloc[::SAMPLING_RATE,:]\n",
    "print(\"Size of new DF is {}\".format(df_sampled.shape))\n",
    "df_sampled.head(10)"
   ]
  },
  {
   "cell_type": "code",
   "execution_count": 4,
   "metadata": {},
   "outputs": [
    {
     "data": {
      "text/html": [
       "<div>\n",
       "<style scoped>\n",
       "    .dataframe tbody tr th:only-of-type {\n",
       "        vertical-align: middle;\n",
       "    }\n",
       "\n",
       "    .dataframe tbody tr th {\n",
       "        vertical-align: top;\n",
       "    }\n",
       "\n",
       "    .dataframe thead th {\n",
       "        text-align: right;\n",
       "    }\n",
       "</style>\n",
       "<table border=\"1\" class=\"dataframe\">\n",
       "  <thead>\n",
       "    <tr style=\"text-align: right;\">\n",
       "      <th></th>\n",
       "      <th>ID</th>\n",
       "      <th>X</th>\n",
       "      <th>Y</th>\n",
       "      <th>Yaw</th>\n",
       "      <th>ResetID</th>\n",
       "      <th>checkCorrectness</th>\n",
       "      <th>NumberOfWalls</th>\n",
       "    </tr>\n",
       "  </thead>\n",
       "  <tbody>\n",
       "    <tr>\n",
       "      <th>0</th>\n",
       "      <td>0</td>\n",
       "      <td>0.000000</td>\n",
       "      <td>0.000000</td>\n",
       "      <td>0.000000</td>\n",
       "      <td>1</td>\n",
       "      <td>0</td>\n",
       "      <td>0.0</td>\n",
       "    </tr>\n",
       "    <tr>\n",
       "      <th>1</th>\n",
       "      <td>0</td>\n",
       "      <td>-0.482503</td>\n",
       "      <td>-0.306513</td>\n",
       "      <td>0.311928</td>\n",
       "      <td>2</td>\n",
       "      <td>1</td>\n",
       "      <td>0.0</td>\n",
       "    </tr>\n",
       "    <tr>\n",
       "      <th>2</th>\n",
       "      <td>0</td>\n",
       "      <td>-0.481564</td>\n",
       "      <td>-0.273259</td>\n",
       "      <td>0.297979</td>\n",
       "      <td>2</td>\n",
       "      <td>1</td>\n",
       "      <td>0.0</td>\n",
       "    </tr>\n",
       "    <tr>\n",
       "      <th>3</th>\n",
       "      <td>0</td>\n",
       "      <td>-0.444129</td>\n",
       "      <td>-0.303773</td>\n",
       "      <td>0.261811</td>\n",
       "      <td>2</td>\n",
       "      <td>1</td>\n",
       "      <td>0.0</td>\n",
       "    </tr>\n",
       "    <tr>\n",
       "      <th>4</th>\n",
       "      <td>0</td>\n",
       "      <td>-0.373807</td>\n",
       "      <td>-0.350501</td>\n",
       "      <td>0.262825</td>\n",
       "      <td>2</td>\n",
       "      <td>1</td>\n",
       "      <td>0.0</td>\n",
       "    </tr>\n",
       "  </tbody>\n",
       "</table>\n",
       "</div>"
      ],
      "text/plain": [
       "   ID         X         Y       Yaw  ResetID  checkCorrectness  NumberOfWalls\n",
       "0   0  0.000000  0.000000  0.000000        1                 0            0.0\n",
       "1   0 -0.482503 -0.306513  0.311928        2                 1            0.0\n",
       "2   0 -0.481564 -0.273259  0.297979        2                 1            0.0\n",
       "3   0 -0.444129 -0.303773  0.261811        2                 1            0.0\n",
       "4   0 -0.373807 -0.350501  0.262825        2                 1            0.0"
      ]
     },
     "execution_count": 4,
     "metadata": {},
     "output_type": "execute_result"
    }
   ],
   "source": [
    "#Clean up the data\n",
    "df_clean = df_sampled.copy()\n",
    "\n",
    "#Replace the row indexes with a range from 0..n because originally on import of multiple data files it will start from 1 for each file\n",
    "df_clean.index = range(df_clean.shape[0])\n",
    "#When the gazebo run it may collect some data of the robots when they aren't moving for the first few 50 or so samples.\n",
    "#TODO\n",
    "df_clean.head()"
   ]
  },
  {
   "cell_type": "markdown",
   "metadata": {},
   "source": [
    "### Shift the data"
   ]
  },
  {
   "cell_type": "code",
   "execution_count": 5,
   "metadata": {},
   "outputs": [
    {
     "data": {
      "text/html": [
       "<div>\n",
       "<style scoped>\n",
       "    .dataframe tbody tr th:only-of-type {\n",
       "        vertical-align: middle;\n",
       "    }\n",
       "\n",
       "    .dataframe tbody tr th {\n",
       "        vertical-align: top;\n",
       "    }\n",
       "\n",
       "    .dataframe thead th {\n",
       "        text-align: right;\n",
       "    }\n",
       "</style>\n",
       "<table border=\"1\" class=\"dataframe\">\n",
       "  <thead>\n",
       "    <tr style=\"text-align: right;\">\n",
       "      <th></th>\n",
       "      <th>ID</th>\n",
       "      <th>X</th>\n",
       "      <th>Y</th>\n",
       "      <th>Yaw</th>\n",
       "      <th>ResetID</th>\n",
       "      <th>checkCorrectness</th>\n",
       "      <th>NumberOfWalls</th>\n",
       "    </tr>\n",
       "  </thead>\n",
       "  <tbody>\n",
       "    <tr>\n",
       "      <th>0</th>\n",
       "      <td>0</td>\n",
       "      <td>0.000000</td>\n",
       "      <td>0.000000</td>\n",
       "      <td>3.141593</td>\n",
       "      <td>1</td>\n",
       "      <td>0</td>\n",
       "      <td>0.0</td>\n",
       "    </tr>\n",
       "    <tr>\n",
       "      <th>1</th>\n",
       "      <td>0</td>\n",
       "      <td>-0.482503</td>\n",
       "      <td>-0.306513</td>\n",
       "      <td>3.453521</td>\n",
       "      <td>2</td>\n",
       "      <td>1</td>\n",
       "      <td>0.0</td>\n",
       "    </tr>\n",
       "    <tr>\n",
       "      <th>2</th>\n",
       "      <td>0</td>\n",
       "      <td>-0.481564</td>\n",
       "      <td>-0.273259</td>\n",
       "      <td>3.439572</td>\n",
       "      <td>2</td>\n",
       "      <td>1</td>\n",
       "      <td>0.0</td>\n",
       "    </tr>\n",
       "    <tr>\n",
       "      <th>3</th>\n",
       "      <td>0</td>\n",
       "      <td>-0.444129</td>\n",
       "      <td>-0.303773</td>\n",
       "      <td>3.403404</td>\n",
       "      <td>2</td>\n",
       "      <td>1</td>\n",
       "      <td>0.0</td>\n",
       "    </tr>\n",
       "    <tr>\n",
       "      <th>4</th>\n",
       "      <td>0</td>\n",
       "      <td>-0.373807</td>\n",
       "      <td>-0.350501</td>\n",
       "      <td>3.404418</td>\n",
       "      <td>2</td>\n",
       "      <td>1</td>\n",
       "      <td>0.0</td>\n",
       "    </tr>\n",
       "  </tbody>\n",
       "</table>\n",
       "</div>"
      ],
      "text/plain": [
       "   ID         X         Y       Yaw  ResetID  checkCorrectness  NumberOfWalls\n",
       "0   0  0.000000  0.000000  3.141593        1                 0            0.0\n",
       "1   0 -0.482503 -0.306513  3.453521        2                 1            0.0\n",
       "2   0 -0.481564 -0.273259  3.439572        2                 1            0.0\n",
       "3   0 -0.444129 -0.303773  3.403404        2                 1            0.0\n",
       "4   0 -0.373807 -0.350501  3.404418        2                 1            0.0"
      ]
     },
     "execution_count": 5,
     "metadata": {},
     "output_type": "execute_result"
    }
   ],
   "source": [
    "#Clean up the data\n",
    "\n",
    "#Shift Yaw to go from 0 to 2pi, so just add PI since it currently goes for -pi to pi\n",
    "\n",
    "df_clean['Yaw'] += np.pi\n",
    "if(df_clean['Yaw'].max() > 2 * np.pi or df_clean['Yaw'].min() < 0):\n",
    "    print(\"[ERROR] Cleaning Yaw failed. Make sure range is from 0 and 2 * pi\")\n",
    "    print(\"Yaw = ({} - {})\".format(df_clean['Yaw'].min(), df_clean['Yaw'].max()))\n",
    "\n",
    "\n",
    "df_clean.head()"
   ]
  },
  {
   "cell_type": "code",
   "execution_count": 6,
   "metadata": {},
   "outputs": [
    {
     "data": {
      "text/html": [
       "<div>\n",
       "<style scoped>\n",
       "    .dataframe tbody tr th:only-of-type {\n",
       "        vertical-align: middle;\n",
       "    }\n",
       "\n",
       "    .dataframe tbody tr th {\n",
       "        vertical-align: top;\n",
       "    }\n",
       "\n",
       "    .dataframe thead th {\n",
       "        text-align: right;\n",
       "    }\n",
       "</style>\n",
       "<table border=\"1\" class=\"dataframe\">\n",
       "  <thead>\n",
       "    <tr style=\"text-align: right;\">\n",
       "      <th></th>\n",
       "      <th>ID</th>\n",
       "      <th>X</th>\n",
       "      <th>Y</th>\n",
       "      <th>Yaw</th>\n",
       "      <th>ResetID</th>\n",
       "      <th>checkCorrectness</th>\n",
       "      <th>NumberOfWalls</th>\n",
       "    </tr>\n",
       "  </thead>\n",
       "  <tbody>\n",
       "    <tr>\n",
       "      <th>0</th>\n",
       "      <td>0</td>\n",
       "      <td>0.563500</td>\n",
       "      <td>0.563500</td>\n",
       "      <td>3.141593</td>\n",
       "      <td>1</td>\n",
       "      <td>0</td>\n",
       "      <td>0.0</td>\n",
       "    </tr>\n",
       "    <tr>\n",
       "      <th>1</th>\n",
       "      <td>0</td>\n",
       "      <td>0.080997</td>\n",
       "      <td>0.256987</td>\n",
       "      <td>3.453521</td>\n",
       "      <td>2</td>\n",
       "      <td>1</td>\n",
       "      <td>0.0</td>\n",
       "    </tr>\n",
       "    <tr>\n",
       "      <th>2</th>\n",
       "      <td>0</td>\n",
       "      <td>0.081936</td>\n",
       "      <td>0.290241</td>\n",
       "      <td>3.439572</td>\n",
       "      <td>2</td>\n",
       "      <td>1</td>\n",
       "      <td>0.0</td>\n",
       "    </tr>\n",
       "    <tr>\n",
       "      <th>3</th>\n",
       "      <td>0</td>\n",
       "      <td>0.119371</td>\n",
       "      <td>0.259727</td>\n",
       "      <td>3.403404</td>\n",
       "      <td>2</td>\n",
       "      <td>1</td>\n",
       "      <td>0.0</td>\n",
       "    </tr>\n",
       "    <tr>\n",
       "      <th>4</th>\n",
       "      <td>0</td>\n",
       "      <td>0.189693</td>\n",
       "      <td>0.212999</td>\n",
       "      <td>3.404418</td>\n",
       "      <td>2</td>\n",
       "      <td>1</td>\n",
       "      <td>0.0</td>\n",
       "    </tr>\n",
       "  </tbody>\n",
       "</table>\n",
       "</div>"
      ],
      "text/plain": [
       "   ID         X         Y       Yaw  ResetID  checkCorrectness  NumberOfWalls\n",
       "0   0  0.563500  0.563500  3.141593        1                 0            0.0\n",
       "1   0  0.080997  0.256987  3.453521        2                 1            0.0\n",
       "2   0  0.081936  0.290241  3.439572        2                 1            0.0\n",
       "3   0  0.119371  0.259727  3.403404        2                 1            0.0\n",
       "4   0  0.189693  0.212999  3.404418        2                 1            0.0"
      ]
     },
     "execution_count": 6,
     "metadata": {},
     "output_type": "execute_result"
    }
   ],
   "source": [
    "#Clean up the data\n",
    "\n",
    "#Shift X and Y over so that way it could be made easier to use. Currently the world reference is at the center of the \"play area\"\n",
    "LENGTH_OF_BOX = 1.127 #This can be obtained from the .sdf file of the weazelball enclosure in gazebo\n",
    "\n",
    "\n",
    "df_clean['X'] += LENGTH_OF_BOX / 2\n",
    "df_clean['Y'] += LENGTH_OF_BOX / 2\n",
    "if (df_clean['X'].max() > LENGTH_OF_BOX or df_clean['Y'].max() > LENGTH_OF_BOX or df_clean['X'].min() < 0 or df_clean['Y'].min() < 0):\n",
    "    print(\"[ERROR] Cleaning X/Y failed, Make sure the points are between 0 and LENGTH_OF_BOX\")\n",
    "    print(\"Y = ({} - {}) X = ({} to {})\".format(df_clean['Y'].min(), df_clean['Y'].max(), df_clean['X'].min(), df_clean['X'].max()))\n",
    "df_clean.head()\n"
   ]
  },
  {
   "cell_type": "markdown",
   "metadata": {},
   "source": [
    "### Discretize the data"
   ]
  },
  {
   "cell_type": "code",
   "execution_count": 7,
   "metadata": {},
   "outputs": [
    {
     "data": {
      "text/html": [
       "<div>\n",
       "<style scoped>\n",
       "    .dataframe tbody tr th:only-of-type {\n",
       "        vertical-align: middle;\n",
       "    }\n",
       "\n",
       "    .dataframe tbody tr th {\n",
       "        vertical-align: top;\n",
       "    }\n",
       "\n",
       "    .dataframe thead th {\n",
       "        text-align: right;\n",
       "    }\n",
       "</style>\n",
       "<table border=\"1\" class=\"dataframe\">\n",
       "  <thead>\n",
       "    <tr style=\"text-align: right;\">\n",
       "      <th></th>\n",
       "      <th>ID</th>\n",
       "      <th>X</th>\n",
       "      <th>Y</th>\n",
       "      <th>Yaw</th>\n",
       "      <th>ResetID</th>\n",
       "      <th>checkCorrectness</th>\n",
       "      <th>NumberOfWalls</th>\n",
       "    </tr>\n",
       "  </thead>\n",
       "  <tbody>\n",
       "    <tr>\n",
       "      <th>count</th>\n",
       "      <td>226961.0</td>\n",
       "      <td>226961.000000</td>\n",
       "      <td>226961.000000</td>\n",
       "      <td>226961.000000</td>\n",
       "      <td>226961.000000</td>\n",
       "      <td>226961.000000</td>\n",
       "      <td>226961.0</td>\n",
       "    </tr>\n",
       "    <tr>\n",
       "      <th>mean</th>\n",
       "      <td>0.0</td>\n",
       "      <td>4.471028</td>\n",
       "      <td>4.510374</td>\n",
       "      <td>3.089414</td>\n",
       "      <td>48.706143</td>\n",
       "      <td>0.999996</td>\n",
       "      <td>0.0</td>\n",
       "    </tr>\n",
       "    <tr>\n",
       "      <th>std</th>\n",
       "      <td>0.0</td>\n",
       "      <td>2.954671</td>\n",
       "      <td>2.972139</td>\n",
       "      <td>1.809770</td>\n",
       "      <td>27.254503</td>\n",
       "      <td>0.002099</td>\n",
       "      <td>0.0</td>\n",
       "    </tr>\n",
       "    <tr>\n",
       "      <th>min</th>\n",
       "      <td>0.0</td>\n",
       "      <td>0.000000</td>\n",
       "      <td>0.000000</td>\n",
       "      <td>0.000000</td>\n",
       "      <td>1.000000</td>\n",
       "      <td>0.000000</td>\n",
       "      <td>0.0</td>\n",
       "    </tr>\n",
       "    <tr>\n",
       "      <th>25%</th>\n",
       "      <td>0.0</td>\n",
       "      <td>2.000000</td>\n",
       "      <td>2.000000</td>\n",
       "      <td>1.500000</td>\n",
       "      <td>25.000000</td>\n",
       "      <td>1.000000</td>\n",
       "      <td>0.0</td>\n",
       "    </tr>\n",
       "    <tr>\n",
       "      <th>50%</th>\n",
       "      <td>0.0</td>\n",
       "      <td>4.000000</td>\n",
       "      <td>5.000000</td>\n",
       "      <td>3.100000</td>\n",
       "      <td>49.000000</td>\n",
       "      <td>1.000000</td>\n",
       "      <td>0.0</td>\n",
       "    </tr>\n",
       "    <tr>\n",
       "      <th>75%</th>\n",
       "      <td>0.0</td>\n",
       "      <td>7.000000</td>\n",
       "      <td>7.000000</td>\n",
       "      <td>4.600000</td>\n",
       "      <td>72.000000</td>\n",
       "      <td>1.000000</td>\n",
       "      <td>0.0</td>\n",
       "    </tr>\n",
       "    <tr>\n",
       "      <th>max</th>\n",
       "      <td>0.0</td>\n",
       "      <td>9.000000</td>\n",
       "      <td>9.000000</td>\n",
       "      <td>6.200000</td>\n",
       "      <td>96.000000</td>\n",
       "      <td>1.000000</td>\n",
       "      <td>0.0</td>\n",
       "    </tr>\n",
       "  </tbody>\n",
       "</table>\n",
       "</div>"
      ],
      "text/plain": [
       "             ID              X              Y            Yaw        ResetID  \\\n",
       "count  226961.0  226961.000000  226961.000000  226961.000000  226961.000000   \n",
       "mean        0.0       4.471028       4.510374       3.089414      48.706143   \n",
       "std         0.0       2.954671       2.972139       1.809770      27.254503   \n",
       "min         0.0       0.000000       0.000000       0.000000       1.000000   \n",
       "25%         0.0       2.000000       2.000000       1.500000      25.000000   \n",
       "50%         0.0       4.000000       5.000000       3.100000      49.000000   \n",
       "75%         0.0       7.000000       7.000000       4.600000      72.000000   \n",
       "max         0.0       9.000000       9.000000       6.200000      96.000000   \n",
       "\n",
       "       checkCorrectness  NumberOfWalls  \n",
       "count     226961.000000       226961.0  \n",
       "mean           0.999996            0.0  \n",
       "std            0.002099            0.0  \n",
       "min            0.000000            0.0  \n",
       "25%            1.000000            0.0  \n",
       "50%            1.000000            0.0  \n",
       "75%            1.000000            0.0  \n",
       "max            1.000000            0.0  "
      ]
     },
     "execution_count": 7,
     "metadata": {},
     "output_type": "execute_result"
    }
   ],
   "source": [
    "#Discretize the data\n",
    "NUMBER_OF_SQUARES = 100 #This should be a square number to create equal sized squares.\n",
    "RESOLUTION_OF_S1 = 0.1 #This is used to discretize the yaw angle over 0 - 2*pi\n",
    "\n",
    "df_discretized = df_clean.copy()\n",
    "    \n",
    "mappingBoxConstant = (NUMBER_OF_SQUARES ** (1/2.0)) / (LENGTH_OF_BOX)\n",
    "for index, row in df_clean.iterrows():\n",
    "    df_discretized.at[index, 'X'] = int(row['X'] * mappingBoxConstant)\n",
    "    df_discretized.at[index, 'Y'] = int(row['Y'] * mappingBoxConstant)\n",
    "    df_discretized.at[index, 'Yaw'] = int(row['Yaw'] / RESOLUTION_OF_S1) * RESOLUTION_OF_S1\n",
    "        \n",
    "df_discretized.describe()"
   ]
  },
  {
   "cell_type": "markdown",
   "metadata": {},
   "source": [
    "### Initialize a few variables/objects used in the experiment"
   ]
  },
  {
   "cell_type": "code",
   "execution_count": 8,
   "metadata": {},
   "outputs": [
    {
     "data": {
      "text/plain": [
       "6300"
      ]
     },
     "execution_count": 8,
     "metadata": {},
     "output_type": "execute_result"
    }
   ],
   "source": [
    "\n",
    "\n",
    "#The formula for mapping a 3D array to 1D is\n",
    "#(z * xMax * yMax) + (y * xMax) + x;\n",
    "#https://stackoverflow.com/questions/7367770/how-to-flatten-or-index-3d-array-in-1d-array\n",
    "X_MAX = NUMBER_OF_SQUARES ** (1/2.0)\n",
    "Y_MAX = NUMBER_OF_SQUARES ** (1/2.0)\n",
    "YAW_MAX = (2 * np.pi) / RESOLUTION_OF_S1\n",
    "mapping = Mapping(X_MAX, Y_MAX, YAW_MAX)#Fill in the logical areas that the system can reach (For now I am assuming it can go up/down 2 yaw states or the surronding (x,y) blocks)\n",
    "d = {} #d is used to hold all the transitions and keep a counter of how often each occur\n",
    "\n",
    "TRANSLATION_MATRIX_INITIAL_VALUE = 1\n",
    "#Create the matrix representing the Markov Chain\n",
    "#I am assuming we are discretizing the space into equal sized boxes\n",
    "#The transition matrix A is of size \n",
    "#( # of states of X * # of states of Y * # of states of Yaw)\n",
    "#( # of states of X and Y = mappingBoxConstant * LENGTH_OF_BOX )\n",
    "#( # of states of Yaw = int(2*pi / RESOLUTION_OF_S1)+1)\n",
    "number_of_x_states = mappingBoxConstant * LENGTH_OF_BOX\n",
    "number_of_y_states = mappingBoxConstant * LENGTH_OF_BOX\n",
    "number_of_s1_states = int(2*np.pi / RESOLUTION_OF_S1) + 1\n",
    "n = int(number_of_x_states * number_of_y_states * number_of_s1_states) #n is the size of the transition matrix\n",
    "n"
   ]
  },
  {
   "cell_type": "markdown",
   "metadata": {},
   "source": [
    "### Create artificial data if needed"
   ]
  },
  {
   "cell_type": "code",
   "execution_count": 9,
   "metadata": {},
   "outputs": [],
   "source": [
    "#HUERISTIC: Add a +1 to any logical possible state the structure would likely end up in.\n",
    "#This lowers the amount of artifiical data in the matrix (most of which isnt needed)\n",
    "for index in range(n):\n",
    "    if(TRANSLATION_MATRIX_INITIAL_VALUE == 0):\n",
    "        break\n",
    "    (x,y,yaw) = mapping.map1Dto3D(index)\n",
    "    #Generate all possible (x,y,yaw) permutations\n",
    "    #I assume we can only move with 1 around (x,y) including diagnols and +- 2 yaw states\n",
    "    VARIATION_OF_X = 1\n",
    "    VARIATION_OF_Y = 1\n",
    "    VARIATION_OF_YAW = 1\n",
    "    possible_spots = []\n",
    "    for x_p in range(-VARIATION_OF_X,VARIATION_OF_X+1):\n",
    "        for y_p in range(-VARIATION_OF_Y,VARIATION_OF_Y+1):\n",
    "            for yaw_p in range(-VARIATION_OF_YAW,VARIATION_OF_YAW+1):\n",
    "                if(mapping.checkValid3DMap(x+x_p, y+y_p, yaw+yaw_p)):\n",
    "                    possible_spots.append( (x+x_p, y+y_p, yaw+yaw_p) )\n",
    "    for pose in possible_spots:\n",
    "        key = (x,y,yaw, pose[0],pose[1],pose[2])\n",
    "        if key in d:\n",
    "            d[key] += 1\n",
    "        else:\n",
    "            d[key] = 1"
   ]
  },
  {
   "cell_type": "markdown",
   "metadata": {},
   "source": [
    "### Fill in the dictionary with actual data from the experiment"
   ]
  },
  {
   "cell_type": "code",
   "execution_count": 10,
   "metadata": {},
   "outputs": [
    {
     "name": "stdout",
     "output_type": "stream",
     "text": [
      "[DEBUG] Skipped 95 events\n"
     ]
    }
   ],
   "source": [
    "#Our keys to the dictionary will look like (x_t, y_t, yaw_t, x_t+1, y_t+1, yaw_t+1)\n",
    "#Go through all but last row since t+1 isnt defined there...\n",
    "skipCount = 0\n",
    "try:\n",
    "    for index, row in df_discretized.iterrows():\n",
    "        if(index == df_discretized.index[-1]):\n",
    "            break\n",
    "        if(df_discretized.at[index, 'ResetID'] != df_discretized.at[index + 1, 'ResetID']):\n",
    "            skipCount += 1\n",
    "            continue\n",
    "        #Need to round here because Yaw data has floating point error\n",
    "        key = (df_discretized.at[index, 'X'], df_discretized.at[index, 'Y'], round(df_discretized.at[index, 'Yaw'], 6),df_discretized.at[index+1, 'X'], df_discretized.at[index+1, 'Y'], round(df_discretized.at[index+1, 'Yaw'], 6) )\n",
    "\n",
    "        if key in d:\n",
    "            d[key] += 1\n",
    "        else:\n",
    "            d[key] = 1\n",
    "except Exception as e:\n",
    "    print e\n",
    "    \n",
    "print \"[DEBUG] Skipped {} events\".format(skipCount)"
   ]
  },
  {
   "cell_type": "markdown",
   "metadata": {},
   "source": [
    "## Test data structures\n",
    "Now that the data has been imported into a dictionary, the different data sturctures can be compared."
   ]
  },
  {
   "cell_type": "markdown",
   "metadata": {},
   "source": [
    "### Pandas dataframe"
   ]
  },
  {
   "cell_type": "code",
   "execution_count": 33,
   "metadata": {},
   "outputs": [],
   "source": [
    "import time\n",
    "pandas_start_time = time.time()"
   ]
  },
  {
   "cell_type": "markdown",
   "metadata": {},
   "source": [
    "#### Fill in matrix with dictionary data"
   ]
  },
  {
   "cell_type": "code",
   "execution_count": 34,
   "metadata": {},
   "outputs": [],
   "source": [
    "translation_matrix = pd.DataFrame(0, index=range(n), columns=range(n))\n",
    "\n",
    "for key, value in d.iteritems():\n",
    "    #we need to map yaw to an int state\n",
    "\n",
    "    element_t = mapping.map3Dto1D(key[0], key[1], key[2])\n",
    "    element_t_plus_1 = mapping.map3Dto1D(key[3], key[4], key[5])\n",
    "    translation_matrix.at[element_t, element_t_plus_1] = value + translation_matrix.at[element_t, element_t_plus_1]"
   ]
  },
  {
   "cell_type": "markdown",
   "metadata": {},
   "source": [
    "#### Make the rows have a magnitude of 1"
   ]
  },
  {
   "cell_type": "code",
   "execution_count": 35,
   "metadata": {},
   "outputs": [],
   "source": [
    "for index, row in translation_matrix.iterrows():\n",
    "    totalActionsInThisState = row.sum()\n",
    "    if totalActionsInThisState == 0:\n",
    "        continue\n",
    "    translation_matrix.iloc[index] /= totalActionsInThisState"
   ]
  },
  {
   "cell_type": "code",
   "execution_count": 36,
   "metadata": {},
   "outputs": [],
   "source": [
    "pandas_creation_time = time.time() - pandas_start_time"
   ]
  },
  {
   "cell_type": "markdown",
   "metadata": {},
   "source": [
    "### SciPy Sparse matrix"
   ]
  },
  {
   "cell_type": "code",
   "execution_count": 37,
   "metadata": {},
   "outputs": [],
   "source": [
    "from scipy import sparse\n",
    "from sklearn.preprocessing import normalize\n",
    "scipy_start_time = time.time()"
   ]
  },
  {
   "cell_type": "markdown",
   "metadata": {},
   "source": [
    "#### Fill in matrix with dictionary data"
   ]
  },
  {
   "cell_type": "code",
   "execution_count": 38,
   "metadata": {},
   "outputs": [],
   "source": [
    "sparse_matrix = sparse.dok_matrix((n, n), dtype=np.float32)"
   ]
  },
  {
   "cell_type": "code",
   "execution_count": 39,
   "metadata": {},
   "outputs": [],
   "source": [
    "for key, value in d.iteritems():\n",
    "    element_t = mapping.map3Dto1D(key[0], key[1], key[2])\n",
    "    element_t_plus_1 = mapping.map3Dto1D(key[3], key[4], key[5])\n",
    "    sparse_matrix[element_t, element_t_plus_1] = value + sparse_matrix[element_t, element_t_plus_1]\n",
    "    \n",
    "#Convert matrix to csr since csr can do multiplication a lot faster\n",
    "sparse_matrix = sparse_matrix.transpose().tocsr()"
   ]
  },
  {
   "cell_type": "code",
   "execution_count": 40,
   "metadata": {},
   "outputs": [],
   "source": [
    "#### Make the rows have a magnitude of 1\n",
    "sparse_matrix_normalized = normalize(sparse_matrix, norm='l1', axis=1)"
   ]
  },
  {
   "cell_type": "code",
   "execution_count": 41,
   "metadata": {},
   "outputs": [],
   "source": [
    "scipy_creation_time = time.time() - scipy_start_time"
   ]
  },
  {
   "cell_type": "markdown",
   "metadata": {},
   "source": [
    "## Dot product test"
   ]
  },
  {
   "cell_type": "markdown",
   "metadata": {},
   "source": [
    "### Pandas Dot Product Test"
   ]
  },
  {
   "cell_type": "code",
   "execution_count": 43,
   "metadata": {},
   "outputs": [],
   "source": [
    "pandas_dot_start_time = time.time()\n",
    "foo = translation_matrix.dot(translation_matrix)\n",
    "pandas_dot_time = time.time() - pandas_dot_start_time"
   ]
  },
  {
   "cell_type": "markdown",
   "metadata": {},
   "source": [
    "### Scipy Sparse Matrix Dot Product Test"
   ]
  },
  {
   "cell_type": "code",
   "execution_count": 44,
   "metadata": {},
   "outputs": [],
   "source": [
    "scipy_dot_start_time = time.time()\n",
    "bar = sparse_matrix_normalized.dot(sparse_matrix_normalized)\n",
    "scipy_dot_time = time.time() - scipy_dot_start_time"
   ]
  },
  {
   "cell_type": "markdown",
   "metadata": {},
   "source": [
    "## Cross product test"
   ]
  },
  {
   "cell_type": "code",
   "execution_count": 45,
   "metadata": {},
   "outputs": [],
   "source": [
    "#TODO"
   ]
  },
  {
   "cell_type": "markdown",
   "metadata": {},
   "source": [
    "## RESULTS"
   ]
  },
  {
   "cell_type": "code",
   "execution_count": 46,
   "metadata": {},
   "outputs": [
    {
     "name": "stdout",
     "output_type": "stream",
     "text": [
      "The tranistion matrix is 99.3712648022% empty\n"
     ]
    }
   ],
   "source": [
    "#Calculate how empty the transition matrix is\n",
    "emptyPercent = 1 - (float(len(d.keys())) / (float(n*n)))\n",
    "print(\"The tranistion matrix is {}% empty\".format(emptyPercent * 100))"
   ]
  },
  {
   "cell_type": "code",
   "execution_count": 47,
   "metadata": {},
   "outputs": [
    {
     "name": "stdout",
     "output_type": "stream",
     "text": [
      "The time it took to create the full transition matrix was 249.374001026 seconds.\n",
      "The time it took to create the sparse transition matrix was 7.39946293831 seconds.\n"
     ]
    }
   ],
   "source": [
    "print(\"The time it took to create the full transition matrix was {} seconds.\".format(pandas_creation_time))\n",
    "print(\"The time it took to create the sparse transition matrix was {} seconds.\".format(scipy_creation_time))"
   ]
  },
  {
   "cell_type": "code",
   "execution_count": 48,
   "metadata": {},
   "outputs": [
    {
     "name": "stdout",
     "output_type": "stream",
     "text": [
      "The time it took to take the dot product of 2 full tranisition matrix was 4.38130497932 seconds\n",
      "The time it took to take the dot product of 2 sparse tranisition matrix was 0.0318281650543 seconds\n"
     ]
    }
   ],
   "source": [
    "print(\"The time it took to take the dot product of 2 full tranisition matrix was {} seconds\".format(pandas_dot_time))\n",
    "print(\"The time it took to take the dot product of 2 sparse tranisition matrix was {} seconds\".format(scipy_dot_time))"
   ]
  }
 ],
 "metadata": {
  "kernelspec": {
   "display_name": "Python 2",
   "language": "python",
   "name": "python2"
  },
  "language_info": {
   "codemirror_mode": {
    "name": "ipython",
    "version": 2
   },
   "file_extension": ".py",
   "mimetype": "text/x-python",
   "name": "python",
   "nbconvert_exporter": "python",
   "pygments_lexer": "ipython2",
   "version": "2.7.13"
  }
 },
 "nbformat": 4,
 "nbformat_minor": 2
}
