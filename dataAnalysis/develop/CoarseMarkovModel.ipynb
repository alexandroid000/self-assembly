{
 "cells": [
  {
   "cell_type": "code",
   "execution_count": 1,
   "metadata": {
    "collapsed": false
   },
   "outputs": [],
   "source": [
    "import numpy as np\n",
    "import pandas as pd"
   ]
  },
  {
   "cell_type": "code",
   "execution_count": 2,
   "metadata": {
    "collapsed": false
   },
   "outputs": [
    {
     "name": "stdout",
     "output_type": "stream",
     "text": [
      "          X         Y       Yaw\n",
      "0  0.000000  0.000000  3.141593\n",
      "1 -0.005017 -0.015608  3.269427\n",
      "2 -0.007366  0.055935  3.284292\n",
      "3  0.014216 -0.055386  3.121205\n",
      "4  0.014517 -0.055759  3.123202\n"
     ]
    }
   ],
   "source": [
    "#import the data\n",
    "\n",
    "FLOAT_ERROR_TOLERANCE = 0.00000000001 #See IEEE 754 for why a floating point is never perfect\n",
    "df = pd.read_csv('../data/time-series.csv',index_col=False)\n",
    "#for index, row in df.iterrows():\n",
    "#    df.at[index,'Time'] = row['Time'].replace(' ', '.')\n",
    "to_drop = ['Time','ID','ResetID','checkCorrectness']\n",
    "df.drop(to_drop, inplace=True, axis=1)\n",
    "df = df.apply(pd.to_numeric)\n",
    "\n",
    "# clean up data\n",
    "df['Yaw'] += np.pi\n",
    "\n",
    "#df.columns = ['X','Y','Yaw']\n",
    "df.to_csv('../data/clean-time-series.csv', index = False)\n",
    "print(df.head())\n"
   ]
  },
  {
   "cell_type": "code",
   "execution_count": 6,
   "metadata": {
    "collapsed": false
   },
   "outputs": [
    {
     "data": {
      "text/plain": [
       "('FREE', 1.0)"
      ]
     },
     "execution_count": 6,
     "metadata": {},
     "output_type": "execute_result"
    }
   ],
   "source": [
    "CORNER = 0.52 #This can be obtained from the .sdf file of the weazelball enclosure in gazebo\n",
    "RESOLUTION_OF_S1 = 0.1 #This is used to discretize the yaw angle over 0 - 2*pi\n",
    "EPSILON = 0.1\n",
    "\n",
    "def classify(x,y,yaw):\n",
    "    wall_collisions = 0\n",
    "    disc_yaw = (int(yaw / RESOLUTION_OF_S1) * RESOLUTION_OF_S1)\n",
    "    if ((abs(x+CORNER) < EPSILON) \n",
    "      | (abs(x-CORNER) < EPSILON) \n",
    "      | (abs(y+CORNER) < EPSILON) \n",
    "      | (abs(y-CORNER) < EPSILON)):\n",
    "        wall_collisions += 1\n",
    "    if wall_collisions == 0:\n",
    "        return (\"FREE\",disc_yaw)\n",
    "    elif wall_collisions == 1:\n",
    "        return (\"WALL\", disc_yaw)\n",
    "    else:\n",
    "        return (\"CORNER\", disc_yaw)\n",
    "    \n",
    "\n",
    "classify(0,0,1)"
   ]
  },
  {
   "cell_type": "code",
   "execution_count": 7,
   "metadata": {
    "collapsed": false
   },
   "outputs": [
    {
     "name": "stdout",
     "output_type": "stream",
     "text": [
      "          X         Y       Yaw   StateLabel\n",
      "0  0.000000  0.000000  3.141593  (FREE, 3.1)\n",
      "1 -0.005017 -0.015608  3.269427  (FREE, 3.2)\n",
      "2 -0.007366  0.055935  3.284292  (FREE, 3.2)\n",
      "3  0.014216 -0.055386  3.121205  (FREE, 3.1)\n",
      "4  0.014517 -0.055759  3.123202  (FREE, 3.1)\n"
     ]
    }
   ],
   "source": [
    "df_discretized = df.copy()\n",
    "\n",
    "df_discretized['StateLabel'] = df_discretized.apply(lambda dat: classify(dat['X'], dat['Y'], dat['Yaw']),axis=1)\n",
    "df_discretized.to_csv('../data/classified-time-series.csv', index = False)\n",
    "\n",
    "print(df_discretized.head())"
   ]
  },
  {
   "cell_type": "code",
   "execution_count": null,
   "metadata": {
    "collapsed": true
   },
   "outputs": [],
   "source": []
  }
 ],
 "metadata": {
  "kernelspec": {
   "display_name": "Python 3",
   "language": "python",
   "name": "python3"
  },
  "language_info": {
   "codemirror_mode": {
    "name": "ipython",
    "version": 3
   },
   "file_extension": ".py",
   "mimetype": "text/x-python",
   "name": "python",
   "nbconvert_exporter": "python",
   "pygments_lexer": "ipython3",
   "version": "3.4.4"
  }
 },
 "nbformat": 4,
 "nbformat_minor": 0
}
