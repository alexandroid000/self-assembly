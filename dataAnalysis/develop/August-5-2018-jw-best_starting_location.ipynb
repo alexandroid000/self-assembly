{
 "cells": [
  {
   "cell_type": "code",
   "execution_count": 120,
   "metadata": {},
   "outputs": [
    {
     "name": "stdout",
     "output_type": "stream",
     "text": [
      "The version_information extension is already loaded. To reload it, use:\n",
      "  %reload_ext version_information\n"
     ]
    }
   ],
   "source": [
    "#!/usr/bin/env python\n",
    "import pandas as pd\n",
    "import numpy as np\n",
    "import matplotlib.pyplot as plt\n",
    "import seaborn as sns\n",
    "from mapping import Mapping\n",
    "\n",
    "%load_ext version_information\n",
    "%version_information numpy, pandas, matplotlib\n",
    "%version_information\n",
    "fig_prefix = \"../figures/2018-07-22-jw-weaselball-starting_location_\"\n",
    "data_prefix = \"../data/2018-07-22-jw-weaselball-starting_location_\"\n"
   ]
  },
  {
   "cell_type": "code",
   "execution_count": 121,
   "metadata": {},
   "outputs": [
    {
     "name": "stdout",
     "output_type": "stream",
     "text": [
      "(6300, 6300)\n"
     ]
    },
    {
     "data": {
      "text/html": [
       "<div>\n",
       "<style scoped>\n",
       "    .dataframe tbody tr th:only-of-type {\n",
       "        vertical-align: middle;\n",
       "    }\n",
       "\n",
       "    .dataframe tbody tr th {\n",
       "        vertical-align: top;\n",
       "    }\n",
       "\n",
       "    .dataframe thead th {\n",
       "        text-align: right;\n",
       "    }\n",
       "</style>\n",
       "<table border=\"1\" class=\"dataframe\">\n",
       "  <thead>\n",
       "    <tr style=\"text-align: right;\">\n",
       "      <th></th>\n",
       "      <th>0</th>\n",
       "      <th>1</th>\n",
       "      <th>2</th>\n",
       "      <th>3</th>\n",
       "      <th>4</th>\n",
       "      <th>5</th>\n",
       "      <th>6</th>\n",
       "      <th>7</th>\n",
       "      <th>8</th>\n",
       "      <th>9</th>\n",
       "      <th>...</th>\n",
       "      <th>6290</th>\n",
       "      <th>6291</th>\n",
       "      <th>6292</th>\n",
       "      <th>6293</th>\n",
       "      <th>6294</th>\n",
       "      <th>6295</th>\n",
       "      <th>6296</th>\n",
       "      <th>6297</th>\n",
       "      <th>6298</th>\n",
       "      <th>6299</th>\n",
       "    </tr>\n",
       "  </thead>\n",
       "  <tbody>\n",
       "    <tr>\n",
       "      <th>0</th>\n",
       "      <td>0.071429</td>\n",
       "      <td>0.071429</td>\n",
       "      <td>0.000000</td>\n",
       "      <td>0.000000</td>\n",
       "      <td>0.000000</td>\n",
       "      <td>0.000000</td>\n",
       "      <td>0.0</td>\n",
       "      <td>0.0</td>\n",
       "      <td>0.0</td>\n",
       "      <td>0.071429</td>\n",
       "      <td>...</td>\n",
       "      <td>0.0</td>\n",
       "      <td>0.0</td>\n",
       "      <td>0.0</td>\n",
       "      <td>0.0</td>\n",
       "      <td>0.0</td>\n",
       "      <td>0.0</td>\n",
       "      <td>0.0</td>\n",
       "      <td>0.0</td>\n",
       "      <td>0.0</td>\n",
       "      <td>0.0</td>\n",
       "    </tr>\n",
       "    <tr>\n",
       "      <th>1</th>\n",
       "      <td>0.066667</td>\n",
       "      <td>0.066667</td>\n",
       "      <td>0.066667</td>\n",
       "      <td>0.000000</td>\n",
       "      <td>0.000000</td>\n",
       "      <td>0.000000</td>\n",
       "      <td>0.0</td>\n",
       "      <td>0.0</td>\n",
       "      <td>0.0</td>\n",
       "      <td>0.000000</td>\n",
       "      <td>...</td>\n",
       "      <td>0.0</td>\n",
       "      <td>0.0</td>\n",
       "      <td>0.0</td>\n",
       "      <td>0.0</td>\n",
       "      <td>0.0</td>\n",
       "      <td>0.0</td>\n",
       "      <td>0.0</td>\n",
       "      <td>0.0</td>\n",
       "      <td>0.0</td>\n",
       "      <td>0.0</td>\n",
       "    </tr>\n",
       "    <tr>\n",
       "      <th>2</th>\n",
       "      <td>0.000000</td>\n",
       "      <td>0.066667</td>\n",
       "      <td>0.066667</td>\n",
       "      <td>0.066667</td>\n",
       "      <td>0.000000</td>\n",
       "      <td>0.000000</td>\n",
       "      <td>0.0</td>\n",
       "      <td>0.0</td>\n",
       "      <td>0.0</td>\n",
       "      <td>0.000000</td>\n",
       "      <td>...</td>\n",
       "      <td>0.0</td>\n",
       "      <td>0.0</td>\n",
       "      <td>0.0</td>\n",
       "      <td>0.0</td>\n",
       "      <td>0.0</td>\n",
       "      <td>0.0</td>\n",
       "      <td>0.0</td>\n",
       "      <td>0.0</td>\n",
       "      <td>0.0</td>\n",
       "      <td>0.0</td>\n",
       "    </tr>\n",
       "    <tr>\n",
       "      <th>3</th>\n",
       "      <td>0.000000</td>\n",
       "      <td>0.000000</td>\n",
       "      <td>0.066667</td>\n",
       "      <td>0.066667</td>\n",
       "      <td>0.066667</td>\n",
       "      <td>0.000000</td>\n",
       "      <td>0.0</td>\n",
       "      <td>0.0</td>\n",
       "      <td>0.0</td>\n",
       "      <td>0.000000</td>\n",
       "      <td>...</td>\n",
       "      <td>0.0</td>\n",
       "      <td>0.0</td>\n",
       "      <td>0.0</td>\n",
       "      <td>0.0</td>\n",
       "      <td>0.0</td>\n",
       "      <td>0.0</td>\n",
       "      <td>0.0</td>\n",
       "      <td>0.0</td>\n",
       "      <td>0.0</td>\n",
       "      <td>0.0</td>\n",
       "    </tr>\n",
       "    <tr>\n",
       "      <th>4</th>\n",
       "      <td>0.000000</td>\n",
       "      <td>0.000000</td>\n",
       "      <td>0.000000</td>\n",
       "      <td>0.066667</td>\n",
       "      <td>0.066667</td>\n",
       "      <td>0.066667</td>\n",
       "      <td>0.0</td>\n",
       "      <td>0.0</td>\n",
       "      <td>0.0</td>\n",
       "      <td>0.000000</td>\n",
       "      <td>...</td>\n",
       "      <td>0.0</td>\n",
       "      <td>0.0</td>\n",
       "      <td>0.0</td>\n",
       "      <td>0.0</td>\n",
       "      <td>0.0</td>\n",
       "      <td>0.0</td>\n",
       "      <td>0.0</td>\n",
       "      <td>0.0</td>\n",
       "      <td>0.0</td>\n",
       "      <td>0.0</td>\n",
       "    </tr>\n",
       "  </tbody>\n",
       "</table>\n",
       "<p>5 rows × 6300 columns</p>\n",
       "</div>"
      ],
      "text/plain": [
       "          0         1         2         3         4         5    6    7    8  \\\n",
       "0  0.071429  0.071429  0.000000  0.000000  0.000000  0.000000  0.0  0.0  0.0   \n",
       "1  0.066667  0.066667  0.066667  0.000000  0.000000  0.000000  0.0  0.0  0.0   \n",
       "2  0.000000  0.066667  0.066667  0.066667  0.000000  0.000000  0.0  0.0  0.0   \n",
       "3  0.000000  0.000000  0.066667  0.066667  0.066667  0.000000  0.0  0.0  0.0   \n",
       "4  0.000000  0.000000  0.000000  0.066667  0.066667  0.066667  0.0  0.0  0.0   \n",
       "\n",
       "          9  ...   6290  6291  6292  6293  6294  6295  6296  6297  6298  6299  \n",
       "0  0.071429  ...    0.0   0.0   0.0   0.0   0.0   0.0   0.0   0.0   0.0   0.0  \n",
       "1  0.000000  ...    0.0   0.0   0.0   0.0   0.0   0.0   0.0   0.0   0.0   0.0  \n",
       "2  0.000000  ...    0.0   0.0   0.0   0.0   0.0   0.0   0.0   0.0   0.0   0.0  \n",
       "3  0.000000  ...    0.0   0.0   0.0   0.0   0.0   0.0   0.0   0.0   0.0   0.0  \n",
       "4  0.000000  ...    0.0   0.0   0.0   0.0   0.0   0.0   0.0   0.0   0.0   0.0  \n",
       "\n",
       "[5 rows x 6300 columns]"
      ]
     },
     "execution_count": 121,
     "metadata": {},
     "output_type": "execute_result"
    }
   ],
   "source": [
    "df = pd.read_csv('../data/2018-07-22-jw-weaselball_analysis_translation_matrix_out.csv')\n",
    "print(df.shape)\n",
    "df = df.apply(pd.to_numeric)\n",
    "df.head()"
   ]
  },
  {
   "cell_type": "code",
   "execution_count": 122,
   "metadata": {},
   "outputs": [
    {
     "data": {
      "text/plain": [
       "0    14.0\n",
       "1    15.0\n",
       "2    15.0\n",
       "3    15.0\n",
       "4    15.0\n",
       "Name: 0, dtype: float64"
      ]
     },
     "execution_count": 122,
     "metadata": {},
     "output_type": "execute_result"
    }
   ],
   "source": [
    "df_import_m = pd.read_csv('../data/2018-07-22-jw-weaselball_analysis_magnitude_vector_out.csv',  header=None);\n",
    "magnitude_V = df_import_m.iloc[:,0]\n",
    "magnitude_V = magnitude_V.apply(pd.to_numeric)\n",
    "magnitude_V = magnitude_V.astype(float)\n",
    "magnitude_V.head()"
   ]
  },
  {
   "cell_type": "code",
   "execution_count": 123,
   "metadata": {},
   "outputs": [],
   "source": [
    "NUMBER_OF_SQUARES = 100 #This should be a square number to create equal sized squares.\n",
    "RESOLUTION_OF_S1 = 0.1 #This is used to discretize the yaw angle over 0 - 2*pi\n",
    "START_X = 0\n",
    "START_Y = 0\n",
    "END_X = 9\n",
    "END_Y = 9\n",
    "END_YAW = 0\n",
    "counter = 0"
   ]
  },
  {
   "cell_type": "code",
   "execution_count": 124,
   "metadata": {},
   "outputs": [],
   "source": [
    "#The formula for mapping a 3D array to 1D is\n",
    "#(z * xMax * yMax) + (y * xMax) + x;\n",
    "#https://stackoverflow.com/questions/7367770/how-to-flatten-or-index-3d-array-in-1d-array\n",
    "X_MAX = NUMBER_OF_SQUARES ** (1/2.0)\n",
    "Y_MAX = NUMBER_OF_SQUARES ** (1/2.0)\n",
    "YAW_MAX = (2 * np.pi) / RESOLUTION_OF_S1\n",
    "mapping = Mapping(X_MAX, Y_MAX, YAW_MAX)#Fill in the logical areas that the system can reach (For now I am assuming it can go up/down 2 yaw states or the surronding (x,y) blocks)"
   ]
  },
  {
   "cell_type": "code",
   "execution_count": 125,
   "metadata": {},
   "outputs": [],
   "source": [
    "#https://vknight.org/unpeudemath/code/2015/11/15/Visualising-markov-chains.html\n",
    "#http://www.blackarbs.com/blog/introduction-hidden-markov-models-python-networkx-sklearn/2/9/2017"
   ]
  },
  {
   "cell_type": "code",
   "execution_count": 126,
   "metadata": {},
   "outputs": [],
   "source": [
    "#Use Dijkstras to find shortest path to goal\n",
    "#https://gist.github.com/kachayev/5990802\n",
    "from collections import defaultdict\n",
    "from heapq import *\n",
    "\n",
    "def dijkstra(edges, f, t):\n",
    "    #Create dict to represent graph\n",
    "    g = defaultdict(list)\n",
    "    #add edges to dictionary\n",
    "    for l,r,c in edges:\n",
    "        g[l].append((c,r))\n",
    "\n",
    "\n",
    "    q, seen, mins = [(1,f,())], set(), {f: 0}\n",
    "    while q:\n",
    "        (cost,v1,path) = heappop(q)\n",
    "        if v1 not in seen:\n",
    "            seen.add(v1)\n",
    "            path = (v1, path)\n",
    "            if v1 == t: return (cost, path)\n",
    "\n",
    "            for c, v2 in g.get(v1, ()):\n",
    "                if v2 in seen: continue\n",
    "                prev = mins.get(v2, None)\n",
    "                next = -abs(cost * c)\n",
    "                if prev is None or next < prev:\n",
    "                    mins[v2] = next\n",
    "                    heappush(q, (next, v2, path))\n",
    "\n",
    "    return (float(\"inf\"),)"
   ]
  },
  {
   "cell_type": "code",
   "execution_count": 131,
   "metadata": {},
   "outputs": [],
   "source": [
    "#Convert translation matrix into edges for graph\n",
    "edges = []\n",
    "for col in df.columns:\n",
    "    for idx in df.index:\n",
    "        if(df.loc[idx,col] != 0):\n",
    "            edges.append((int(col), int(idx), -df.loc[idx,col]))\n"
   ]
  },
  {
   "cell_type": "code",
   "execution_count": 128,
   "metadata": {},
   "outputs": [
    {
     "name": "stdout",
     "output_type": "stream",
     "text": [
      "(0,0,x) -> (9,9,0):\n",
      "[(-0.045454545454545456, (99, (0, ()))), (-0.045454545454545456, (99, (100, ()))), (-0.045454545454545456, (99, (200, ()))), (-0.0016835016835016834, (99, (189, (300, ())))), (-6.235191420376605e-05, (99, (188, (289, (400, ()))))), (-2.309330155695039e-06, (99, (188, (278, (389, (500, ())))))), (-8.553074650722366e-08, (99, (188, (277, (378, (489, (600, ()))))))), (-3.167805426193469e-09, (99, (188, (277, (367, (478, (589, (700, ())))))))), (-1.173261268960544e-10, (99, (188, (277, (366, (477, (588, (699, (800, ()))))))))), (-4.345412107261274e-12, (99, (188, (277, (366, (466, (577, (688, (799, (900, ())))))))))), (-1.6094118915782497e-13, (99, (188, (277, (366, (455, (556, (667, (778, (889, (1000, ()))))))))))), (-6.705882881576038e-15, (99, (108, (217, (326, (435, (546, (656, (767, (878, (989, (1100, ())))))))))))), (-5.960784783623146e-15, (99, (208, (317, (426, (535, (645, (756, (867, (978, (1089, (1200, ())))))))))))), (-2.2076980680085728e-16, (99, (198, (308, (419, (530, (639, (748, (857, (967, (1078, (1189, (1300, ()))))))))))))), (-8.176659511142862e-18, (99, (188, (297, (406, (515, (624, (734, (845, (956, (1067, (1178, (1289, (1400, ())))))))))))))), (-3.028392411534393e-19, (99, (188, (279, (390, (501, (612, (723, (834, (945, (1056, (1167, (1278, (1389, (1500, ()))))))))))))))), (-1.1216268190868122e-20, (99, (188, (277, (386, (495, (604, (713, (823, (934, (1045, (1156, (1267, (1378, (1489, (1600, ())))))))))))))))), (-4.15417340402523e-22, (99, (188, (277, (376, (485, (594, (703, (813, (923, (1034, (1145, (1256, (1367, (1478, (1589, (1700, ()))))))))))))))))), (-1.5385827422315665e-23, (99, (188, (277, (366, (475, (584, (693, (803, (913, (1023, (1134, (1245, (1356, (1467, (1578, (1689, (1800, ())))))))))))))))))), (-5.698454600857654e-25, (99, (188, (277, (366, (465, (574, (683, (792, (903, (1014, (1125, (1236, (1347, (1456, (1567, (1678, (1789, (1900, ()))))))))))))))))))), (-2.1105387410583898e-26, (99, (188, (277, (366, (455, (564, (673, (782, (891, (1001, (1112, (1223, (1334, (1445, (1556, (1667, (1778, (1889, (2000, ())))))))))))))))))))), (-8.47984315603817e-28, (99, (108, (217, (326, (435, (546, (657, (768, (879, (990, (1101, (1212, (1323, (1434, (1545, (1656, (1767, (1878, (1989, (2100, ()))))))))))))))))))))), (-7.816810152068109e-28, (99, (208, (317, (426, (535, (646, (757, (868, (979, (1090, (1201, (1312, (1423, (1534, (1645, (1756, (1867, (1978, (2089, (2200, ()))))))))))))))))))))), (-2.8951148711363366e-29, (99, (198, (308, (419, (530, (639, (748, (857, (968, (1079, (1190, (1301, (1412, (1523, (1634, (1745, (1856, (1967, (2078, (2189, (2300, ())))))))))))))))))))))), (-1.0722647670875322e-30, (99, (188, (297, (406, (515, (624, (735, (846, (957, (1068, (1179, (1290, (1401, (1512, (1623, (1734, (1845, (1956, (2067, (2178, (2289, (2400, ()))))))))))))))))))))))), (-3.971350989213082e-32, (99, (188, (287, (396, (505, (614, (724, (835, (946, (1057, (1168, (1279, (1390, (1501, (1612, (1723, (1834, (1945, (2056, (2167, (2278, (2389, (2500, ())))))))))))))))))))))))), (-1.4708707367455859e-33, (99, (188, (277, (386, (495, (604, (713, (824, (935, (1046, (1157, (1268, (1379, (1490, (1601, (1712, (1823, (1934, (2045, (2156, (2267, (2378, (2489, (2600, ()))))))))))))))))))))))))), (-5.447669395354022e-35, (99, (188, (277, (376, (485, (594, (703, (813, (924, (1035, (1146, (1257, (1368, (1479, (1590, (1701, (1812, (1923, (2034, (2145, (2256, (2367, (2478, (2589, (2700, ())))))))))))))))))))))))))), (-2.0176553316126006e-36, (99, (188, (277, (366, (475, (584, (693, (803, (914, (1025, (1136, (1247, (1357, (1468, (1579, (1690, (1801, (1912, (2023, (2134, (2245, (2356, (2467, (2578, (2689, (2800, ()))))))))))))))))))))))))))), (-7.472797524491113e-38, (99, (188, (277, (366, (465, (574, (683, (792, (903, (1014, (1125, (1236, (1347, (1457, (1568, (1679, (1790, (1901, (2012, (2123, (2234, (2345, (2456, (2567, (2678, (2789, (2900, ())))))))))))))))))))))))))))), (-2.76770278684856e-39, (99, (188, (277, (366, (455, (564, (673, (782, (892, (1003, (1114, (1225, (1335, (1446, (1557, (1668, (1779, (1890, (2001, (2112, (2223, (2334, (2445, (2556, (2667, (2778, (2889, (3000, ())))))))))))))))))))))))))))))]\n",
      "State 0 to state 99\n",
      "Min is x = 0 with P = (-0.045454545454545456, (99, (0, ())))\n"
     ]
    }
   ],
   "source": [
    "\n",
    "#\n",
    "#\n",
    "print \"({},{},x) -> ({},{},{}):\".format(START_X, START_Y, END_X, END_Y, END_YAW)\n",
    "x = range(int(np.pi/RESOLUTION_OF_S1))\n",
    "x_results = []\n",
    "for i in x:\n",
    "    x_results.append(dijkstra(edges, mapping.map3Dto1D(START_X,START_Y,i), mapping.map3Dto1D(END_X,END_Y,END_YAW)))\n",
    "print(x_results)\n",
    "(m,i) = min((v,i) for i,v in enumerate(x_results))\n",
    "print \"State {} to state {}\".format(mapping.map3Dto1D(START_X,START_Y,i), mapping.map3Dto1D(END_X,END_Y,END_YAW))\n",
    "print \"Min is x = {} with P = {}\".format(i,m)\n",
    "\n"
   ]
  },
  {
   "cell_type": "code",
   "execution_count": null,
   "metadata": {},
   "outputs": [],
   "source": [
    "#Take best path and make it into "
   ]
  },
  {
   "cell_type": "code",
   "execution_count": 135,
   "metadata": {},
   "outputs": [],
   "source": [
    "xvalues = np.array(range(int(X_MAX)))\n",
    "yvalues = np.array(range(int(Y_MAX)))"
   ]
  },
  {
   "cell_type": "code",
   "execution_count": 142,
   "metadata": {},
   "outputs": [
    {
     "data": {
      "text/plain": [
       "[<matplotlib.lines.Line2D at 0x7f9fff86ad10>,\n",
       " <matplotlib.lines.Line2D at 0x7f9ffc50a6d0>,\n",
       " <matplotlib.lines.Line2D at 0x7f9ffc50a790>,\n",
       " <matplotlib.lines.Line2D at 0x7f9ffc50a850>,\n",
       " <matplotlib.lines.Line2D at 0x7f9ffc50a910>,\n",
       " <matplotlib.lines.Line2D at 0x7f9ffc50a9d0>,\n",
       " <matplotlib.lines.Line2D at 0x7f9ffc50aa90>,\n",
       " <matplotlib.lines.Line2D at 0x7f9ffc50ab50>,\n",
       " <matplotlib.lines.Line2D at 0x7f9ffc50ac10>,\n",
       " <matplotlib.lines.Line2D at 0x7f9ffc50acd0>]"
      ]
     },
     "execution_count": 142,
     "metadata": {},
     "output_type": "execute_result"
    },
    {
     "data": {
      "image/png": "[encoded data removed]",
      "text/plain": [
       "<Figure size 432x288 with 1 Axes>"
      ]
     },
     "metadata": {},
     "output_type": "display_data"
    }
   ],
   "source": [
    "xx, yy = np.meshgrid(xvalues, yvalues)\n",
    "plt.grid()\n",
    "plt.plot(xx, yy, marker='.', color='k', linestyle=' ')"
   ]
  },
  {
   "cell_type": "code",
   "execution_count": null,
   "metadata": {},
   "outputs": [],
   "source": []
  }
 ],
 "metadata": {
  "kernelspec": {
   "display_name": "Python 2",
   "language": "python",
   "name": "python2"
  },
  "language_info": {
   "codemirror_mode": {
    "name": "ipython",
    "version": 2
   },
   "file_extension": ".py",
   "mimetype": "text/x-python",
   "name": "python",
   "nbconvert_exporter": "python",
   "pygments_lexer": "ipython2",
   "version": "2.7.13"
  }
 },
 "nbformat": 4,
 "nbformat_minor": 2
}
