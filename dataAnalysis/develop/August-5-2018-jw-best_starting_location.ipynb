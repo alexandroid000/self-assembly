{
 "cells": [
  {
   "cell_type": "code",
   "execution_count": 197,
   "metadata": {},
   "outputs": [
    {
     "name": "stdout",
     "output_type": "stream",
     "text": [
      "The version_information extension is already loaded. To reload it, use:\n",
      "  %reload_ext version_information\n"
     ]
    }
   ],
   "source": [
    "#!/usr/bin/env python\n",
    "import pandas as pd\n",
    "import numpy as np\n",
    "import matplotlib.pyplot as plt\n",
    "import seaborn as sns\n",
    "from mapping import Mapping\n",
    "\n",
    "%load_ext version_information\n",
    "%version_information numpy, pandas, matplotlib\n",
    "%version_information\n",
    "fig_prefix = \"../figures/2018-07-22-jw-weaselball-starting_location_\"\n",
    "data_prefix = \"../data/2018-07-22-jw-weaselball-starting_location_\"\n"
   ]
  },
  {
   "cell_type": "code",
   "execution_count": 198,
   "metadata": {},
   "outputs": [
    {
     "name": "stdout",
     "output_type": "stream",
     "text": [
      "(6300, 6300)\n"
     ]
    },
    {
     "data": {
      "text/html": [
       "<div>\n",
       "<style scoped>\n",
       "    .dataframe tbody tr th:only-of-type {\n",
       "        vertical-align: middle;\n",
       "    }\n",
       "\n",
       "    .dataframe tbody tr th {\n",
       "        vertical-align: top;\n",
       "    }\n",
       "\n",
       "    .dataframe thead th {\n",
       "        text-align: right;\n",
       "    }\n",
       "</style>\n",
       "<table border=\"1\" class=\"dataframe\">\n",
       "  <thead>\n",
       "    <tr style=\"text-align: right;\">\n",
       "      <th></th>\n",
       "      <th>0</th>\n",
       "      <th>1</th>\n",
       "      <th>2</th>\n",
       "      <th>3</th>\n",
       "      <th>4</th>\n",
       "      <th>5</th>\n",
       "      <th>6</th>\n",
       "      <th>7</th>\n",
       "      <th>8</th>\n",
       "      <th>9</th>\n",
       "      <th>...</th>\n",
       "      <th>6290</th>\n",
       "      <th>6291</th>\n",
       "      <th>6292</th>\n",
       "      <th>6293</th>\n",
       "      <th>6294</th>\n",
       "      <th>6295</th>\n",
       "      <th>6296</th>\n",
       "      <th>6297</th>\n",
       "      <th>6298</th>\n",
       "      <th>6299</th>\n",
       "    </tr>\n",
       "  </thead>\n",
       "  <tbody>\n",
       "    <tr>\n",
       "      <th>0</th>\n",
       "      <td>0.902985</td>\n",
       "      <td>0.007463</td>\n",
       "      <td>0.000000</td>\n",
       "      <td>0.000000</td>\n",
       "      <td>0.000000</td>\n",
       "      <td>0.000000</td>\n",
       "      <td>0.0</td>\n",
       "      <td>0.0</td>\n",
       "      <td>0.0</td>\n",
       "      <td>0.007463</td>\n",
       "      <td>...</td>\n",
       "      <td>0.0</td>\n",
       "      <td>0.0</td>\n",
       "      <td>0.0</td>\n",
       "      <td>0.0</td>\n",
       "      <td>0.0</td>\n",
       "      <td>0.0</td>\n",
       "      <td>0.0</td>\n",
       "      <td>0.0</td>\n",
       "      <td>0.0</td>\n",
       "      <td>0.0</td>\n",
       "    </tr>\n",
       "    <tr>\n",
       "      <th>1</th>\n",
       "      <td>0.006944</td>\n",
       "      <td>0.902778</td>\n",
       "      <td>0.006944</td>\n",
       "      <td>0.000000</td>\n",
       "      <td>0.000000</td>\n",
       "      <td>0.000000</td>\n",
       "      <td>0.0</td>\n",
       "      <td>0.0</td>\n",
       "      <td>0.0</td>\n",
       "      <td>0.000000</td>\n",
       "      <td>...</td>\n",
       "      <td>0.0</td>\n",
       "      <td>0.0</td>\n",
       "      <td>0.0</td>\n",
       "      <td>0.0</td>\n",
       "      <td>0.0</td>\n",
       "      <td>0.0</td>\n",
       "      <td>0.0</td>\n",
       "      <td>0.0</td>\n",
       "      <td>0.0</td>\n",
       "      <td>0.0</td>\n",
       "    </tr>\n",
       "    <tr>\n",
       "      <th>2</th>\n",
       "      <td>0.000000</td>\n",
       "      <td>0.005814</td>\n",
       "      <td>0.918605</td>\n",
       "      <td>0.005814</td>\n",
       "      <td>0.000000</td>\n",
       "      <td>0.000000</td>\n",
       "      <td>0.0</td>\n",
       "      <td>0.0</td>\n",
       "      <td>0.0</td>\n",
       "      <td>0.000000</td>\n",
       "      <td>...</td>\n",
       "      <td>0.0</td>\n",
       "      <td>0.0</td>\n",
       "      <td>0.0</td>\n",
       "      <td>0.0</td>\n",
       "      <td>0.0</td>\n",
       "      <td>0.0</td>\n",
       "      <td>0.0</td>\n",
       "      <td>0.0</td>\n",
       "      <td>0.0</td>\n",
       "      <td>0.0</td>\n",
       "    </tr>\n",
       "    <tr>\n",
       "      <th>3</th>\n",
       "      <td>0.000000</td>\n",
       "      <td>0.000000</td>\n",
       "      <td>0.007353</td>\n",
       "      <td>0.897059</td>\n",
       "      <td>0.007353</td>\n",
       "      <td>0.000000</td>\n",
       "      <td>0.0</td>\n",
       "      <td>0.0</td>\n",
       "      <td>0.0</td>\n",
       "      <td>0.000000</td>\n",
       "      <td>...</td>\n",
       "      <td>0.0</td>\n",
       "      <td>0.0</td>\n",
       "      <td>0.0</td>\n",
       "      <td>0.0</td>\n",
       "      <td>0.0</td>\n",
       "      <td>0.0</td>\n",
       "      <td>0.0</td>\n",
       "      <td>0.0</td>\n",
       "      <td>0.0</td>\n",
       "      <td>0.0</td>\n",
       "    </tr>\n",
       "    <tr>\n",
       "      <th>4</th>\n",
       "      <td>0.000000</td>\n",
       "      <td>0.000000</td>\n",
       "      <td>0.000000</td>\n",
       "      <td>0.006536</td>\n",
       "      <td>0.908497</td>\n",
       "      <td>0.006536</td>\n",
       "      <td>0.0</td>\n",
       "      <td>0.0</td>\n",
       "      <td>0.0</td>\n",
       "      <td>0.000000</td>\n",
       "      <td>...</td>\n",
       "      <td>0.0</td>\n",
       "      <td>0.0</td>\n",
       "      <td>0.0</td>\n",
       "      <td>0.0</td>\n",
       "      <td>0.0</td>\n",
       "      <td>0.0</td>\n",
       "      <td>0.0</td>\n",
       "      <td>0.0</td>\n",
       "      <td>0.0</td>\n",
       "      <td>0.0</td>\n",
       "    </tr>\n",
       "  </tbody>\n",
       "</table>\n",
       "<p>5 rows × 6300 columns</p>\n",
       "</div>"
      ],
      "text/plain": [
       "          0         1         2         3         4         5    6    7    8  \\\n",
       "0  0.902985  0.007463  0.000000  0.000000  0.000000  0.000000  0.0  0.0  0.0   \n",
       "1  0.006944  0.902778  0.006944  0.000000  0.000000  0.000000  0.0  0.0  0.0   \n",
       "2  0.000000  0.005814  0.918605  0.005814  0.000000  0.000000  0.0  0.0  0.0   \n",
       "3  0.000000  0.000000  0.007353  0.897059  0.007353  0.000000  0.0  0.0  0.0   \n",
       "4  0.000000  0.000000  0.000000  0.006536  0.908497  0.006536  0.0  0.0  0.0   \n",
       "\n",
       "          9  ...   6290  6291  6292  6293  6294  6295  6296  6297  6298  6299  \n",
       "0  0.007463  ...    0.0   0.0   0.0   0.0   0.0   0.0   0.0   0.0   0.0   0.0  \n",
       "1  0.000000  ...    0.0   0.0   0.0   0.0   0.0   0.0   0.0   0.0   0.0   0.0  \n",
       "2  0.000000  ...    0.0   0.0   0.0   0.0   0.0   0.0   0.0   0.0   0.0   0.0  \n",
       "3  0.000000  ...    0.0   0.0   0.0   0.0   0.0   0.0   0.0   0.0   0.0   0.0  \n",
       "4  0.000000  ...    0.0   0.0   0.0   0.0   0.0   0.0   0.0   0.0   0.0   0.0  \n",
       "\n",
       "[5 rows x 6300 columns]"
      ]
     },
     "execution_count": 198,
     "metadata": {},
     "output_type": "execute_result"
    }
   ],
   "source": [
    "df = pd.read_csv('../data/2018-07-22-jw-weaselball_analysis_translation_matrix_out.csv')\n",
    "print(df.shape)\n",
    "df = df.apply(pd.to_numeric)\n",
    "df.head()"
   ]
  },
  {
   "cell_type": "code",
   "execution_count": 199,
   "metadata": {},
   "outputs": [
    {
     "data": {
      "text/plain": [
       "0    134.0\n",
       "1    144.0\n",
       "2    172.0\n",
       "3    136.0\n",
       "4    153.0\n",
       "Name: 0, dtype: float64"
      ]
     },
     "execution_count": 199,
     "metadata": {},
     "output_type": "execute_result"
    }
   ],
   "source": [
    "df_import_m = pd.read_csv('../data/2018-07-22-jw-weaselball_analysis_magnitude_vector_out.csv',  header=None);\n",
    "magnitude_V = df_import_m.iloc[:,0]\n",
    "magnitude_V = magnitude_V.apply(pd.to_numeric)\n",
    "magnitude_V = magnitude_V.astype(float)\n",
    "magnitude_V.head()"
   ]
  },
  {
   "cell_type": "code",
   "execution_count": 200,
   "metadata": {},
   "outputs": [],
   "source": [
    "NUMBER_OF_SQUARES = 100 #This should be a square number to create equal sized squares.\n",
    "RESOLUTION_OF_S1 = 0.1 #This is used to discretize the yaw angle over 0 - 2*pi\n",
    "START_X = 0\n",
    "START_Y = 0\n",
    "END_X = 9\n",
    "END_Y = 9\n",
    "END_YAW = 0\n",
    "counter = 0"
   ]
  },
  {
   "cell_type": "code",
   "execution_count": 201,
   "metadata": {},
   "outputs": [],
   "source": [
    "#The formula for mapping a 3D array to 1D is\n",
    "#(z * xMax * yMax) + (y * xMax) + x;\n",
    "#https://stackoverflow.com/questions/7367770/how-to-flatten-or-index-3d-array-in-1d-array\n",
    "X_MAX = NUMBER_OF_SQUARES ** (1/2.0)\n",
    "Y_MAX = NUMBER_OF_SQUARES ** (1/2.0)\n",
    "YAW_MAX = (2 * np.pi) / RESOLUTION_OF_S1\n",
    "mapping = Mapping(X_MAX, Y_MAX, YAW_MAX)#Fill in the logical areas that the system can reach (For now I am assuming it can go up/down 2 yaw states or the surronding (x,y) blocks)"
   ]
  },
  {
   "cell_type": "code",
   "execution_count": 202,
   "metadata": {},
   "outputs": [],
   "source": [
    "#https://vknight.org/unpeudemath/code/2015/11/15/Visualising-markov-chains.html\n",
    "#http://www.blackarbs.com/blog/introduction-hidden-markov-models-python-networkx-sklearn/2/9/2017"
   ]
  },
  {
   "cell_type": "code",
   "execution_count": 203,
   "metadata": {},
   "outputs": [],
   "source": [
    "#Use Dijkstras to find shortest path to goal\n",
    "#https://gist.github.com/kachayev/5990802\n",
    "from collections import defaultdict\n",
    "from heapq import *\n",
    "\n",
    "def dijkstra(edges, f, t):\n",
    "    #Create dict to represent graph\n",
    "    g = defaultdict(list)\n",
    "    #add edges to dictionary\n",
    "    for l,r,c in edges:\n",
    "        g[l].append((c,r))\n",
    "\n",
    "\n",
    "    q, seen, mins = [(1,f,())], set(), {f: 0}\n",
    "    while q:\n",
    "        (cost,v1,path) = heappop(q)\n",
    "        if v1 not in seen:\n",
    "            seen.add(v1)\n",
    "            path = (v1, path)\n",
    "            if v1 == t: return (cost, path)\n",
    "\n",
    "            for c, v2 in g.get(v1, ()):\n",
    "                if v2 in seen: continue\n",
    "                prev = mins.get(v2, None)\n",
    "                next = -abs(cost * c)\n",
    "                if prev is None or next < prev:\n",
    "                    mins[v2] = next\n",
    "                    heappush(q, (next, v2, path))\n",
    "\n",
    "    return (float(\"inf\"),)"
   ]
  },
  {
   "cell_type": "code",
   "execution_count": 211,
   "metadata": {},
   "outputs": [],
   "source": [
    "#Convert translation matrix into edges for graph\n",
    "edges = []\n",
    "total_runs = magnitude_V.sum()\n",
    "for col in df.columns:\n",
    "    for idx in df.index:\n",
    "        if(df.loc[idx,col] != 0):\n",
    "            edges.append((int(col), int(idx), -df.loc[idx,col] * (magnitude_V[idx]/total_runs)))\n"
   ]
  },
  {
   "cell_type": "code",
   "execution_count": 212,
   "metadata": {},
   "outputs": [
    {
     "name": "stdout",
     "output_type": "stream",
     "text": [
      "(0,0,x) -> (9,9,0):\n",
      "[(-6.786958723074438e-07, (99, (0, ()))), (-6.786958723074438e-07, (99, (100, ()))), (-6.786958723074438e-07, (99, (200, ()))), (-4.606280870871621e-13, (99, (189, (300, ())))), (-3.1262638137493073e-19, (99, (188, (289, (400, ()))))), (-2.1217823461357823e-25, (99, (188, (278, (389, (500, ())))))), (-1.44004492025716e-31, (99, (199, (308, (419, (510, (600, ()))))))), (-9.773525433158366e-38, (99, (188, (278, (377, (488, (589, (700, ())))))))), (-6.633251369376407e-44, (99, (199, (308, (419, (510, (599, (709, (800, ()))))))))), (-4.501960324373468e-50, (99, (188, (278, (377, (466, (577, (688, (799, (900, ())))))))))), (-3.055461889444154e-56, (99, (188, (278, (377, (466, (577, (687, (778, (889, (1000, ()))))))))))), (-2.073729372358451e-62, (99, (188, (278, (377, (486, (597, (698, (809, (900, (999, (1100, ())))))))))))), (-2.0737293723584487e-62, (99, (208, (317, (428, (538, (647, (758, (869, (979, (1089, (1200, ())))))))))))), (-1.4074315653023864e-68, (99, (199, (308, (418, (529, (640, (751, (861, (970, (1080, (1191, (1300, ()))))))))))))), (-9.552179939259343e-75, (99, (199, (308, (407, (517, (627, (738, (849, (958, (1069, (1178, (1289, (1400, ())))))))))))))), (-6.483025096313289e-81, (99, (199, (308, (418, (529, (640, (751, (861, (962, (1062, (1172, (1281, (1390, (1500, ()))))))))))))))), (-4.400002372933398e-87, (99, (199, (308, (418, (529, (640, (751, (861, (962, (1062, (1172, (1283, (1392, (1491, (1600, ())))))))))))))))), (-2.986263448652856e-93, (99, (199, (308, (418, (529, (640, (751, (861, (960, (1069, (1178, (1278, (1387, (1478, (1589, (1700, ()))))))))))))))))), (-2.0267646762232863e-99, (99, (188, (278, (377, (486, (597, (698, (809, (920, (1029, (1139, (1250, (1360, (1469, (1580, (1689, (1800, ())))))))))))))))))), (-1.3755568198912777e-105, (99, (199, (308, (419, (510, (611, (722, (831, (920, (1029, (1139, (1250, (1360, (1469, (1580, (1679, (1789, (1900, ()))))))))))))))))))), (-9.33584735784564e-112, (99, (188, (278, (377, (486, (597, (698, (809, (920, (1029, (1139, (1250, (1360, (1469, (1580, (1689, (1779, (1890, (2000, ())))))))))))))))))))), (-6.336201066262193e-118, (99, (188, (278, (377, (486, (597, (698, (799, (900, (1010, (1119, (1228, (1337, (1446, (1557, (1667, (1778, (1879, (1990, (2100, ()))))))))))))))))))))), (-6.336201066262181e-118, (99, (208, (319, (430, (541, (652, (762, (873, (984, (1095, (1206, (1317, (1428, (1538, (1648, (1757, (1867, (1978, (2089, (2200, ()))))))))))))))))))))), (-4.300353509782169e-124, (99, (199, (308, (418, (527, (636, (747, (858, (969, (1080, (1191, (1302, (1413, (1524, (1634, (1745, (1856, (1967, (2078, (2189, (2300, ())))))))))))))))))))))), (-2.918632176551987e-130, (99, (199, (308, (418, (527, (636, (747, (858, (969, (1078, (1188, (1297, (1408, (1519, (1630, (1740, (1849, (1958, (2069, (2180, (2291, (2400, ()))))))))))))))))))))))), (-1.980863611009526e-136, (99, (199, (308, (418, (527, (636, (747, (858, (958, (1069, (1178, (1289, (1399, (1510, (1621, (1732, (1843, (1954, (2063, (2172, (2281, (2390, (2500, ())))))))))))))))))))))))), (-1.3444039563961834e-142, (99, (199, (308, (418, (529, (640, (751, (861, (960, (1069, (1178, (1289, (1400, (1511, (1621, (1732, (1843, (1954, (2063, (2172, (2281, (2380, (2489, (2600, ()))))))))))))))))))))))))), (-9.124414159198866e-149, (99, (199, (308, (418, (529, (640, (751, (861, (951, (1062, (1172, (1283, (1392, (1503, (1604, (1715, (1826, (1937, (2046, (2157, (2267, (2377, (2488, (2589, (2700, ())))))))))))))))))))))))))), (-6.192702227071868e-155, (99, (199, (308, (418, (529, (640, (751, (861, (962, (1062, (1172, (1283, (1394, (1505, (1616, (1707, (1818, (1928, (2039, (2150, (2261, (2361, (2470, (2579, (2690, (2800, ()))))))))))))))))))))))))))), (-4.202961439942791e-161, (99, (188, (278, (377, (486, (597, (698, (809, (920, (1029, (1138, (1247, (1358, (1469, (1580, (1689, (1799, (1909, (2018, (2127, (2238, (2348, (2457, (2568, (2678, (2789, (2900, ())))))))))))))))))))))))))))), (-2.8525325807565237e-167, (99, (188, (278, (377, (486, (597, (698, (809, (920, (1029, (1139, (1249, (1360, (1469, (1580, (1679, (1788, (1897, (2008, (2118, (2229, (2339, (2449, (2559, (2669, (2780, (2889, (3000, ())))))))))))))))))))))))))))))]\n",
      "State 0 to state 99\n",
      "Min is x = 0 with P = (-6.786958723074438e-07, (99, (0, ())))\n"
     ]
    }
   ],
   "source": [
    "\n",
    "#\n",
    "#\n",
    "print \"({},{},x) -> ({},{},{}):\".format(START_X, START_Y, END_X, END_Y, END_YAW)\n",
    "x = range(int(np.pi/RESOLUTION_OF_S1))\n",
    "x_results = []\n",
    "for i in x:\n",
    "    x_results.append(dijkstra(edges, mapping.map3Dto1D(START_X,START_Y,i), mapping.map3Dto1D(END_X,END_Y,END_YAW)))\n",
    "print(x_results)\n",
    "(m,i) = min((v,i) for i,v in enumerate(x_results))\n",
    "print \"State {} to state {}\".format(mapping.map3Dto1D(START_X,START_Y,i), mapping.map3Dto1D(END_X,END_Y,END_YAW))\n",
    "print \"Min is x = {} with P = {}\".format(i,m)\n",
    "\n"
   ]
  },
  {
   "cell_type": "code",
   "execution_count": 213,
   "metadata": {},
   "outputs": [
    {
     "data": {
      "text/plain": [
       "[(0, 0, 0), (9, 9, 0)]"
      ]
     },
     "execution_count": 213,
     "metadata": {},
     "output_type": "execute_result"
    }
   ],
   "source": [
    "#Take best path and make it into list of x,y,yaw points\n",
    "import re\n",
    "prob = m[0]\n",
    "best_tuple = m[1]\n",
    "best_list = re.findall(r'\\d+', str(best_tuple))\n",
    "best_list = map(int, best_list)\n",
    "best_list = reversed(best_list)\n",
    "best_list = map(mapping.map1Dto3D, best_list)\n",
    "best_list"
   ]
  },
  {
   "cell_type": "code",
   "execution_count": 214,
   "metadata": {},
   "outputs": [],
   "source": [
    "#Turn (x,y,yaw) into lists that quiver likes X_start, Y_start, X_end, Y_end for all arrows\n",
    "start_X = []\n",
    "start_Y = []\n",
    "end_X = []\n",
    "end_Y = []\n",
    "for i in range(len(best_list)-1):\n",
    "    curr_tuple = best_list[i]\n",
    "    next_tuple = best_list[i+1]\n",
    "    start_X.append(curr_tuple[0])\n",
    "    start_Y.append(curr_tuple[1])\n",
    "    end_X.append(next_tuple[0])\n",
    "    end_Y.append(next_tuple[1])"
   ]
  },
  {
   "cell_type": "code",
   "execution_count": 215,
   "metadata": {},
   "outputs": [],
   "source": [
    "xvalues = np.array(range(int(X_MAX)))\n",
    "yvalues = np.array(range(int(Y_MAX)))"
   ]
  },
  {
   "cell_type": "code",
   "execution_count": 216,
   "metadata": {},
   "outputs": [
    {
     "data": {
      "text/plain": [
       "[<matplotlib.lines.Line2D at 0x7fa024b35290>,\n",
       " <matplotlib.lines.Line2D at 0x7fa000ff2350>,\n",
       " <matplotlib.lines.Line2D at 0x7fa000ff2410>,\n",
       " <matplotlib.lines.Line2D at 0x7fa000ff24d0>,\n",
       " <matplotlib.lines.Line2D at 0x7fa000ff2590>,\n",
       " <matplotlib.lines.Line2D at 0x7fa000ff2650>,\n",
       " <matplotlib.lines.Line2D at 0x7fa000ff2710>,\n",
       " <matplotlib.lines.Line2D at 0x7fa000ff27d0>,\n",
       " <matplotlib.lines.Line2D at 0x7fa000ff2890>,\n",
       " <matplotlib.lines.Line2D at 0x7fa000ff2950>]"
      ]
     },
     "execution_count": 216,
     "metadata": {},
     "output_type": "execute_result"
    },
    {
     "data": {
      "image/png": "[encoded data removed]",
      "text/plain": [
       "<Figure size 576x576 with 1 Axes>"
      ]
     },
     "metadata": {},
     "output_type": "display_data"
    }
   ],
   "source": [
    "xx, yy = np.meshgrid(xvalues, yvalues)\n",
    "fig = plt.figure(figsize=(8, 8))\n",
    "ax = fig.add_subplot(111)\n",
    "ax.quiver(start_X, start_Y, end_X, end_Y, units = 'xy', scale = 1)\n",
    "plt.axis('equal')\n",
    "plt.xticks(range(10))\n",
    "plt.yticks(range(10))\n",
    "\n",
    "plt.grid()\n",
    "plt.plot(xx, yy, marker='.', color='k', linestyle=' ')"
   ]
  },
  {
   "cell_type": "code",
   "execution_count": 218,
   "metadata": {},
   "outputs": [
    {
     "name": "stdout",
     "output_type": "stream",
     "text": [
      "1.0\n"
     ]
    }
   ],
   "source": [
    "#This tells us how often the 0 to 99 case occurs\n",
    "print(df.iloc[0,99] * magnitude_V[0])\n"
   ]
  },
  {
   "cell_type": "code",
   "execution_count": null,
   "metadata": {},
   "outputs": [],
   "source": []
  }
 ],
 "metadata": {
  "kernelspec": {
   "display_name": "Python 2",
   "language": "python",
   "name": "python2"
  },
  "language_info": {
   "codemirror_mode": {
    "name": "ipython",
    "version": 2
   },
   "file_extension": ".py",
   "mimetype": "text/x-python",
   "name": "python",
   "nbconvert_exporter": "python",
   "pygments_lexer": "ipython2",
   "version": "2.7.13"
  }
 },
 "nbformat": 4,
 "nbformat_minor": 2
}
