{
 "cells": [
  {
   "cell_type": "code",
   "execution_count": 210,
   "metadata": {},
   "outputs": [],
   "source": [
    "import numpy as np\n",
    "import pandas as pd\n",
    "import seaborn as sns\n",
    "import matplotlib.pyplot as plt\n",
    "\n",
    "fig_prefix = \"../figures/hittingtime_\"\n",
    "data_prefix = \"../data/hittingtime_\""
   ]
  },
  {
   "cell_type": "markdown",
   "metadata": {},
   "source": [
    "# Get simulated data results"
   ]
  },
  {
   "cell_type": "code",
   "execution_count": 211,
   "metadata": {},
   "outputs": [],
   "source": [
    "#import data\n",
    "df = pd.read_csv('../data/hittingtime100Dense2_1x1.csv', header=None)"
   ]
  },
  {
   "cell_type": "code",
   "execution_count": 212,
   "metadata": {},
   "outputs": [],
   "source": [
    "M = df.values\n",
    "M = np.asmatrix(M)\n",
    "M = M.reshape((100,100))"
   ]
  },
  {
   "cell_type": "code",
   "execution_count": 213,
   "metadata": {},
   "outputs": [
    {
     "data": {
      "text/plain": [
       "matrix([[   0.        ,   60.98060567,   92.69469705, ...,  215.26433777,\n",
       "          216.43091357,  217.04292865],\n",
       "        [  60.98060567,    0.        ,   83.06833938, ...,  214.61046481,\n",
       "          215.73573182,  216.33547903],\n",
       "        [  92.69469705,   83.06833938,    0.        , ...,  213.23123921,\n",
       "          214.21186366,  214.76770604],\n",
       "        ..., \n",
       "        [ 215.26433777,  214.61046481,  213.23123921, ...,    0.        ,\n",
       "           83.13319486,   91.23912748],\n",
       "        [ 216.43091357,  215.73573182,  214.21186366, ...,   83.13319486,\n",
       "            0.        ,   60.90381562],\n",
       "        [ 217.04292865,  216.33547903,  214.76770604, ...,   91.23912748,\n",
       "           60.90381562,    0.        ]])"
      ]
     },
     "execution_count": 213,
     "metadata": {},
     "output_type": "execute_result"
    }
   ],
   "source": [
    "M"
   ]
  },
  {
   "cell_type": "code",
   "execution_count": 214,
   "metadata": {},
   "outputs": [
    {
     "data": {
      "text/plain": [
       "217.51995258900101"
      ]
     },
     "execution_count": 214,
     "metadata": {},
     "output_type": "execute_result"
    }
   ],
   "source": [
    "M[9,90]"
   ]
  },
  {
   "cell_type": "code",
   "execution_count": 215,
   "metadata": {},
   "outputs": [
    {
     "data": {
      "text/plain": [
       "217.51995258900101"
      ]
     },
     "execution_count": 215,
     "metadata": {},
     "output_type": "execute_result"
    }
   ],
   "source": [
    "M[90,9]"
   ]
  },
  {
   "cell_type": "code",
   "execution_count": 216,
   "metadata": {},
   "outputs": [
    {
     "data": {
      "text/plain": [
       "196.82253371829569"
      ]
     },
     "execution_count": 216,
     "metadata": {},
     "output_type": "execute_result"
    }
   ],
   "source": [
    "M[0,9]"
   ]
  },
  {
   "cell_type": "code",
   "execution_count": 217,
   "metadata": {},
   "outputs": [
    {
     "data": {
      "text/plain": [
       "196.82253371829566"
      ]
     },
     "execution_count": 217,
     "metadata": {},
     "output_type": "execute_result"
    }
   ],
   "source": [
    "M[9,0]"
   ]
  },
  {
   "cell_type": "code",
   "execution_count": 218,
   "metadata": {},
   "outputs": [
    {
     "data": {
      "text/plain": [
       "(1, 100)"
      ]
     },
     "execution_count": 218,
     "metadata": {},
     "output_type": "execute_result"
    }
   ],
   "source": [
    "sample = M[0,:]\n",
    "sample.shape"
   ]
  },
  {
   "cell_type": "code",
   "execution_count": 219,
   "metadata": {},
   "outputs": [],
   "source": [
    "sample = sample.reshape((10,10))"
   ]
  },
  {
   "cell_type": "code",
   "execution_count": 367,
   "metadata": {},
   "outputs": [
    {
     "data": {
      "image/png": "[encoded data removed]",
      "text/plain": [
       "<matplotlib.figure.Figure at 0x7fd639a92f50>"
      ]
     },
     "metadata": {},
     "output_type": "display_data"
    }
   ],
   "source": [
    "#Create graphic heatmap of position without n taken out\n",
    "#Take the log of everything so it can be graphed, add 1 to get rid of log(0)\n",
    "\n",
    "heatmap_position = sns.heatmap(sample, annot=False,vmax=275, cmap=\"YlGnBu\").set_title('Hitting time from (0,0) to (X,Y)')\n",
    "plot = heatmap_position.get_figure()\n",
    "plot.savefig(fig_prefix + \"position_heatmap.png\")\n",
    "plot.savefig(fig_prefix + 'position_heatmap.eps', format='eps', dpi=1000)"
   ]
  },
  {
   "cell_type": "markdown",
   "metadata": {},
   "source": [
    "# Real Life Data"
   ]
  },
  {
   "cell_type": "markdown",
   "metadata": {},
   "source": [
    "## 1x1 data"
   ]
  },
  {
   "cell_type": "code",
   "execution_count": 260,
   "metadata": {},
   "outputs": [
    {
     "data": {
      "text/html": [
       "<div>\n",
       "<style scoped>\n",
       "    .dataframe tbody tr th:only-of-type {\n",
       "        vertical-align: middle;\n",
       "    }\n",
       "\n",
       "    .dataframe tbody tr th {\n",
       "        vertical-align: top;\n",
       "    }\n",
       "\n",
       "    .dataframe thead th {\n",
       "        text-align: right;\n",
       "    }\n",
       "</style>\n",
       "<table border=\"1\" class=\"dataframe\">\n",
       "  <thead>\n",
       "    <tr style=\"text-align: right;\">\n",
       "      <th></th>\n",
       "      <th>0</th>\n",
       "      <th>start</th>\n",
       "    </tr>\n",
       "  </thead>\n",
       "  <tbody>\n",
       "    <tr>\n",
       "      <th>20</th>\n",
       "      <td>4.22</td>\n",
       "      <td>(9,9)</td>\n",
       "    </tr>\n",
       "    <tr>\n",
       "      <th>52</th>\n",
       "      <td>3.95</td>\n",
       "      <td>(9,9)</td>\n",
       "    </tr>\n",
       "    <tr>\n",
       "      <th>57</th>\n",
       "      <td>1.91</td>\n",
       "      <td>(9,9)</td>\n",
       "    </tr>\n",
       "    <tr>\n",
       "      <th>29</th>\n",
       "      <td>24.48</td>\n",
       "      <td>(9,9)</td>\n",
       "    </tr>\n",
       "    <tr>\n",
       "      <th>43</th>\n",
       "      <td>2.38</td>\n",
       "      <td>(9,9)</td>\n",
       "    </tr>\n",
       "  </tbody>\n",
       "</table>\n",
       "</div>"
      ],
      "text/plain": [
       "        0  start\n",
       "20   4.22  (9,9)\n",
       "52   3.95  (9,9)\n",
       "57   1.91  (9,9)\n",
       "29  24.48  (9,9)\n",
       "43   2.38  (9,9)"
      ]
     },
     "execution_count": 260,
     "metadata": {},
     "output_type": "execute_result"
    }
   ],
   "source": [
    "df_cross = pd.read_csv('../data/reallife1x1.csv', header=None)\n",
    "df_cross = df_cross.sample(n=20)\n",
    "df_cross['start'] = '(9,9)'\n",
    "df_cross.head()"
   ]
  },
  {
   "cell_type": "code",
   "execution_count": 261,
   "metadata": {},
   "outputs": [
    {
     "data": {
      "text/html": [
       "<div>\n",
       "<style scoped>\n",
       "    .dataframe tbody tr th:only-of-type {\n",
       "        vertical-align: middle;\n",
       "    }\n",
       "\n",
       "    .dataframe tbody tr th {\n",
       "        vertical-align: top;\n",
       "    }\n",
       "\n",
       "    .dataframe thead th {\n",
       "        text-align: right;\n",
       "    }\n",
       "</style>\n",
       "<table border=\"1\" class=\"dataframe\">\n",
       "  <thead>\n",
       "    <tr style=\"text-align: right;\">\n",
       "      <th></th>\n",
       "      <th>0</th>\n",
       "      <th>start</th>\n",
       "    </tr>\n",
       "  </thead>\n",
       "  <tbody>\n",
       "    <tr>\n",
       "      <th>0</th>\n",
       "      <td>4.97</td>\n",
       "      <td>(9,0)</td>\n",
       "    </tr>\n",
       "    <tr>\n",
       "      <th>1</th>\n",
       "      <td>5.17</td>\n",
       "      <td>(9,0)</td>\n",
       "    </tr>\n",
       "    <tr>\n",
       "      <th>2</th>\n",
       "      <td>30.94</td>\n",
       "      <td>(9,0)</td>\n",
       "    </tr>\n",
       "    <tr>\n",
       "      <th>3</th>\n",
       "      <td>4.58</td>\n",
       "      <td>(9,0)</td>\n",
       "    </tr>\n",
       "    <tr>\n",
       "      <th>4</th>\n",
       "      <td>11.30</td>\n",
       "      <td>(9,0)</td>\n",
       "    </tr>\n",
       "  </tbody>\n",
       "</table>\n",
       "</div>"
      ],
      "text/plain": [
       "       0  start\n",
       "0   4.97  (9,0)\n",
       "1   5.17  (9,0)\n",
       "2  30.94  (9,0)\n",
       "3   4.58  (9,0)\n",
       "4  11.30  (9,0)"
      ]
     },
     "execution_count": 261,
     "metadata": {},
     "output_type": "execute_result"
    }
   ],
   "source": [
    "df_adj = pd.read_csv('../data/reallife1x1_adjacent.csv', header=None)\n",
    "df_adj['start'] = '(9,0)'\n",
    "df_adj.head()"
   ]
  },
  {
   "cell_type": "code",
   "execution_count": 262,
   "metadata": {},
   "outputs": [
    {
     "data": {
      "text/html": [
       "<div>\n",
       "<style scoped>\n",
       "    .dataframe tbody tr th:only-of-type {\n",
       "        vertical-align: middle;\n",
       "    }\n",
       "\n",
       "    .dataframe tbody tr th {\n",
       "        vertical-align: top;\n",
       "    }\n",
       "\n",
       "    .dataframe thead th {\n",
       "        text-align: right;\n",
       "    }\n",
       "</style>\n",
       "<table border=\"1\" class=\"dataframe\">\n",
       "  <thead>\n",
       "    <tr style=\"text-align: right;\">\n",
       "      <th></th>\n",
       "      <th>0</th>\n",
       "      <th>start</th>\n",
       "    </tr>\n",
       "  </thead>\n",
       "  <tbody>\n",
       "    <tr>\n",
       "      <th>0</th>\n",
       "      <td>2.98</td>\n",
       "      <td>(0,4)</td>\n",
       "    </tr>\n",
       "    <tr>\n",
       "      <th>1</th>\n",
       "      <td>5.96</td>\n",
       "      <td>(0,4)</td>\n",
       "    </tr>\n",
       "    <tr>\n",
       "      <th>2</th>\n",
       "      <td>1.90</td>\n",
       "      <td>(0,4)</td>\n",
       "    </tr>\n",
       "    <tr>\n",
       "      <th>3</th>\n",
       "      <td>15.52</td>\n",
       "      <td>(0,4)</td>\n",
       "    </tr>\n",
       "    <tr>\n",
       "      <th>4</th>\n",
       "      <td>12.42</td>\n",
       "      <td>(0,4)</td>\n",
       "    </tr>\n",
       "  </tbody>\n",
       "</table>\n",
       "</div>"
      ],
      "text/plain": [
       "       0  start\n",
       "0   2.98  (0,4)\n",
       "1   5.96  (0,4)\n",
       "2   1.90  (0,4)\n",
       "3  15.52  (0,4)\n",
       "4  12.42  (0,4)"
      ]
     },
     "execution_count": 262,
     "metadata": {},
     "output_type": "execute_result"
    }
   ],
   "source": [
    "df_half_adj = pd.read_csv('../data/reallife1x1_half_adjacent.csv', header=None)\n",
    "df_half_adj['start'] = '(0,4)'\n",
    "df_half_adj.head()"
   ]
  },
  {
   "cell_type": "code",
   "execution_count": 263,
   "metadata": {},
   "outputs": [
    {
     "data": {
      "text/html": [
       "<div>\n",
       "<style scoped>\n",
       "    .dataframe tbody tr th:only-of-type {\n",
       "        vertical-align: middle;\n",
       "    }\n",
       "\n",
       "    .dataframe tbody tr th {\n",
       "        vertical-align: top;\n",
       "    }\n",
       "\n",
       "    .dataframe thead th {\n",
       "        text-align: right;\n",
       "    }\n",
       "</style>\n",
       "<table border=\"1\" class=\"dataframe\">\n",
       "  <thead>\n",
       "    <tr style=\"text-align: right;\">\n",
       "      <th></th>\n",
       "      <th>0</th>\n",
       "      <th>start</th>\n",
       "    </tr>\n",
       "  </thead>\n",
       "  <tbody>\n",
       "    <tr>\n",
       "      <th>0</th>\n",
       "      <td>1.64</td>\n",
       "      <td>(2,2)</td>\n",
       "    </tr>\n",
       "    <tr>\n",
       "      <th>1</th>\n",
       "      <td>1.07</td>\n",
       "      <td>(2,2)</td>\n",
       "    </tr>\n",
       "    <tr>\n",
       "      <th>2</th>\n",
       "      <td>4.85</td>\n",
       "      <td>(2,2)</td>\n",
       "    </tr>\n",
       "    <tr>\n",
       "      <th>3</th>\n",
       "      <td>11.77</td>\n",
       "      <td>(2,2)</td>\n",
       "    </tr>\n",
       "    <tr>\n",
       "      <th>4</th>\n",
       "      <td>0.97</td>\n",
       "      <td>(2,2)</td>\n",
       "    </tr>\n",
       "  </tbody>\n",
       "</table>\n",
       "</div>"
      ],
      "text/plain": [
       "       0  start\n",
       "0   1.64  (2,2)\n",
       "1   1.07  (2,2)\n",
       "2   4.85  (2,2)\n",
       "3  11.77  (2,2)\n",
       "4   0.97  (2,2)"
      ]
     },
     "execution_count": 263,
     "metadata": {},
     "output_type": "execute_result"
    }
   ],
   "source": [
    "df_near = pd.read_csv('../data/reallife1x1_near.csv', header=None)\n",
    "df_near['start'] = '(2,2)'\n",
    "df_near.head()"
   ]
  },
  {
   "cell_type": "code",
   "execution_count": 264,
   "metadata": {},
   "outputs": [],
   "source": [
    "\n",
    "#fig, (ax1, ax2, ax3) = plt.subplots(ncols=3, sharey=True, figsize=(20, 10))\n",
    "#sns.distplot(df_cross[0], bins=20, kde=False, rug=True, ax=ax1).set_title('Hitting time frequency from (0,0) to (9,9)')\n",
    "#sns.distplot(df_half_adj[0], bins=20, kde=False, rug=True, ax=ax2).set_title('Hitting time frequency from (0,0) to (9,4)')\n",
    "#sns.distplot(df_adj[0], bins=20, kde=False, rug=True, ax=ax3).set_title('Hitting time frequency from (0,0) to (9,0)')\n"
   ]
  },
  {
   "cell_type": "code",
   "execution_count": 265,
   "metadata": {},
   "outputs": [],
   "source": [
    "\n",
    "#fig, (ax1, ax2) = plt.subplots(ncols=2, sharey=True, figsize=(15, 10))\n",
    "#sns.distplot(df_cross[0], bins=20, kde=False, rug=True, ax=ax1).set_title('Hitting time frequency from (0,0) to (9,9)')\n",
    "#sns.distplot(df_adj[0], bins=20, kde=False, rug=True, ax=ax2).set_title('Hitting time frequency from (0,0) to (9,0)')\n"
   ]
  },
  {
   "cell_type": "code",
   "execution_count": null,
   "metadata": {},
   "outputs": [],
   "source": []
  },
  {
   "cell_type": "code",
   "execution_count": 266,
   "metadata": {},
   "outputs": [
    {
     "data": {
      "text/html": [
       "<div>\n",
       "<style scoped>\n",
       "    .dataframe tbody tr th:only-of-type {\n",
       "        vertical-align: middle;\n",
       "    }\n",
       "\n",
       "    .dataframe tbody tr th {\n",
       "        vertical-align: top;\n",
       "    }\n",
       "\n",
       "    .dataframe thead th {\n",
       "        text-align: right;\n",
       "    }\n",
       "</style>\n",
       "<table border=\"1\" class=\"dataframe\">\n",
       "  <thead>\n",
       "    <tr style=\"text-align: right;\">\n",
       "      <th></th>\n",
       "      <th>value</th>\n",
       "      <th>start</th>\n",
       "    </tr>\n",
       "  </thead>\n",
       "  <tbody>\n",
       "    <tr>\n",
       "      <th>0</th>\n",
       "      <td>4.22</td>\n",
       "      <td>(9,9)</td>\n",
       "    </tr>\n",
       "    <tr>\n",
       "      <th>1</th>\n",
       "      <td>3.95</td>\n",
       "      <td>(9,9)</td>\n",
       "    </tr>\n",
       "    <tr>\n",
       "      <th>2</th>\n",
       "      <td>1.91</td>\n",
       "      <td>(9,9)</td>\n",
       "    </tr>\n",
       "    <tr>\n",
       "      <th>3</th>\n",
       "      <td>24.48</td>\n",
       "      <td>(9,9)</td>\n",
       "    </tr>\n",
       "    <tr>\n",
       "      <th>4</th>\n",
       "      <td>2.38</td>\n",
       "      <td>(9,9)</td>\n",
       "    </tr>\n",
       "  </tbody>\n",
       "</table>\n",
       "</div>"
      ],
      "text/plain": [
       "   value  start\n",
       "0   4.22  (9,9)\n",
       "1   3.95  (9,9)\n",
       "2   1.91  (9,9)\n",
       "3  24.48  (9,9)\n",
       "4   2.38  (9,9)"
      ]
     },
     "execution_count": 266,
     "metadata": {},
     "output_type": "execute_result"
    }
   ],
   "source": [
    "result = pd.concat([df_cross, df_adj, df_half_adj, df_near], axis=0, join='inner')\n",
    "result.index = range(len(result))\n",
    "result.columns = ['value', 'start']\n",
    "result.head()"
   ]
  },
  {
   "cell_type": "code",
   "execution_count": 267,
   "metadata": {},
   "outputs": [
    {
     "data": {
      "text/plain": [
       "<matplotlib.axes._subplots.AxesSubplot at 0x7fd63a510b10>"
      ]
     },
     "execution_count": 267,
     "metadata": {},
     "output_type": "execute_result"
    },
    {
     "data": {
      "image/png": "[encoded data removed]",
      "text/plain": [
       "<matplotlib.figure.Figure at 0x7fd63aceb390>"
      ]
     },
     "metadata": {},
     "output_type": "display_data"
    }
   ],
   "source": [
    "\n",
    "\n",
    "# Sort the dataframe by target\n",
    "target_0 = result.loc[result['start'] == '(9,9)']\n",
    "target_1 = result.loc[result['start'] == '(9,0)']\n",
    "target_2 = result.loc[result['start'] == '(0,4)']\n",
    "target_3 = result.loc[result['start'] == '(2,2)']\n",
    "\n",
    "sns.distplot(target_0[['value']], hist=False, rug=True, color='red', norm_hist= False)\n",
    "sns.distplot(target_1[['value']], hist=False, rug=True, color='green', norm_hist= False)\n",
    "sns.distplot(target_2[['value']], hist=False, rug=True, color='blue', norm_hist= False)\n",
    "sns.distplot(target_3[['value']], hist=False, rug=True, color='black', norm_hist= False)"
   ]
  },
  {
   "cell_type": "code",
   "execution_count": null,
   "metadata": {},
   "outputs": [],
   "source": []
  },
  {
   "cell_type": "code",
   "execution_count": 268,
   "metadata": {},
   "outputs": [
    {
     "data": {
      "text/plain": [
       "<seaborn.axisgrid.FacetGrid at 0x7fd63a984490>"
      ]
     },
     "execution_count": 268,
     "metadata": {},
     "output_type": "execute_result"
    },
    {
     "data": {
      "image/png": "[encoded data removed]",
      "text/plain": [
       "<matplotlib.figure.Figure at 0x7fd63a6a9750>"
      ]
     },
     "metadata": {},
     "output_type": "display_data"
    }
   ],
   "source": [
    "sns.catplot(x=\"value\", y=\"start\", jitter=False, orient='h',data=result)"
   ]
  },
  {
   "cell_type": "code",
   "execution_count": 269,
   "metadata": {},
   "outputs": [
    {
     "data": {
      "text/plain": [
       "<seaborn.axisgrid.FacetGrid at 0x7fd63a574890>"
      ]
     },
     "execution_count": 269,
     "metadata": {},
     "output_type": "execute_result"
    },
    {
     "data": {
      "image/png": "[encoded data removed]",
      "text/plain": [
       "<matplotlib.figure.Figure at 0x7fd63a574850>"
      ]
     },
     "metadata": {},
     "output_type": "display_data"
    }
   ],
   "source": [
    "\n",
    "#fig, (ax1, ax2, ax3) = plt.subplots(ncols=3, sharey=True, figsize=(20, 10))\n",
    "#sns.distplot(df_cross[0], bins=20, kde=False, rug=True, ax=ax1).set_title('Hitting time frequency from (0,0) to (9,9)')\n",
    "#sns.distplot(df_half_adj[0], bins=20, kde=False, rug=True, ax=ax2).set_title('Hitting time frequency from (0,0) to (9,4)')\n",
    "#sns.distplot(df_adj[0], bins=20, kde=False, rug=True, ax=ax3).set_title('Hitting time frequency from (0,0) to (9,0)')\n",
    "\n",
    "sns.set(style=\"whitegrid\")\n",
    "\n",
    "\n",
    "\n",
    "# Draw a nested barplot to show survival for class and sex\n",
    "g = sns.catplot(x=\"start\", y=\"value\", data=result,\n",
    "                height=6, kind=\"bar\", palette=\"muted\")\n",
    "g.despine(left=True)\n",
    "g.set_ylabels(\"Hitting Time\")\n",
    "#g.savefig(fig_prefix + 'position_heatmap.eps', format='eps', dpi=1000)"
   ]
  },
  {
   "cell_type": "code",
   "execution_count": 323,
   "metadata": {},
   "outputs": [
    {
     "name": "stdout",
     "output_type": "stream",
     "text": [
      "Cross mean = 11.4455, std = 10.0800840646\n",
      "Full adj mean = 8.4435, std = 7.14999949301\n",
      "Half adj mean = 13.3825, std = 12.9362695067\n",
      "near adj mean = 10.0694736842, std = 11.1661252167\n"
     ]
    }
   ],
   "source": [
    "cross_mean = np.mean(df_cross[0])\n",
    "half_adj_mean = np.mean(df_half_adj[0])\n",
    "adj_mean = np.mean(df_adj[0])\n",
    "near_mean = np.mean(df_near[0])\n",
    "\n",
    "cross_std = np.std(df_cross[0])\n",
    "half_adj_std = np.std(df_half_adj[0])\n",
    "adj_std = np.std(df_adj[0])\n",
    "near_std = np.std(df_near[0])\n",
    "\n",
    "print(\"Cross mean = {}, std = {}\".format(cross_mean,cross_std))\n",
    "print(\"Full adj mean = {}, std = {}\".format(adj_mean,adj_std))\n",
    "print(\"Half adj mean = {}, std = {}\".format(half_adj_mean,half_adj_std))\n",
    "print(\"near adj mean = {}, std = {}\".format(near_mean,near_std))"
   ]
  },
  {
   "cell_type": "code",
   "execution_count": 324,
   "metadata": {},
   "outputs": [
    {
     "name": "stdout",
     "output_type": "stream",
     "text": [
      "20\n"
     ]
    }
   ],
   "source": [
    "#Find the probability of the weaselballs hitting immediately\n",
    "#We define as hitting immediately as any time being under 2.5 seconds\n",
    "#result = pd.concat([df_cross, df_adj, df_half_adj, df_near], axis=0, join='inner')\n",
    "immediate_collision_time = 2.0\n",
    "\n",
    "cross_immediate_hit_df = df_cross.loc[df_cross[0] < immediate_collision_time]\n",
    "cross_immediate_hit_probability = float(cross_immediate_hit_df.shape[0]) / float(df_cross.shape[0])\n",
    "print(df_cross.shape[0])\n",
    "half_adj_immediate_hit_df = df_half_adj.loc[df_half_adj[0] < immediate_collision_time]\n",
    "half_adj_immediate_hit_df = float(half_adj_immediate_hit_df.shape[0]) / float(df_half_adj.shape[0])\n",
    "\n",
    "adj_immediate_hit_df = df_adj.loc[df_adj[0] < immediate_collision_time]\n",
    "adj_immediate_hit_probability = float(adj_immediate_hit_df.shape[0]) / float(df_adj.shape[0])\n",
    "\n",
    "near_immediate_hit_df = df_near.loc[df_near[0] < immediate_collision_time]\n",
    "near_immediate_hit_probability = float(near_immediate_hit_df.shape[0]) / float(df_near.shape[0])"
   ]
  },
  {
   "cell_type": "code",
   "execution_count": 325,
   "metadata": {},
   "outputs": [
    {
     "data": {
      "text/html": [
       "<div>\n",
       "<style scoped>\n",
       "    .dataframe tbody tr th:only-of-type {\n",
       "        vertical-align: middle;\n",
       "    }\n",
       "\n",
       "    .dataframe tbody tr th {\n",
       "        vertical-align: top;\n",
       "    }\n",
       "\n",
       "    .dataframe thead th {\n",
       "        text-align: right;\n",
       "    }\n",
       "</style>\n",
       "<table border=\"1\" class=\"dataframe\">\n",
       "  <thead>\n",
       "    <tr style=\"text-align: right;\">\n",
       "      <th></th>\n",
       "      <th>probability</th>\n",
       "      <th>simulated</th>\n",
       "      <th>start</th>\n",
       "    </tr>\n",
       "  </thead>\n",
       "  <tbody>\n",
       "    <tr>\n",
       "      <th>0</th>\n",
       "      <td>0.150000</td>\n",
       "      <td>0</td>\n",
       "      <td>(9,9)</td>\n",
       "    </tr>\n",
       "    <tr>\n",
       "      <th>1</th>\n",
       "      <td>0.150000</td>\n",
       "      <td>0</td>\n",
       "      <td>(9,0)</td>\n",
       "    </tr>\n",
       "    <tr>\n",
       "      <th>2</th>\n",
       "      <td>0.200000</td>\n",
       "      <td>0</td>\n",
       "      <td>(0,4)</td>\n",
       "    </tr>\n",
       "    <tr>\n",
       "      <th>3</th>\n",
       "      <td>0.368421</td>\n",
       "      <td>0</td>\n",
       "      <td>(2,2)</td>\n",
       "    </tr>\n",
       "  </tbody>\n",
       "</table>\n",
       "</div>"
      ],
      "text/plain": [
       "   probability  simulated  start\n",
       "0     0.150000          0  (9,9)\n",
       "1     0.150000          0  (9,0)\n",
       "2     0.200000          0  (0,4)\n",
       "3     0.368421          0  (2,2)"
      ]
     },
     "execution_count": 325,
     "metadata": {},
     "output_type": "execute_result"
    }
   ],
   "source": [
    "data = {'start' : ['(9,9)','(9,0)','(0,4)','(2,2)'], 'probability' : [cross_immediate_hit_probability, adj_immediate_hit_probability, half_adj_immediate_hit_df,near_immediate_hit_probability]}\n",
    "data['simulated'] = 0\n",
    "prob_df = pd.DataFrame.from_dict(data)\n",
    "prob_df.head()"
   ]
  },
  {
   "cell_type": "code",
   "execution_count": 395,
   "metadata": {},
   "outputs": [
    {
     "data": {
      "image/png": "[encoded data removed]",
      "text/plain": [
       "<matplotlib.figure.Figure at 0x7fd639e373d0>"
      ]
     },
     "metadata": {},
     "output_type": "display_data"
    }
   ],
   "source": [
    "ax = sns.barplot(x=\"start\", y=\"probability\", data=prob_df).set_title('Probability of Immediate Collision')\n",
    "plot = ax.get_figure()\n",
    "plt.xlabel(\"Starting Position\")\n",
    "plt.ylabel(\"Probability\")\n",
    "plot.savefig(fig_prefix + \"immediate_collision_probability.png\")\n",
    "plot.savefig(fig_prefix + 'immediate_collision_probability.eps', format='eps', dpi=1000)"
   ]
  },
  {
   "cell_type": "markdown",
   "metadata": {},
   "source": [
    "# Simulator Data Equivalent"
   ]
  },
  {
   "cell_type": "code",
   "execution_count": 348,
   "metadata": {},
   "outputs": [],
   "source": [
    "#Get simulator hitting time data for \n",
    "#Start = (0,0)\n",
    "#cross = (9,9) 99\n",
    "#Near = (2,2) 22\n",
    "#Full adj = (9,0) 9\n",
    "#Half adj = (0,4) 40"
   ]
  },
  {
   "cell_type": "code",
   "execution_count": 349,
   "metadata": {},
   "outputs": [
    {
     "data": {
      "text/plain": [
       "217.04292864890783"
      ]
     },
     "execution_count": 349,
     "metadata": {},
     "output_type": "execute_result"
    }
   ],
   "source": [
    "cross_hitting_time = M[0,99]\n",
    "cross_hitting_time"
   ]
  },
  {
   "cell_type": "code",
   "execution_count": 350,
   "metadata": {},
   "outputs": [
    {
     "data": {
      "text/plain": [
       "123.16541562616223"
      ]
     },
     "execution_count": 350,
     "metadata": {},
     "output_type": "execute_result"
    }
   ],
   "source": [
    "near_hitting_time = M[0,22]\n",
    "near_hitting_time"
   ]
  },
  {
   "cell_type": "code",
   "execution_count": 351,
   "metadata": {},
   "outputs": [
    {
     "data": {
      "text/plain": [
       "196.82253371829569"
      ]
     },
     "execution_count": 351,
     "metadata": {},
     "output_type": "execute_result"
    }
   ],
   "source": [
    "full_adj_hitting_time = M[0,9]\n",
    "full_adj_hitting_time"
   ]
  },
  {
   "cell_type": "code",
   "execution_count": 352,
   "metadata": {},
   "outputs": [
    {
     "data": {
      "text/plain": [
       "155.46354571952668"
      ]
     },
     "execution_count": 352,
     "metadata": {},
     "output_type": "execute_result"
    }
   ],
   "source": [
    "half_adj_hitting_time = M[0,40]\n",
    "half_adj_hitting_time"
   ]
  },
  {
   "cell_type": "markdown",
   "metadata": {},
   "source": [
    "# Comparing Simulator to Real Life Data"
   ]
  },
  {
   "cell_type": "code",
   "execution_count": 368,
   "metadata": {},
   "outputs": [
    {
     "data": {
      "text/html": [
       "<div>\n",
       "<style scoped>\n",
       "    .dataframe tbody tr th:only-of-type {\n",
       "        vertical-align: middle;\n",
       "    }\n",
       "\n",
       "    .dataframe tbody tr th {\n",
       "        vertical-align: top;\n",
       "    }\n",
       "\n",
       "    .dataframe thead th {\n",
       "        text-align: right;\n",
       "    }\n",
       "</style>\n",
       "<table border=\"1\" class=\"dataframe\">\n",
       "  <thead>\n",
       "    <tr style=\"text-align: right;\">\n",
       "      <th></th>\n",
       "      <th>hittingTime</th>\n",
       "      <th>start</th>\n",
       "      <th>origin</th>\n",
       "    </tr>\n",
       "  </thead>\n",
       "  <tbody>\n",
       "    <tr>\n",
       "      <th>0</th>\n",
       "      <td>217.042929</td>\n",
       "      <td>(9,9)</td>\n",
       "      <td>Simulator</td>\n",
       "    </tr>\n",
       "    <tr>\n",
       "      <th>1</th>\n",
       "      <td>196.822534</td>\n",
       "      <td>(9,0)</td>\n",
       "      <td>Simulator</td>\n",
       "    </tr>\n",
       "    <tr>\n",
       "      <th>2</th>\n",
       "      <td>155.463546</td>\n",
       "      <td>(0,4)</td>\n",
       "      <td>Simulator</td>\n",
       "    </tr>\n",
       "    <tr>\n",
       "      <th>3</th>\n",
       "      <td>123.165416</td>\n",
       "      <td>(2,2)</td>\n",
       "      <td>Simulator</td>\n",
       "    </tr>\n",
       "  </tbody>\n",
       "</table>\n",
       "</div>"
      ],
      "text/plain": [
       "   hittingTime  start     origin\n",
       "0   217.042929  (9,9)  Simulator\n",
       "1   196.822534  (9,0)  Simulator\n",
       "2   155.463546  (0,4)  Simulator\n",
       "3   123.165416  (2,2)  Simulator"
      ]
     },
     "execution_count": 368,
     "metadata": {},
     "output_type": "execute_result"
    }
   ],
   "source": [
    "sim_data = {'start' : ['(9,9)','(9,0)','(0,4)','(2,2)'], 'hittingTime' : [cross_hitting_time, full_adj_hitting_time, half_adj_hitting_time,near_hitting_time]}\n",
    "sim_mean_df = pd.DataFrame.from_dict(sim_data)\n",
    "sim_mean_df['origin'] = 'Simulator'\n",
    "sim_mean_df.head()"
   ]
  },
  {
   "cell_type": "code",
   "execution_count": 396,
   "metadata": {},
   "outputs": [
    {
     "data": {
      "text/html": [
       "<div>\n",
       "<style scoped>\n",
       "    .dataframe tbody tr th:only-of-type {\n",
       "        vertical-align: middle;\n",
       "    }\n",
       "\n",
       "    .dataframe tbody tr th {\n",
       "        vertical-align: top;\n",
       "    }\n",
       "\n",
       "    .dataframe thead th {\n",
       "        text-align: right;\n",
       "    }\n",
       "</style>\n",
       "<table border=\"1\" class=\"dataframe\">\n",
       "  <thead>\n",
       "    <tr style=\"text-align: right;\">\n",
       "      <th></th>\n",
       "      <th>hittingTime</th>\n",
       "      <th>start</th>\n",
       "      <th>origin</th>\n",
       "    </tr>\n",
       "  </thead>\n",
       "  <tbody>\n",
       "    <tr>\n",
       "      <th>0</th>\n",
       "      <td>11.445500</td>\n",
       "      <td>(9,9)</td>\n",
       "      <td>Real Life</td>\n",
       "    </tr>\n",
       "    <tr>\n",
       "      <th>1</th>\n",
       "      <td>8.443500</td>\n",
       "      <td>(9,0)</td>\n",
       "      <td>Real Life</td>\n",
       "    </tr>\n",
       "    <tr>\n",
       "      <th>2</th>\n",
       "      <td>13.382500</td>\n",
       "      <td>(0,4)</td>\n",
       "      <td>Real Life</td>\n",
       "    </tr>\n",
       "    <tr>\n",
       "      <th>3</th>\n",
       "      <td>10.069474</td>\n",
       "      <td>(2,2)</td>\n",
       "      <td>Real Life</td>\n",
       "    </tr>\n",
       "  </tbody>\n",
       "</table>\n",
       "</div>"
      ],
      "text/plain": [
       "   hittingTime  start     origin\n",
       "0    11.445500  (9,9)  Real Life\n",
       "1     8.443500  (9,0)  Real Life\n",
       "2    13.382500  (0,4)  Real Life\n",
       "3    10.069474  (2,2)  Real Life"
      ]
     },
     "execution_count": 396,
     "metadata": {},
     "output_type": "execute_result"
    }
   ],
   "source": [
    "real_mean_data = {'start' : ['(9,9)','(9,0)','(0,4)','(2,2)'], 'hittingTime' : [cross_mean, adj_mean, half_adj_mean,near_mean]}\n",
    "real_mean_df = pd.DataFrame.from_dict(real_mean_data)\n",
    "real_mean_df['origin'] = 'Real Life'\n",
    "real_mean_df.head()"
   ]
  },
  {
   "cell_type": "code",
   "execution_count": 397,
   "metadata": {},
   "outputs": [
    {
     "data": {
      "text/html": [
       "<div>\n",
       "<style scoped>\n",
       "    .dataframe tbody tr th:only-of-type {\n",
       "        vertical-align: middle;\n",
       "    }\n",
       "\n",
       "    .dataframe tbody tr th {\n",
       "        vertical-align: top;\n",
       "    }\n",
       "\n",
       "    .dataframe thead th {\n",
       "        text-align: right;\n",
       "    }\n",
       "</style>\n",
       "<table border=\"1\" class=\"dataframe\">\n",
       "  <thead>\n",
       "    <tr style=\"text-align: right;\">\n",
       "      <th></th>\n",
       "      <th>hittingTime</th>\n",
       "      <th>start</th>\n",
       "      <th>origin</th>\n",
       "    </tr>\n",
       "  </thead>\n",
       "  <tbody>\n",
       "    <tr>\n",
       "      <th>0</th>\n",
       "      <td>11.445500</td>\n",
       "      <td>(9,9)</td>\n",
       "      <td>Real Life</td>\n",
       "    </tr>\n",
       "    <tr>\n",
       "      <th>1</th>\n",
       "      <td>8.443500</td>\n",
       "      <td>(9,0)</td>\n",
       "      <td>Real Life</td>\n",
       "    </tr>\n",
       "    <tr>\n",
       "      <th>2</th>\n",
       "      <td>13.382500</td>\n",
       "      <td>(0,4)</td>\n",
       "      <td>Real Life</td>\n",
       "    </tr>\n",
       "    <tr>\n",
       "      <th>3</th>\n",
       "      <td>10.069474</td>\n",
       "      <td>(2,2)</td>\n",
       "      <td>Real Life</td>\n",
       "    </tr>\n",
       "    <tr>\n",
       "      <th>4</th>\n",
       "      <td>217.042929</td>\n",
       "      <td>(9,9)</td>\n",
       "      <td>Simulator</td>\n",
       "    </tr>\n",
       "    <tr>\n",
       "      <th>5</th>\n",
       "      <td>196.822534</td>\n",
       "      <td>(9,0)</td>\n",
       "      <td>Simulator</td>\n",
       "    </tr>\n",
       "    <tr>\n",
       "      <th>6</th>\n",
       "      <td>155.463546</td>\n",
       "      <td>(0,4)</td>\n",
       "      <td>Simulator</td>\n",
       "    </tr>\n",
       "    <tr>\n",
       "      <th>7</th>\n",
       "      <td>123.165416</td>\n",
       "      <td>(2,2)</td>\n",
       "      <td>Simulator</td>\n",
       "    </tr>\n",
       "  </tbody>\n",
       "</table>\n",
       "</div>"
      ],
      "text/plain": [
       "   hittingTime  start     origin\n",
       "0    11.445500  (9,9)  Real Life\n",
       "1     8.443500  (9,0)  Real Life\n",
       "2    13.382500  (0,4)  Real Life\n",
       "3    10.069474  (2,2)  Real Life\n",
       "4   217.042929  (9,9)  Simulator\n",
       "5   196.822534  (9,0)  Simulator\n",
       "6   155.463546  (0,4)  Simulator\n",
       "7   123.165416  (2,2)  Simulator"
      ]
     },
     "execution_count": 397,
     "metadata": {},
     "output_type": "execute_result"
    }
   ],
   "source": [
    "mean_df = pd.concat([real_mean_df, sim_mean_df], ignore_index=True)\n",
    "mean_df"
   ]
  },
  {
   "cell_type": "code",
   "execution_count": 398,
   "metadata": {},
   "outputs": [
    {
     "data": {
      "image/png": "[encoded data removed]",
      "text/plain": [
       "<matplotlib.figure.Figure at 0x7fd6394ce150>"
      ]
     },
     "metadata": {},
     "output_type": "display_data"
    }
   ],
   "source": [
    "ax = sns.barplot(x=\"start\", y=\"hittingTime\", hue = 'origin', data=mean_df).set_title('Mean Hitting Time to singleton at (0,0)')\n",
    "plot = ax.get_figure()\n",
    "plt.xlabel(\"Starting Position\")\n",
    "plt.ylabel(\"Hitting Times\")\n",
    "plot.savefig(fig_prefix + \"mean_hitting_times.png\")\n",
    "plot.savefig(fig_prefix + 'immediate_collision_probability.eps', format='eps', dpi=1000)\n",
    "#This doesnt produce a great graphic...."
   ]
  },
  {
   "cell_type": "code",
   "execution_count": 399,
   "metadata": {},
   "outputs": [
    {
     "data": {
      "text/html": [
       "<div>\n",
       "<style scoped>\n",
       "    .dataframe tbody tr th:only-of-type {\n",
       "        vertical-align: middle;\n",
       "    }\n",
       "\n",
       "    .dataframe tbody tr th {\n",
       "        vertical-align: top;\n",
       "    }\n",
       "\n",
       "    .dataframe thead th {\n",
       "        text-align: right;\n",
       "    }\n",
       "</style>\n",
       "<table border=\"1\" class=\"dataframe\">\n",
       "  <thead>\n",
       "    <tr style=\"text-align: right;\">\n",
       "      <th></th>\n",
       "      <th>hittingTime</th>\n",
       "      <th>start</th>\n",
       "      <th>origin</th>\n",
       "    </tr>\n",
       "  </thead>\n",
       "  <tbody>\n",
       "    <tr>\n",
       "      <th>0</th>\n",
       "      <td>1.000000</td>\n",
       "      <td>(9,9)</td>\n",
       "      <td>Simulator</td>\n",
       "    </tr>\n",
       "    <tr>\n",
       "      <th>1</th>\n",
       "      <td>0.906837</td>\n",
       "      <td>(9,0)</td>\n",
       "      <td>Simulator</td>\n",
       "    </tr>\n",
       "    <tr>\n",
       "      <th>2</th>\n",
       "      <td>0.716280</td>\n",
       "      <td>(0,4)</td>\n",
       "      <td>Simulator</td>\n",
       "    </tr>\n",
       "    <tr>\n",
       "      <th>3</th>\n",
       "      <td>0.567470</td>\n",
       "      <td>(2,2)</td>\n",
       "      <td>Simulator</td>\n",
       "    </tr>\n",
       "  </tbody>\n",
       "</table>\n",
       "</div>"
      ],
      "text/plain": [
       "   hittingTime  start     origin\n",
       "0     1.000000  (9,9)  Simulator\n",
       "1     0.906837  (9,0)  Simulator\n",
       "2     0.716280  (0,4)  Simulator\n",
       "3     0.567470  (2,2)  Simulator"
      ]
     },
     "execution_count": 399,
     "metadata": {},
     "output_type": "execute_result"
    }
   ],
   "source": [
    "sim_norm_mean_df = sim_mean_df.copy() \n",
    "sim_norm_mean_df['hittingTime'] = (sim_mean_df['hittingTime']) / (sim_mean_df['hittingTime'].max())\n",
    "sim_norm_mean_df"
   ]
  },
  {
   "cell_type": "code",
   "execution_count": 400,
   "metadata": {},
   "outputs": [
    {
     "data": {
      "text/html": [
       "<div>\n",
       "<style scoped>\n",
       "    .dataframe tbody tr th:only-of-type {\n",
       "        vertical-align: middle;\n",
       "    }\n",
       "\n",
       "    .dataframe tbody tr th {\n",
       "        vertical-align: top;\n",
       "    }\n",
       "\n",
       "    .dataframe thead th {\n",
       "        text-align: right;\n",
       "    }\n",
       "</style>\n",
       "<table border=\"1\" class=\"dataframe\">\n",
       "  <thead>\n",
       "    <tr style=\"text-align: right;\">\n",
       "      <th></th>\n",
       "      <th>hittingTime</th>\n",
       "      <th>start</th>\n",
       "      <th>origin</th>\n",
       "    </tr>\n",
       "  </thead>\n",
       "  <tbody>\n",
       "    <tr>\n",
       "      <th>0</th>\n",
       "      <td>0.855259</td>\n",
       "      <td>(9,9)</td>\n",
       "      <td>Real Life</td>\n",
       "    </tr>\n",
       "    <tr>\n",
       "      <th>1</th>\n",
       "      <td>0.630936</td>\n",
       "      <td>(9,0)</td>\n",
       "      <td>Real Life</td>\n",
       "    </tr>\n",
       "    <tr>\n",
       "      <th>2</th>\n",
       "      <td>1.000000</td>\n",
       "      <td>(0,4)</td>\n",
       "      <td>Real Life</td>\n",
       "    </tr>\n",
       "    <tr>\n",
       "      <th>3</th>\n",
       "      <td>0.752436</td>\n",
       "      <td>(2,2)</td>\n",
       "      <td>Real Life</td>\n",
       "    </tr>\n",
       "  </tbody>\n",
       "</table>\n",
       "</div>"
      ],
      "text/plain": [
       "   hittingTime  start     origin\n",
       "0     0.855259  (9,9)  Real Life\n",
       "1     0.630936  (9,0)  Real Life\n",
       "2     1.000000  (0,4)  Real Life\n",
       "3     0.752436  (2,2)  Real Life"
      ]
     },
     "execution_count": 400,
     "metadata": {},
     "output_type": "execute_result"
    }
   ],
   "source": [
    "real_norm_mean_df = real_mean_df.copy() \n",
    "real_norm_mean_df['hittingTime'] = (real_norm_mean_df['hittingTime']) / (real_norm_mean_df['hittingTime'].max())\n",
    "real_norm_mean_df"
   ]
  },
  {
   "cell_type": "code",
   "execution_count": 401,
   "metadata": {},
   "outputs": [
    {
     "data": {
      "text/html": [
       "<div>\n",
       "<style scoped>\n",
       "    .dataframe tbody tr th:only-of-type {\n",
       "        vertical-align: middle;\n",
       "    }\n",
       "\n",
       "    .dataframe tbody tr th {\n",
       "        vertical-align: top;\n",
       "    }\n",
       "\n",
       "    .dataframe thead th {\n",
       "        text-align: right;\n",
       "    }\n",
       "</style>\n",
       "<table border=\"1\" class=\"dataframe\">\n",
       "  <thead>\n",
       "    <tr style=\"text-align: right;\">\n",
       "      <th></th>\n",
       "      <th>hittingTime</th>\n",
       "      <th>start</th>\n",
       "      <th>origin</th>\n",
       "    </tr>\n",
       "  </thead>\n",
       "  <tbody>\n",
       "    <tr>\n",
       "      <th>0</th>\n",
       "      <td>0.855259</td>\n",
       "      <td>(9,9)</td>\n",
       "      <td>Real Life</td>\n",
       "    </tr>\n",
       "    <tr>\n",
       "      <th>1</th>\n",
       "      <td>0.630936</td>\n",
       "      <td>(9,0)</td>\n",
       "      <td>Real Life</td>\n",
       "    </tr>\n",
       "    <tr>\n",
       "      <th>2</th>\n",
       "      <td>1.000000</td>\n",
       "      <td>(0,4)</td>\n",
       "      <td>Real Life</td>\n",
       "    </tr>\n",
       "    <tr>\n",
       "      <th>3</th>\n",
       "      <td>0.752436</td>\n",
       "      <td>(2,2)</td>\n",
       "      <td>Real Life</td>\n",
       "    </tr>\n",
       "    <tr>\n",
       "      <th>4</th>\n",
       "      <td>1.000000</td>\n",
       "      <td>(9,9)</td>\n",
       "      <td>Simulator</td>\n",
       "    </tr>\n",
       "    <tr>\n",
       "      <th>5</th>\n",
       "      <td>0.906837</td>\n",
       "      <td>(9,0)</td>\n",
       "      <td>Simulator</td>\n",
       "    </tr>\n",
       "    <tr>\n",
       "      <th>6</th>\n",
       "      <td>0.716280</td>\n",
       "      <td>(0,4)</td>\n",
       "      <td>Simulator</td>\n",
       "    </tr>\n",
       "    <tr>\n",
       "      <th>7</th>\n",
       "      <td>0.567470</td>\n",
       "      <td>(2,2)</td>\n",
       "      <td>Simulator</td>\n",
       "    </tr>\n",
       "  </tbody>\n",
       "</table>\n",
       "</div>"
      ],
      "text/plain": [
       "   hittingTime  start     origin\n",
       "0     0.855259  (9,9)  Real Life\n",
       "1     0.630936  (9,0)  Real Life\n",
       "2     1.000000  (0,4)  Real Life\n",
       "3     0.752436  (2,2)  Real Life\n",
       "4     1.000000  (9,9)  Simulator\n",
       "5     0.906837  (9,0)  Simulator\n",
       "6     0.716280  (0,4)  Simulator\n",
       "7     0.567470  (2,2)  Simulator"
      ]
     },
     "execution_count": 401,
     "metadata": {},
     "output_type": "execute_result"
    }
   ],
   "source": [
    "norm_mean_df = pd.concat([real_norm_mean_df, sim_norm_mean_df], ignore_index=True)\n",
    "norm_mean_df"
   ]
  },
  {
   "cell_type": "code",
   "execution_count": 402,
   "metadata": {},
   "outputs": [
    {
     "name": "stdout",
     "output_type": "stream",
     "text": [
      "<class 'matplotlib.text.Text'>\n"
     ]
    },
    {
     "data": {
      "image/png": "[encoded data removed]",
      "text/plain": [
       "<matplotlib.figure.Figure at 0x7fd64052da10>"
      ]
     },
     "metadata": {},
     "output_type": "display_data"
    }
   ],
   "source": [
    "ax = sns.barplot(x=\"start\", y=\"hittingTime\", hue = 'origin', data=norm_mean_df).set_title('Normalized Mean Hitting Time')\n",
    "print(type(ax))\n",
    "plt.xlabel(\"Starting Position\")\n",
    "plt.ylabel(\"Normalized Hitting Times\")\n",
    "plot = ax.get_figure()\n",
    "plot.set_size_inches(10, 6)\n",
    "plot.savefig(fig_prefix + \"Normalized_mean_hitting_times.png\")\n",
    "plot.savefig(fig_prefix + 'Normalized_mean_hitting_times.eps', format='eps', dpi=1000)"
   ]
  },
  {
   "cell_type": "markdown",
   "metadata": {},
   "source": [
    "# Calculate normalized "
   ]
  },
  {
   "cell_type": "code",
   "execution_count": null,
   "metadata": {},
   "outputs": [],
   "source": []
  }
 ],
 "metadata": {
  "kernelspec": {
   "display_name": "Python [conda env:snakes]",
   "language": "python",
   "name": "conda-env-snakes-py"
  },
  "language_info": {
   "codemirror_mode": {
    "name": "ipython",
    "version": 2
   },
   "file_extension": ".py",
   "mimetype": "text/x-python",
   "name": "python",
   "nbconvert_exporter": "python",
   "pygments_lexer": "ipython2",
   "version": "2.7.15"
  }
 },
 "nbformat": 4,
 "nbformat_minor": 2
}
