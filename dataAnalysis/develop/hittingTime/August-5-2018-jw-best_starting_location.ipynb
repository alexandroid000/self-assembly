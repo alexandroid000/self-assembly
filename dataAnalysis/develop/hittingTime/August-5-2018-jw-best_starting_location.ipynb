{
 "cells": [
  {
   "cell_type": "code",
   "execution_count": 1,
   "metadata": {},
   "outputs": [],
   "source": [
    "#!/usr/bin/env python\n",
    "import pandas as pd\n",
    "import numpy as np\n",
    "import matplotlib.pyplot as plt\n",
    "import seaborn as sns\n",
    "from mapping import Mapping\n",
    "\n",
    "%load_ext version_information\n",
    "%version_information numpy, pandas, matplotlib\n",
    "%version_information\n",
    "fig_prefix = \"../figures/2018-07-22-jw-weaselball-starting_location_\"\n",
    "data_prefix = \"../data/2018-07-22-jw-weaselball-starting_location_\"\n"
   ]
  },
  {
   "cell_type": "code",
   "execution_count": 2,
   "metadata": {},
   "outputs": [
    {
     "name": "stdout",
     "output_type": "stream",
     "text": [
      "(6300, 6300)\n"
     ]
    },
    {
     "data": {
      "text/html": [
       "<div>\n",
       "<style scoped>\n",
       "    .dataframe tbody tr th:only-of-type {\n",
       "        vertical-align: middle;\n",
       "    }\n",
       "\n",
       "    .dataframe tbody tr th {\n",
       "        vertical-align: top;\n",
       "    }\n",
       "\n",
       "    .dataframe thead th {\n",
       "        text-align: right;\n",
       "    }\n",
       "</style>\n",
       "<table border=\"1\" class=\"dataframe\">\n",
       "  <thead>\n",
       "    <tr style=\"text-align: right;\">\n",
       "      <th></th>\n",
       "      <th>0</th>\n",
       "      <th>1</th>\n",
       "      <th>2</th>\n",
       "      <th>3</th>\n",
       "      <th>4</th>\n",
       "      <th>5</th>\n",
       "      <th>6</th>\n",
       "      <th>7</th>\n",
       "      <th>8</th>\n",
       "      <th>9</th>\n",
       "      <th>...</th>\n",
       "      <th>6290</th>\n",
       "      <th>6291</th>\n",
       "      <th>6292</th>\n",
       "      <th>6293</th>\n",
       "      <th>6294</th>\n",
       "      <th>6295</th>\n",
       "      <th>6296</th>\n",
       "      <th>6297</th>\n",
       "      <th>6298</th>\n",
       "      <th>6299</th>\n",
       "    </tr>\n",
       "  </thead>\n",
       "  <tbody>\n",
       "    <tr>\n",
       "      <th>0</th>\n",
       "      <td>0.222222</td>\n",
       "      <td>0.030303</td>\n",
       "      <td>0.000000</td>\n",
       "      <td>0.000000</td>\n",
       "      <td>0.000000</td>\n",
       "      <td>0.000000</td>\n",
       "      <td>0.000000</td>\n",
       "      <td>0.0</td>\n",
       "      <td>0.0</td>\n",
       "      <td>0.0</td>\n",
       "      <td>...</td>\n",
       "      <td>0.0</td>\n",
       "      <td>0.0</td>\n",
       "      <td>0.0</td>\n",
       "      <td>0.0</td>\n",
       "      <td>0.0</td>\n",
       "      <td>0.0</td>\n",
       "      <td>0.0</td>\n",
       "      <td>0.0</td>\n",
       "      <td>0.0</td>\n",
       "      <td>0.0</td>\n",
       "    </tr>\n",
       "    <tr>\n",
       "      <th>1</th>\n",
       "      <td>0.090909</td>\n",
       "      <td>0.173554</td>\n",
       "      <td>0.033058</td>\n",
       "      <td>0.000000</td>\n",
       "      <td>0.000000</td>\n",
       "      <td>0.000000</td>\n",
       "      <td>0.000000</td>\n",
       "      <td>0.0</td>\n",
       "      <td>0.0</td>\n",
       "      <td>0.0</td>\n",
       "      <td>...</td>\n",
       "      <td>0.0</td>\n",
       "      <td>0.0</td>\n",
       "      <td>0.0</td>\n",
       "      <td>0.0</td>\n",
       "      <td>0.0</td>\n",
       "      <td>0.0</td>\n",
       "      <td>0.0</td>\n",
       "      <td>0.0</td>\n",
       "      <td>0.0</td>\n",
       "      <td>0.0</td>\n",
       "    </tr>\n",
       "    <tr>\n",
       "      <th>2</th>\n",
       "      <td>0.000000</td>\n",
       "      <td>0.060150</td>\n",
       "      <td>0.285714</td>\n",
       "      <td>0.030075</td>\n",
       "      <td>0.015038</td>\n",
       "      <td>0.000000</td>\n",
       "      <td>0.000000</td>\n",
       "      <td>0.0</td>\n",
       "      <td>0.0</td>\n",
       "      <td>0.0</td>\n",
       "      <td>...</td>\n",
       "      <td>0.0</td>\n",
       "      <td>0.0</td>\n",
       "      <td>0.0</td>\n",
       "      <td>0.0</td>\n",
       "      <td>0.0</td>\n",
       "      <td>0.0</td>\n",
       "      <td>0.0</td>\n",
       "      <td>0.0</td>\n",
       "      <td>0.0</td>\n",
       "      <td>0.0</td>\n",
       "    </tr>\n",
       "    <tr>\n",
       "      <th>3</th>\n",
       "      <td>0.000000</td>\n",
       "      <td>0.000000</td>\n",
       "      <td>0.070000</td>\n",
       "      <td>0.240000</td>\n",
       "      <td>0.030000</td>\n",
       "      <td>0.020000</td>\n",
       "      <td>0.000000</td>\n",
       "      <td>0.0</td>\n",
       "      <td>0.0</td>\n",
       "      <td>0.0</td>\n",
       "      <td>...</td>\n",
       "      <td>0.0</td>\n",
       "      <td>0.0</td>\n",
       "      <td>0.0</td>\n",
       "      <td>0.0</td>\n",
       "      <td>0.0</td>\n",
       "      <td>0.0</td>\n",
       "      <td>0.0</td>\n",
       "      <td>0.0</td>\n",
       "      <td>0.0</td>\n",
       "      <td>0.0</td>\n",
       "    </tr>\n",
       "    <tr>\n",
       "      <th>4</th>\n",
       "      <td>0.000000</td>\n",
       "      <td>0.000000</td>\n",
       "      <td>0.016949</td>\n",
       "      <td>0.050847</td>\n",
       "      <td>0.262712</td>\n",
       "      <td>0.033898</td>\n",
       "      <td>0.008475</td>\n",
       "      <td>0.0</td>\n",
       "      <td>0.0</td>\n",
       "      <td>0.0</td>\n",
       "      <td>...</td>\n",
       "      <td>0.0</td>\n",
       "      <td>0.0</td>\n",
       "      <td>0.0</td>\n",
       "      <td>0.0</td>\n",
       "      <td>0.0</td>\n",
       "      <td>0.0</td>\n",
       "      <td>0.0</td>\n",
       "      <td>0.0</td>\n",
       "      <td>0.0</td>\n",
       "      <td>0.0</td>\n",
       "    </tr>\n",
       "  </tbody>\n",
       "</table>\n",
       "<p>5 rows × 6300 columns</p>\n",
       "</div>"
      ],
      "text/plain": [
       "          0         1         2         3         4         5         6    7  \\\n",
       "0  0.222222  0.030303  0.000000  0.000000  0.000000  0.000000  0.000000  0.0   \n",
       "1  0.090909  0.173554  0.033058  0.000000  0.000000  0.000000  0.000000  0.0   \n",
       "2  0.000000  0.060150  0.285714  0.030075  0.015038  0.000000  0.000000  0.0   \n",
       "3  0.000000  0.000000  0.070000  0.240000  0.030000  0.020000  0.000000  0.0   \n",
       "4  0.000000  0.000000  0.016949  0.050847  0.262712  0.033898  0.008475  0.0   \n",
       "\n",
       "     8    9  ...   6290  6291  6292  6293  6294  6295  6296  6297  6298  6299  \n",
       "0  0.0  0.0  ...    0.0   0.0   0.0   0.0   0.0   0.0   0.0   0.0   0.0   0.0  \n",
       "1  0.0  0.0  ...    0.0   0.0   0.0   0.0   0.0   0.0   0.0   0.0   0.0   0.0  \n",
       "2  0.0  0.0  ...    0.0   0.0   0.0   0.0   0.0   0.0   0.0   0.0   0.0   0.0  \n",
       "3  0.0  0.0  ...    0.0   0.0   0.0   0.0   0.0   0.0   0.0   0.0   0.0   0.0  \n",
       "4  0.0  0.0  ...    0.0   0.0   0.0   0.0   0.0   0.0   0.0   0.0   0.0   0.0  \n",
       "\n",
       "[5 rows x 6300 columns]"
      ]
     },
     "execution_count": 2,
     "metadata": {},
     "output_type": "execute_result"
    }
   ],
   "source": [
    "df = pd.read_csv('../data/2018-07-22-jw-weaselball_analysis_translation_matrix_out.csv')\n",
    "print(df.shape)\n",
    "df = df.apply(pd.to_numeric)\n",
    "df.head()"
   ]
  },
  {
   "cell_type": "code",
   "execution_count": 3,
   "metadata": {},
   "outputs": [
    {
     "data": {
      "text/plain": [
       "0    134.0\n",
       "1    144.0\n",
       "2    172.0\n",
       "3    136.0\n",
       "4    153.0\n",
       "Name: 0, dtype: float64"
      ]
     },
     "execution_count": 3,
     "metadata": {},
     "output_type": "execute_result"
    }
   ],
   "source": [
    "df_import_m = pd.read_csv('../data/2018-07-22-jw-weaselball_analysis_magnitude_vector_out.csv',  header=None);\n",
    "magnitude_V = df_import_m.iloc[:,0]\n",
    "magnitude_V = magnitude_V.apply(pd.to_numeric)\n",
    "magnitude_V = magnitude_V.astype(float)\n",
    "magnitude_V.head()"
   ]
  },
  {
   "cell_type": "code",
   "execution_count": 4,
   "metadata": {},
   "outputs": [],
   "source": [
    "NUMBER_OF_SQUARES = 100 #This should be a square number to create equal sized squares.\n",
    "RESOLUTION_OF_S1 = 0.1 #This is used to discretize the yaw angle over 0 - 2*pi\n",
    "START_X = 0\n",
    "START_Y = 0\n",
    "END_X = 9\n",
    "END_Y = 9\n",
    "END_YAW = 0\n",
    "counter = 0"
   ]
  },
  {
   "cell_type": "code",
   "execution_count": 5,
   "metadata": {},
   "outputs": [],
   "source": [
    "#The formula for mapping a 3D array to 1D is\n",
    "#(z * xMax * yMax) + (y * xMax) + x;\n",
    "#https://stackoverflow.com/questions/7367770/how-to-flatten-or-index-3d-array-in-1d-array\n",
    "X_MAX = NUMBER_OF_SQUARES ** (1/2.0)\n",
    "Y_MAX = NUMBER_OF_SQUARES ** (1/2.0)\n",
    "YAW_MAX = (2 * np.pi) / RESOLUTION_OF_S1\n",
    "mapping = Mapping(X_MAX, Y_MAX, YAW_MAX)#Fill in the logical areas that the system can reach (For now I am assuming it can go up/down 2 yaw states or the surronding (x,y) blocks)"
   ]
  },
  {
   "cell_type": "code",
   "execution_count": 6,
   "metadata": {},
   "outputs": [],
   "source": [
    "#https://vknight.org/unpeudemath/code/2015/11/15/Visualising-markov-chains.html\n",
    "#http://www.blackarbs.com/blog/introduction-hidden-markov-models-python-networkx-sklearn/2/9/2017"
   ]
  },
  {
   "cell_type": "code",
   "execution_count": 7,
   "metadata": {},
   "outputs": [],
   "source": [
    "#Use Dijkstras to find shortest path to goal\n",
    "#https://gist.github.com/kachayev/5990802\n",
    "from collections import defaultdict\n",
    "from heapq import *\n",
    "\n",
    "def dijkstra(edges, f, t):\n",
    "    #Create dict to represent graph\n",
    "    g = defaultdict(list)\n",
    "    #add edges to dictionary\n",
    "    for l,r,c in edges:\n",
    "        g[l].append((c,r))\n",
    "\n",
    "\n",
    "    q, seen, mins = [(1,f,())], set(), {f: 0}\n",
    "    while q:\n",
    "        (cost,v1,path) = heappop(q)\n",
    "        if v1 not in seen:\n",
    "            seen.add(v1)\n",
    "            path = (v1, path)\n",
    "            if v1 == t: return (cost, path)\n",
    "\n",
    "            for c, v2 in g.get(v1, ()):\n",
    "                if v2 in seen: continue\n",
    "                prev = mins.get(v2, None)\n",
    "                next = -abs(cost * c)\n",
    "                if prev is None or next < prev:\n",
    "                    mins[v2] = next\n",
    "                    heappush(q, (next, v2, path))\n",
    "\n",
    "    return (float(\"inf\"),)"
   ]
  },
  {
   "cell_type": "code",
   "execution_count": 8,
   "metadata": {},
   "outputs": [],
   "source": [
    "#Convert translation matrix into edges for graph\n",
    "edges = []\n",
    "total_runs = magnitude_V.sum()\n",
    "for col in df.columns:\n",
    "    for idx in df.index:\n",
    "        if(df.loc[idx,col] != 0):\n",
    "            edges.append((int(col), int(idx), -df.loc[idx,col] ))\n",
    "            # I am considering appending *(magnitude_V[idx]/total_runs) to df.loc so that way we also consider how often a state has been visited\n",
    "            \n"
   ]
  },
  {
   "cell_type": "code",
   "execution_count": 9,
   "metadata": {},
   "outputs": [
    {
     "name": "stdout",
     "output_type": "stream",
     "text": [
      "(0,0,x) -> (9,9,0):\n",
      "[(-7.347432720567051e-05, (99, (6198, (6099, (0, ()))))), (-0.00028763183125599237, (99, (299, (100, ())))), (-0.002876318312559924, (99, (299, (200, ())))), (-0.003451581975071908, (99, (299, (300, ())))), (-0.011792905081495688, (99, (299, (400, ())))), (-0.003163950143815916, (99, (299, (500, ())))), (-0.0006144393241167436, (99, (599, (600, ())))), (-5.2412803238304875e-05, (99, (599, (699, (700, ()))))), (-5.6444557333559095e-05, (99, (599, (699, (800, ()))))), (-6.53077522867626e-06, (99, (599, (699, (800, (900, ())))))), (-5.120327700972862e-05, (99, (599, (1000, ())))), (-5.120327700972862e-05, (99, (599, (1100, ())))), (-9.990883318971439e-07, (99, (599, (1100, (1200, ()))))), (-1.2488604148714298e-06, (99, (599, (1100, (1300, ()))))), (-1.5316523263396925e-07, (99, (199, (698, (1399, (1400, ())))))), (-7.585670668107943e-07, (99, (599, (1000, (1500, ()))))), (-7.808778628934649e-08, (99, (599, (1000, (1500, (1600, ())))))), (-7.658261631698463e-08, (99, (199, (698, (1399, (1700, ())))))), (-1.1373655888661082e-08, (99, (199, (698, (1399, (1700, (1800, ()))))))), (-8.717481299138307e-10, (99, (599, (1100, (1199, (1301, (1900, ()))))))), (-1.2702746388806114e-09, (99, (199, (698, (1399, (1799, (1899, (2000, ())))))))), (-4.945067777678732e-10, (99, (199, (698, (1399, (1700, (1800, (2100, ())))))))), (-7.582437259107389e-10, (99, (199, (698, (1399, (1700, (2200, ()))))))), (-2.894060022560072e-11, (99, (199, (698, (1399, (1700, (2200, (2300, ())))))))), (-6.348028540864112e-12, (99, (199, (698, (1399, (1710, (2309, (2400, ())))))))), (-1.0735857568133448e-11, (99, (599, (1000, (1500, (2110, (2510, (2500, ())))))))), (-3.2163042456447042e-12, (99, (199, (698, (1399, (1700, (1800, (2299, (2600, ()))))))))), (-1.7561400537519972e-12, (99, (199, (698, (1399, (1799, (1899, (2610, (2700, ()))))))))), (-4.784986291679387e-13, (99, (599, (1000, (1500, (2110, (2611, (2800, ())))))))), (-1.1218388913506697e-13, (99, (599, (1000, (1500, (2110, (2611, (2601, (2900, ()))))))))), (-2.593793746487665e-14, (99, (199, (698, (1399, (1700, (1800, (2299, (2600, (3000, ()))))))))))]\n",
      "State 400 to state 99\n",
      "Min is x = 4 with P = (-0.011792905081495688, (99, (299, (400, ()))))\n"
     ]
    }
   ],
   "source": [
    "\n",
    "#\n",
    "#\n",
    "print \"({},{},x) -> ({},{},{}):\".format(START_X, START_Y, END_X, END_Y, END_YAW)\n",
    "x = range(int(np.pi/RESOLUTION_OF_S1))\n",
    "x_results = []\n",
    "for i in x:\n",
    "    x_results.append(dijkstra(edges, mapping.map3Dto1D(START_X,START_Y,i), mapping.map3Dto1D(END_X,END_Y,END_YAW)))\n",
    "print(x_results)\n",
    "(m,i) = min((v,i) for i,v in enumerate(x_results))\n",
    "print \"State {} to state {}\".format(mapping.map3Dto1D(START_X,START_Y,i), mapping.map3Dto1D(END_X,END_Y,END_YAW))\n",
    "print \"Min is x = {} with P = {}\".format(i,m)\n",
    "\n"
   ]
  },
  {
   "cell_type": "code",
   "execution_count": 10,
   "metadata": {},
   "outputs": [
    {
     "data": {
      "text/plain": [
       "[(0, 0, 4), (9, 9, 2), (9, 9, 0)]"
      ]
     },
     "execution_count": 10,
     "metadata": {},
     "output_type": "execute_result"
    }
   ],
   "source": [
    "#Take best path and make it into list of x,y,yaw points\n",
    "import re\n",
    "prob = m[0]\n",
    "best_tuple = m[1]\n",
    "best_list = re.findall(r'\\d+', str(best_tuple))\n",
    "best_list = map(int, best_list)\n",
    "best_list = reversed(best_list)\n",
    "best_list = map(mapping.map1Dto3D, best_list)\n",
    "best_list"
   ]
  },
  {
   "cell_type": "code",
   "execution_count": 11,
   "metadata": {},
   "outputs": [],
   "source": [
    "#Turn (x,y,yaw) into lists that quiver likes X_start, Y_start, X_end, Y_end for all arrows\n",
    "start_X = []\n",
    "start_Y = []\n",
    "end_X = []\n",
    "end_Y = []\n",
    "for i in range(len(best_list)-1):\n",
    "    curr_tuple = best_list[i]\n",
    "    next_tuple = best_list[i+1]\n",
    "    start_X.append(curr_tuple[0])\n",
    "    start_Y.append(curr_tuple[1])\n",
    "    end_X.append(next_tuple[0] - curr_tuple[0])\n",
    "    end_Y.append(next_tuple[1] - curr_tuple[1])"
   ]
  },
  {
   "cell_type": "code",
   "execution_count": 12,
   "metadata": {},
   "outputs": [],
   "source": [
    "xvalues = np.array(range(int(X_MAX)))\n",
    "yvalues = np.array(range(int(Y_MAX)))"
   ]
  },
  {
   "cell_type": "code",
   "execution_count": 13,
   "metadata": {},
   "outputs": [
    {
     "data": {
      "text/plain": [
       "[<matplotlib.lines.Line2D at 0x7f54490d5ed0>,\n",
       " <matplotlib.lines.Line2D at 0x7f540d221d90>,\n",
       " <matplotlib.lines.Line2D at 0x7f540d221e50>,\n",
       " <matplotlib.lines.Line2D at 0x7f540d221f10>,\n",
       " <matplotlib.lines.Line2D at 0x7f540d221fd0>,\n",
       " <matplotlib.lines.Line2D at 0x7f540d2060d0>,\n",
       " <matplotlib.lines.Line2D at 0x7f540d206190>,\n",
       " <matplotlib.lines.Line2D at 0x7f540d206250>,\n",
       " <matplotlib.lines.Line2D at 0x7f540d206310>,\n",
       " <matplotlib.lines.Line2D at 0x7f540d2063d0>]"
      ]
     },
     "execution_count": 13,
     "metadata": {},
     "output_type": "execute_result"
    },
    {
     "data": {
      "image/png": "[encoded data removed]",
      "text/plain": [
       "<Figure size 432x288 with 1 Axes>"
      ]
     },
     "metadata": {},
     "output_type": "display_data"
    }
   ],
   "source": [
    "xx, yy = np.meshgrid(xvalues, yvalues)\n",
    "fig = plt.figure()\n",
    "ax = fig.add_subplot(111)\n",
    "ax.quiver(start_X, start_Y, end_X, end_Y, angles='xy', scale_units='xy', scale = 1)\n",
    "plt.axis('equal')\n",
    "plt.xticks(range(10))\n",
    "plt.yticks(range(10))\n",
    "\n",
    "plt.grid()\n",
    "plt.plot(xx, yy, marker='.', color='k', linestyle=' ')"
   ]
  },
  {
   "cell_type": "code",
   "execution_count": null,
   "metadata": {},
   "outputs": [],
   "source": []
  },
  {
   "cell_type": "code",
   "execution_count": null,
   "metadata": {},
   "outputs": [],
   "source": []
  }
 ],
 "metadata": {
  "kernelspec": {
   "display_name": "Python [default]",
   "language": "python",
   "name": "python2"
  },
  "language_info": {
   "codemirror_mode": {
    "name": "ipython",
    "version": 2
   },
   "file_extension": ".py",
   "mimetype": "text/x-python",
   "name": "python",
   "nbconvert_exporter": "python",
   "pygments_lexer": "ipython2",
   "version": "2.7.15"
  }
 },
 "nbformat": 4,
 "nbformat_minor": 2
}
