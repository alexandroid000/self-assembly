{
 "cells": [
  {
   "cell_type": "code",
   "execution_count": 1,
   "metadata": {},
   "outputs": [],
   "source": [
    "#!/usr/bin/env python\n",
    "import pandas as pd\n",
    "import numpy as np\n",
    "import matplotlib.pyplot as plt\n",
    "import seaborn as sns\n",
    "from mapping import Mapping\n",
    "\n",
    "%load_ext version_information\n",
    "%version_information numpy, pandas, matplotlib\n",
    "%version_information\n",
    "fig_prefix = \"../figures/2018-07-22-jw-weaselball-starting_location_\"\n",
    "data_prefix = \"../data/2018-07-22-jw-weaselball-starting_location_\"\n"
   ]
  },
  {
   "cell_type": "code",
   "execution_count": 2,
   "metadata": {},
   "outputs": [
    {
     "name": "stdout",
     "output_type": "stream",
     "text": [
      "(6300, 6300)\n"
     ]
    },
    {
     "data": {
      "text/html": [
       "<div>\n",
       "<style scoped>\n",
       "    .dataframe tbody tr th:only-of-type {\n",
       "        vertical-align: middle;\n",
       "    }\n",
       "\n",
       "    .dataframe tbody tr th {\n",
       "        vertical-align: top;\n",
       "    }\n",
       "\n",
       "    .dataframe thead th {\n",
       "        text-align: right;\n",
       "    }\n",
       "</style>\n",
       "<table border=\"1\" class=\"dataframe\">\n",
       "  <thead>\n",
       "    <tr style=\"text-align: right;\">\n",
       "      <th></th>\n",
       "      <th>0</th>\n",
       "      <th>1</th>\n",
       "      <th>2</th>\n",
       "      <th>3</th>\n",
       "      <th>4</th>\n",
       "      <th>5</th>\n",
       "      <th>6</th>\n",
       "      <th>7</th>\n",
       "      <th>8</th>\n",
       "      <th>9</th>\n",
       "      <th>...</th>\n",
       "      <th>6290</th>\n",
       "      <th>6291</th>\n",
       "      <th>6292</th>\n",
       "      <th>6293</th>\n",
       "      <th>6294</th>\n",
       "      <th>6295</th>\n",
       "      <th>6296</th>\n",
       "      <th>6297</th>\n",
       "      <th>6298</th>\n",
       "      <th>6299</th>\n",
       "    </tr>\n",
       "  </thead>\n",
       "  <tbody>\n",
       "    <tr>\n",
       "      <th>0</th>\n",
       "      <td>0.125000</td>\n",
       "      <td>0.125000</td>\n",
       "      <td>0.000000</td>\n",
       "      <td>0.000000</td>\n",
       "      <td>0.000000</td>\n",
       "      <td>0.000000</td>\n",
       "      <td>0.0</td>\n",
       "      <td>0.0</td>\n",
       "      <td>0.0</td>\n",
       "      <td>0.0</td>\n",
       "      <td>...</td>\n",
       "      <td>0.0</td>\n",
       "      <td>0.0</td>\n",
       "      <td>0.0</td>\n",
       "      <td>0.0</td>\n",
       "      <td>0.0</td>\n",
       "      <td>0.0</td>\n",
       "      <td>0.0</td>\n",
       "      <td>0.0</td>\n",
       "      <td>0.0</td>\n",
       "      <td>0.0</td>\n",
       "    </tr>\n",
       "    <tr>\n",
       "      <th>1</th>\n",
       "      <td>0.083333</td>\n",
       "      <td>0.083333</td>\n",
       "      <td>0.083333</td>\n",
       "      <td>0.000000</td>\n",
       "      <td>0.000000</td>\n",
       "      <td>0.000000</td>\n",
       "      <td>0.0</td>\n",
       "      <td>0.0</td>\n",
       "      <td>0.0</td>\n",
       "      <td>0.0</td>\n",
       "      <td>...</td>\n",
       "      <td>0.0</td>\n",
       "      <td>0.0</td>\n",
       "      <td>0.0</td>\n",
       "      <td>0.0</td>\n",
       "      <td>0.0</td>\n",
       "      <td>0.0</td>\n",
       "      <td>0.0</td>\n",
       "      <td>0.0</td>\n",
       "      <td>0.0</td>\n",
       "      <td>0.0</td>\n",
       "    </tr>\n",
       "    <tr>\n",
       "      <th>2</th>\n",
       "      <td>0.000000</td>\n",
       "      <td>0.083333</td>\n",
       "      <td>0.083333</td>\n",
       "      <td>0.083333</td>\n",
       "      <td>0.000000</td>\n",
       "      <td>0.000000</td>\n",
       "      <td>0.0</td>\n",
       "      <td>0.0</td>\n",
       "      <td>0.0</td>\n",
       "      <td>0.0</td>\n",
       "      <td>...</td>\n",
       "      <td>0.0</td>\n",
       "      <td>0.0</td>\n",
       "      <td>0.0</td>\n",
       "      <td>0.0</td>\n",
       "      <td>0.0</td>\n",
       "      <td>0.0</td>\n",
       "      <td>0.0</td>\n",
       "      <td>0.0</td>\n",
       "      <td>0.0</td>\n",
       "      <td>0.0</td>\n",
       "    </tr>\n",
       "    <tr>\n",
       "      <th>3</th>\n",
       "      <td>0.000000</td>\n",
       "      <td>0.000000</td>\n",
       "      <td>0.083333</td>\n",
       "      <td>0.083333</td>\n",
       "      <td>0.083333</td>\n",
       "      <td>0.000000</td>\n",
       "      <td>0.0</td>\n",
       "      <td>0.0</td>\n",
       "      <td>0.0</td>\n",
       "      <td>0.0</td>\n",
       "      <td>...</td>\n",
       "      <td>0.0</td>\n",
       "      <td>0.0</td>\n",
       "      <td>0.0</td>\n",
       "      <td>0.0</td>\n",
       "      <td>0.0</td>\n",
       "      <td>0.0</td>\n",
       "      <td>0.0</td>\n",
       "      <td>0.0</td>\n",
       "      <td>0.0</td>\n",
       "      <td>0.0</td>\n",
       "    </tr>\n",
       "    <tr>\n",
       "      <th>4</th>\n",
       "      <td>0.000000</td>\n",
       "      <td>0.000000</td>\n",
       "      <td>0.000000</td>\n",
       "      <td>0.083333</td>\n",
       "      <td>0.083333</td>\n",
       "      <td>0.083333</td>\n",
       "      <td>0.0</td>\n",
       "      <td>0.0</td>\n",
       "      <td>0.0</td>\n",
       "      <td>0.0</td>\n",
       "      <td>...</td>\n",
       "      <td>0.0</td>\n",
       "      <td>0.0</td>\n",
       "      <td>0.0</td>\n",
       "      <td>0.0</td>\n",
       "      <td>0.0</td>\n",
       "      <td>0.0</td>\n",
       "      <td>0.0</td>\n",
       "      <td>0.0</td>\n",
       "      <td>0.0</td>\n",
       "      <td>0.0</td>\n",
       "    </tr>\n",
       "  </tbody>\n",
       "</table>\n",
       "<p>5 rows × 6300 columns</p>\n",
       "</div>"
      ],
      "text/plain": [
       "          0         1         2         3         4         5    6    7    8  \\\n",
       "0  0.125000  0.125000  0.000000  0.000000  0.000000  0.000000  0.0  0.0  0.0   \n",
       "1  0.083333  0.083333  0.083333  0.000000  0.000000  0.000000  0.0  0.0  0.0   \n",
       "2  0.000000  0.083333  0.083333  0.083333  0.000000  0.000000  0.0  0.0  0.0   \n",
       "3  0.000000  0.000000  0.083333  0.083333  0.083333  0.000000  0.0  0.0  0.0   \n",
       "4  0.000000  0.000000  0.000000  0.083333  0.083333  0.083333  0.0  0.0  0.0   \n",
       "\n",
       "     9  ...   6290  6291  6292  6293  6294  6295  6296  6297  6298  6299  \n",
       "0  0.0  ...    0.0   0.0   0.0   0.0   0.0   0.0   0.0   0.0   0.0   0.0  \n",
       "1  0.0  ...    0.0   0.0   0.0   0.0   0.0   0.0   0.0   0.0   0.0   0.0  \n",
       "2  0.0  ...    0.0   0.0   0.0   0.0   0.0   0.0   0.0   0.0   0.0   0.0  \n",
       "3  0.0  ...    0.0   0.0   0.0   0.0   0.0   0.0   0.0   0.0   0.0   0.0  \n",
       "4  0.0  ...    0.0   0.0   0.0   0.0   0.0   0.0   0.0   0.0   0.0   0.0  \n",
       "\n",
       "[5 rows x 6300 columns]"
      ]
     },
     "execution_count": 2,
     "metadata": {},
     "output_type": "execute_result"
    }
   ],
   "source": [
    "df = pd.read_csv('../data/2018-07-22-jw-weaselball_analysis_translation_matrix_out.csv')\n",
    "print(df.shape)\n",
    "df = df.apply(pd.to_numeric)\n",
    "df.head()"
   ]
  },
  {
   "cell_type": "code",
   "execution_count": 3,
   "metadata": {},
   "outputs": [
    {
     "data": {
      "text/plain": [
       "0    134.0\n",
       "1    144.0\n",
       "2    172.0\n",
       "3    136.0\n",
       "4    153.0\n",
       "Name: 0, dtype: float64"
      ]
     },
     "execution_count": 3,
     "metadata": {},
     "output_type": "execute_result"
    }
   ],
   "source": [
    "df_import_m = pd.read_csv('../data/2018-07-22-jw-weaselball_analysis_magnitude_vector_out.csv',  header=None);\n",
    "magnitude_V = df_import_m.iloc[:,0]\n",
    "magnitude_V = magnitude_V.apply(pd.to_numeric)\n",
    "magnitude_V = magnitude_V.astype(float)\n",
    "magnitude_V.head()"
   ]
  },
  {
   "cell_type": "code",
   "execution_count": 4,
   "metadata": {},
   "outputs": [],
   "source": [
    "NUMBER_OF_SQUARES = 100 #This should be a square number to create equal sized squares.\n",
    "RESOLUTION_OF_S1 = 0.1 #This is used to discretize the yaw angle over 0 - 2*pi\n",
    "START_X = 0\n",
    "START_Y = 0\n",
    "END_X = 9\n",
    "END_Y = 9\n",
    "END_YAW = 0\n",
    "counter = 0"
   ]
  },
  {
   "cell_type": "code",
   "execution_count": 5,
   "metadata": {},
   "outputs": [],
   "source": [
    "#The formula for mapping a 3D array to 1D is\n",
    "#(z * xMax * yMax) + (y * xMax) + x;\n",
    "#https://stackoverflow.com/questions/7367770/how-to-flatten-or-index-3d-array-in-1d-array\n",
    "X_MAX = NUMBER_OF_SQUARES ** (1/2.0)\n",
    "Y_MAX = NUMBER_OF_SQUARES ** (1/2.0)\n",
    "YAW_MAX = (2 * np.pi) / RESOLUTION_OF_S1\n",
    "mapping = Mapping(X_MAX, Y_MAX, YAW_MAX)#Fill in the logical areas that the system can reach (For now I am assuming it can go up/down 2 yaw states or the surronding (x,y) blocks)"
   ]
  },
  {
   "cell_type": "code",
   "execution_count": 6,
   "metadata": {},
   "outputs": [],
   "source": [
    "#https://vknight.org/unpeudemath/code/2015/11/15/Visualising-markov-chains.html\n",
    "#http://www.blackarbs.com/blog/introduction-hidden-markov-models-python-networkx-sklearn/2/9/2017"
   ]
  },
  {
   "cell_type": "code",
   "execution_count": 7,
   "metadata": {},
   "outputs": [],
   "source": [
    "#Use Dijkstras to find shortest path to goal\n",
    "#https://gist.github.com/kachayev/5990802\n",
    "from collections import defaultdict\n",
    "from heapq import *\n",
    "\n",
    "def dijkstra(edges, f, t):\n",
    "    #Create dict to represent graph\n",
    "    g = defaultdict(list)\n",
    "    #add edges to dictionary\n",
    "    for l,r,c in edges:\n",
    "        g[l].append((c,r))\n",
    "\n",
    "\n",
    "    q, seen, mins = [(1,f,())], set(), {f: 0}\n",
    "    while q:\n",
    "        (cost,v1,path) = heappop(q)\n",
    "        if v1 not in seen:\n",
    "            seen.add(v1)\n",
    "            path = (v1, path)\n",
    "            if v1 == t: return (cost, path)\n",
    "\n",
    "            for c, v2 in g.get(v1, ()):\n",
    "                if v2 in seen: continue\n",
    "                prev = mins.get(v2, None)\n",
    "                next = -abs(cost * c)\n",
    "                if prev is None or next < prev:\n",
    "                    mins[v2] = next\n",
    "                    heappush(q, (next, v2, path))\n",
    "\n",
    "    return (float(\"inf\"),)"
   ]
  },
  {
   "cell_type": "code",
   "execution_count": 51,
   "metadata": {},
   "outputs": [],
   "source": [
    "#Convert translation matrix into edges for graph\n",
    "edges = []\n",
    "total_runs = magnitude_V.sum()\n",
    "for col in df.columns:\n",
    "    for idx in df.index:\n",
    "        if(df.loc[idx,col] != 0):\n",
    "            edges.append((int(col), int(idx), -df.loc[idx,col] ))\n",
    "            # I am considering appending *(magnitude_V[idx]/total_runs) to df.loc so that way we also consider how often a state has been visited\n",
    "            \n"
   ]
  },
  {
   "cell_type": "code",
   "execution_count": 52,
   "metadata": {},
   "outputs": [
    {
     "name": "stdout",
     "output_type": "stream",
     "text": [
      "(0,0,x) -> (9,9,0):\n",
      "[(-1.134305328389588e-11, (99, (88, (77, (66, (55, (44, (33, (22, (11, (0, ()))))))))))), (-1.134305328389588e-11, (99, (88, (77, (66, (55, (44, (33, (22, (11, (100, ()))))))))))), (-7.562035522597254e-12, (99, (88, (77, (66, (55, (44, (33, (22, (111, (200, ()))))))))))), (-5.0413570150648356e-12, (99, (88, (77, (66, (55, (44, (33, (122, (211, (300, ()))))))))))), (-3.360904676709891e-12, (99, (88, (77, (66, (55, (44, (133, (222, (311, (400, ()))))))))))), (-2.240603117806594e-12, (99, (88, (77, (66, (55, (144, (233, (322, (411, (500, ()))))))))))), (-1.4937354118710627e-12, (99, (88, (77, (66, (155, (244, (333, (422, (511, (600, ()))))))))))), (-9.60258479059969e-13, (99, (88, (77, (166, (255, (344, (433, (522, (611, (700, ()))))))))))), (-6.638824052760279e-13, (99, (88, (177, (266, (355, (444, (533, (622, (711, (800, ()))))))))))), (-4.425882701840186e-13, (99, (188, (277, (366, (455, (544, (633, (722, (811, (900, ()))))))))))), (-3.688235584866821e-14, (99, (188, (277, (366, (455, (544, (633, (722, (811, (900, (1000, ())))))))))))), (-3.0735296540556835e-15, (99, (188, (277, (366, (455, (544, (633, (722, (811, (900, (1000, (1100, ()))))))))))))), (-2.561274711713071e-16, (99, (188, (277, (366, (455, (544, (633, (722, (811, (900, (1000, (1100, (1200, ())))))))))))))), (-2.924763886025733e-17, (99, (89, (79, (169, (259, (658, (647, (736, (825, (914, (1003, (1102, (1201, (1300, ()))))))))))))))), (-2.924763886025733e-17, (99, (89, (79, (169, (259, (658, (747, (836, (925, (1014, (1103, (1202, (1301, (1400, ()))))))))))))))), (-2.4373032383547772e-18, (99, (89, (79, (169, (259, (658, (747, (836, (925, (1014, (1103, (1202, (1301, (1400, (1500, ())))))))))))))))), (-2.450841200531671e-19, (99, (89, (79, (169, (259, (658, (959, (1048, (1147, (1236, (1325, (1224, (1313, (1402, (1501, (1600, ()))))))))))))))))), (-2.175746780063831e-19, (99, (89, (79, (169, (259, (658, (959, (1048, (1147, (1346, (1345, (1344, (1433, (1522, (1611, (1700, ()))))))))))))))))), (-1.974288744872735e-19, (99, (89, (79, (169, (259, (658, (959, (1048, (1147, (1236, (1325, (1414, (1503, (1602, (1701, (1800, ()))))))))))))))))), (-1.3631993714597454e-19, (99, (89, (79, (169, (259, (658, (959, (1048, (1147, (1346, (1435, (1524, (1613, (1702, (1801, (1900, ()))))))))))))))))), (-1.1359994762164548e-20, (99, (89, (79, (169, (259, (658, (959, (1048, (1147, (1346, (1435, (1524, (1613, (1702, (1801, (1900, (2000, ())))))))))))))))))), (-1.5419383472190105e-21, (99, (89, (79, (169, (259, (658, (959, (1048, (1159, (1269, (1770, (1660, (1650, (1740, (1830, (1920, (2010, (2100, ()))))))))))))))))))), (-1.5419383472190105e-21, (99, (89, (79, (169, (259, (658, (959, (1048, (1159, (1269, (1770, (1660, (1750, (1840, (1930, (2020, (2110, (2200, ()))))))))))))))))))), (-1.5419383472190105e-21, (99, (89, (79, (169, (259, (658, (959, (1048, (1159, (1269, (1770, (1760, (1850, (1940, (2030, (2120, (2210, (2300, ()))))))))))))))))))), (-1.5419383472190105e-21, (99, (89, (79, (169, (259, (658, (959, (1048, (1159, (1269, (1770, (1860, (1950, (2040, (2130, (2220, (2310, (2400, ()))))))))))))))))))), (-1.2849486226825086e-22, (99, (89, (79, (169, (259, (658, (959, (1048, (1159, (1269, (1770, (1860, (1950, (2040, (2130, (2220, (2310, (2400, (2500, ())))))))))))))))))))), (-8.115464985363211e-23, (99, (89, (79, (169, (259, (658, (959, (1048, (1159, (1269, (1770, (2070, (2060, (2150, (2240, (2330, (2420, (2510, (2600, ())))))))))))))))))))), (-7.303918486826889e-23, (99, (89, (79, (169, (259, (658, (959, (1048, (1159, (1269, (1770, (2070, (2160, (2250, (2340, (2430, (2520, (2610, (2700, ())))))))))))))))))))), (-6.086598739022408e-24, (99, (89, (79, (169, (259, (658, (959, (1048, (1159, (1269, (1770, (2070, (2160, (2250, (2340, (2430, (2520, (2610, (2700, (2800, ()))))))))))))))))))))), (-5.072165615852007e-25, (99, (89, (79, (169, (259, (658, (959, (1048, (1159, (1269, (1770, (2070, (2160, (2250, (2340, (2430, (2520, (2610, (2700, (2800, (2900, ())))))))))))))))))))))), (-2.372942978176377e-25, (99, (89, (79, (169, (259, (658, (959, (1048, (1159, (1269, (1770, (2070, (2380, (2470, (2560, (2650, (2740, (2830, (2920, (2910, (3000, ()))))))))))))))))))))))]\n",
      "State 0 to state 99\n",
      "Min is x = 0 with P = (-1.134305328389588e-11, (99, (88, (77, (66, (55, (44, (33, (22, (11, (0, ())))))))))))\n"
     ]
    }
   ],
   "source": [
    "\n",
    "#\n",
    "#\n",
    "print \"({},{},x) -> ({},{},{}):\".format(START_X, START_Y, END_X, END_Y, END_YAW)\n",
    "x = range(int(np.pi/RESOLUTION_OF_S1))\n",
    "x_results = []\n",
    "for i in x:\n",
    "    x_results.append(dijkstra(edges, mapping.map3Dto1D(START_X,START_Y,i), mapping.map3Dto1D(END_X,END_Y,END_YAW)))\n",
    "print(x_results)\n",
    "(m,i) = min((v,i) for i,v in enumerate(x_results))\n",
    "print \"State {} to state {}\".format(mapping.map3Dto1D(START_X,START_Y,i), mapping.map3Dto1D(END_X,END_Y,END_YAW))\n",
    "print \"Min is x = {} with P = {}\".format(i,m)\n",
    "\n"
   ]
  },
  {
   "cell_type": "code",
   "execution_count": 53,
   "metadata": {},
   "outputs": [
    {
     "data": {
      "text/plain": [
       "[(0, 0, 0),\n",
       " (1, 1, 0),\n",
       " (2, 2, 0),\n",
       " (3, 3, 0),\n",
       " (4, 4, 0),\n",
       " (5, 5, 0),\n",
       " (6, 6, 0),\n",
       " (7, 7, 0),\n",
       " (8, 8, 0),\n",
       " (9, 9, 0)]"
      ]
     },
     "execution_count": 53,
     "metadata": {},
     "output_type": "execute_result"
    }
   ],
   "source": [
    "#Take best path and make it into list of x,y,yaw points\n",
    "import re\n",
    "prob = m[0]\n",
    "best_tuple = m[1]\n",
    "best_list = re.findall(r'\\d+', str(best_tuple))\n",
    "best_list = map(int, best_list)\n",
    "best_list = reversed(best_list)\n",
    "best_list = map(mapping.map1Dto3D, best_list)\n",
    "best_list"
   ]
  },
  {
   "cell_type": "code",
   "execution_count": 54,
   "metadata": {},
   "outputs": [],
   "source": [
    "#Turn (x,y,yaw) into lists that quiver likes X_start, Y_start, X_end, Y_end for all arrows\n",
    "start_X = []\n",
    "start_Y = []\n",
    "end_X = []\n",
    "end_Y = []\n",
    "for i in range(len(best_list)-1):\n",
    "    curr_tuple = best_list[i]\n",
    "    next_tuple = best_list[i+1]\n",
    "    start_X.append(curr_tuple[0])\n",
    "    start_Y.append(curr_tuple[1])\n",
    "    end_X.append(next_tuple[0] - curr_tuple[0])\n",
    "    end_Y.append(next_tuple[1] - curr_tuple[1])"
   ]
  },
  {
   "cell_type": "code",
   "execution_count": 55,
   "metadata": {},
   "outputs": [],
   "source": [
    "xvalues = np.array(range(int(X_MAX)))\n",
    "yvalues = np.array(range(int(Y_MAX)))"
   ]
  },
  {
   "cell_type": "code",
   "execution_count": 56,
   "metadata": {},
   "outputs": [
    {
     "name": "stdout",
     "output_type": "stream",
     "text": [
      "[0, 1, 2, 3, 4, 5, 6, 7, 8]\n",
      "[0, 1, 2, 3, 4, 5, 6, 7, 8]\n",
      "[1, 1, 1, 1, 1, 1, 1, 1, 1]\n",
      "[1, 1, 1, 1, 1, 1, 1, 1, 1]\n"
     ]
    },
    {
     "data": {
      "text/plain": [
       "[<matplotlib.lines.Line2D at 0x7fe6d7f47a50>,\n",
       " <matplotlib.lines.Line2D at 0x7fe6d7f30b10>,\n",
       " <matplotlib.lines.Line2D at 0x7fe6d7f30bd0>,\n",
       " <matplotlib.lines.Line2D at 0x7fe6d7f30c90>,\n",
       " <matplotlib.lines.Line2D at 0x7fe6d7f30d50>,\n",
       " <matplotlib.lines.Line2D at 0x7fe6d7f30e10>,\n",
       " <matplotlib.lines.Line2D at 0x7fe6d7f30ed0>,\n",
       " <matplotlib.lines.Line2D at 0x7fe6d7f30f90>,\n",
       " <matplotlib.lines.Line2D at 0x7fe6d7c0b090>,\n",
       " <matplotlib.lines.Line2D at 0x7fe6d7c0b150>]"
      ]
     },
     "execution_count": 56,
     "metadata": {},
     "output_type": "execute_result"
    },
    {
     "data": {
      "image/png": "[encoded data removed]",
      "text/plain": [
       "<Figure size 432x288 with 1 Axes>"
      ]
     },
     "metadata": {},
     "output_type": "display_data"
    }
   ],
   "source": [
    "xx, yy = np.meshgrid(xvalues, yvalues)\n",
    "fig = plt.figure()\n",
    "ax = fig.add_subplot(111)\n",
    "ax.quiver(start_X, start_Y, end_X, end_Y, angles='xy', scale_units='xy', scale = 1)\n",
    "plt.axis('equal')\n",
    "plt.xticks(range(10))\n",
    "plt.yticks(range(10))\n",
    "\n",
    "plt.grid()\n",
    "plt.plot(xx, yy, marker='.', color='k', linestyle=' ')"
   ]
  },
  {
   "cell_type": "code",
   "execution_count": null,
   "metadata": {},
   "outputs": [],
   "source": []
  },
  {
   "cell_type": "code",
   "execution_count": null,
   "metadata": {},
   "outputs": [],
   "source": []
  }
 ],
 "metadata": {
  "kernelspec": {
   "display_name": "Python 2",
   "language": "python",
   "name": "python2"
  },
  "language_info": {
   "codemirror_mode": {
    "name": "ipython",
    "version": 2
   },
   "file_extension": ".py",
   "mimetype": "text/x-python",
   "name": "python",
   "nbconvert_exporter": "python",
   "pygments_lexer": "ipython2",
   "version": "2.7.13"
  }
 },
 "nbformat": 4,
 "nbformat_minor": 2
}
