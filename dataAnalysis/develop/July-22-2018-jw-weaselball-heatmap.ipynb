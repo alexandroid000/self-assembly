{
 "cells": [
  {
   "cell_type": "code",
   "execution_count": 76,
   "metadata": {},
   "outputs": [
    {
     "name": "stdout",
     "output_type": "stream",
     "text": [
      "The version_information extension is already loaded. To reload it, use:\n",
      "  %reload_ext version_information\n"
     ]
    }
   ],
   "source": [
    "#!/usr/bin/env python\n",
    "import pandas as pd\n",
    "import numpy as np\n",
    "import matplotlib.pyplot as plt\n",
    "import seaborn as sns\n",
    "%load_ext version_information\n",
    "%version_information numpy, pandas, matplotlib\n",
    "%version_information\n",
    "fig_prefix = \"../figures/2018-07-22-jw-weaselball-heatmap_\"\n",
    "data_prefix = \"../data/2018-07-22-jw-weaselball-heatmap_\"\n"
   ]
  },
  {
   "cell_type": "code",
   "execution_count": null,
   "metadata": {},
   "outputs": [],
   "source": [
    "df = pd.read_csv('../data/2018-07-22-jw-weaselball_analysis_translation_matrix_out.csv')\n",
    "print(df.head())\n"
   ]
  },
  {
   "cell_type": "code",
   "execution_count": null,
   "metadata": {},
   "outputs": [],
   "source": [
    "NUMBER_OF_SQUARES = 100 #This should be a square number to create equal sized squares.\n",
    "RESOLUTION_OF_S1 = 0.1 #This is used to discretize the yaw angle over 0 - 2*pi\n",
    "\n",
    "X_MAX = NUMBER_OF_SQUARES ** (1/2.0)\n",
    "Y_MAX = NUMBER_OF_SQUARES ** (1/2.0)\n",
    "YAW_MAX = (2 * np.pi) / RESOLUTION_OF_S1\n",
    "\n",
    "def map1Dto3D(element):\n",
    "    z = int(element / (X_MAX * Y_MAX));\n",
    "    element -= int(z * X_MAX * Y_MAX)\n",
    "    y = int(element / X_MAX)\n",
    "    x = int(element % X_MAX)\n",
    "    return ( x, y, z );\n",
    "           \n",
    "def map3Dto1D(x,y,yaw):\n",
    "    return int((yaw*X_MAX*Y_MAX) + (y*X_MAX) + x)\n"
   ]
  },
  {
   "cell_type": "code",
   "execution_count": null,
   "metadata": {},
   "outputs": [],
   "source": [
    "print(map1Dto3D(map3Dto1D(5,5,2)))"
   ]
  },
  {
   "cell_type": "code",
   "execution_count": null,
   "metadata": {},
   "outputs": [],
   "source": [
    "df_regularized = df.copy()\n",
    "for index, row in df_regularized.iterrows():\n",
    "    multiplyer = 1.0/row.min() \n",
    "    df_regularized.iloc[index] *= multiplyer\n",
    "print(df_regularized.head())"
   ]
  },
  {
   "cell_type": "code",
   "execution_count": null,
   "metadata": {},
   "outputs": [],
   "source": [
    "#Create heatmap of where ball is\n",
    "size_of_rotation_series = int((2*np.pi)/RESOLUTION_OF_S1)\n",
    "heatmap_rotation = pd.Series(0, index=range(size_of_rotation_series + 1))\n",
    "heatmap = pd.DataFrame(0, index=range(10), columns=range(10))\n",
    "heatmap_index = range(10)\n",
    "\n",
    "for index, row in df_regularized.iterrows():\n",
    "    coordinates_in_3d = map1Dto3D(index)\n",
    "    total_states = row.sum()\n",
    "    heatmap.at[coordinates_in_3d[0],coordinates_in_3d[1]] += total_states\n",
    "    \n",
    "    heatmap_rotation.at[coordinates_in_3d[2]] += total_states\n",
    "\n",
    "print(heatmap.head())\n",
    "print(heatmap_rotation.head())"
   ]
  },
  {
   "cell_type": "code",
   "execution_count": null,
   "metadata": {},
   "outputs": [],
   "source": [
    "#I am not sure if this is neccessary. This tries to take out the +1 given to all events.\n",
    "#Get the position heatmap have the lowest at 0\n",
    "#import sys\n",
    "#heatmap_without_n = heatmap.copy()\n",
    "\n",
    "#minimum = sys.maxint\n",
    "#for index, row in heatmap.iterrows():\n",
    "#    minimum = min(minimum, row.min())\n",
    "    \n",
    "#print(minimum)\n",
    "#for index, row in heatmap.iterrows():\n",
    "#    heatmap_without_n.iloc[index] -= minimum\n",
    "#\n",
    "#print(heatmap_without_n)"
   ]
  },
  {
   "cell_type": "code",
   "execution_count": null,
   "metadata": {},
   "outputs": [],
   "source": [
    "heatmap_rotation_without_n = heatmap_rotation.copy()\n",
    "minimum = heatmap_rotation_without_n.min()\n",
    "heatmap_rotation_without_n -= minimum\n",
    "print(heatmap_rotation_without_n.head())\n"
   ]
  },
  {
   "cell_type": "code",
   "execution_count": null,
   "metadata": {},
   "outputs": [],
   "source": [
    "#Create graphic heatmap of position\n",
    "#Take the log of everything so it can be graphed, add 1 to get rid of log(0)\n",
    "for index, row in heatmap.iterrows():\n",
    "    heatmap_without_n.iloc[index] += 1\n",
    "    heatmap_without_n.iloc[index] = np.log(heatmap_without_n.iloc[index])\n",
    "heatmap_position = sns.heatmap(heatmap_without_n, annot=False)\n",
    "plot = heatmap_position.get_figure()\n",
    "plot.savefig(fig_prefix + \"position_heatmap.png\")"
   ]
  },
  {
   "cell_type": "code",
   "execution_count": null,
   "metadata": {},
   "outputs": [],
   "source": [
    "#Create graphic heatmap of rotation\n",
    "#Take the log of everything to it can be graphed better, add 1 to get rid of log(0)\n",
    "heatmap_rotation_without_n += 1\n",
    "heatmap_rotation_without_n = np.log(heatmap_rotation_without_n)\n",
    "plt.figure(figsize=(20,10))\n",
    "plt.title('Relative Rotation Frequence of Weaselball Structure')\n",
    "plt.xlabel('n * RESOLUTION_OF_S1')\n",
    "plt.ylabel('log(frequency)')\n",
    "heatmap_rotation_without_n.plot.bar()\n",
    "plt.show()\n",
    "\n",
    "plt.savefig(fig_prefix + \"rotation_heatmap.png\")"
   ]
  },
  {
   "cell_type": "code",
   "execution_count": null,
   "metadata": {},
   "outputs": [],
   "source": []
  }
 ],
 "metadata": {
  "kernelspec": {
   "display_name": "Python 2",
   "language": "python",
   "name": "python2"
  },
  "language_info": {
   "codemirror_mode": {
    "name": "ipython",
    "version": 2
   },
   "file_extension": ".py",
   "mimetype": "text/x-python",
   "name": "python",
   "nbconvert_exporter": "python",
   "pygments_lexer": "ipython2",
   "version": "2.7.13"
  }
 },
 "nbformat": 4,
 "nbformat_minor": 2
}
