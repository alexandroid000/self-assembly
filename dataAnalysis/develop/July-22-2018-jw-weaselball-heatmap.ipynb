{
 "cells": [
  {
   "cell_type": "code",
   "execution_count": 66,
   "metadata": {},
   "outputs": [
    {
     "name": "stdout",
     "output_type": "stream",
     "text": [
      "The version_information extension is already loaded. To reload it, use:\n",
      "  %reload_ext version_information\n"
     ]
    }
   ],
   "source": [
    "#!/usr/bin/env python\n",
    "import pandas as pd\n",
    "import numpy as np\n",
    "import matplotlib.pyplot as plt\n",
    "import seaborn as sns\n",
    "%load_ext version_information\n",
    "%version_information numpy, pandas, matplotlib\n",
    "%version_information\n",
    "fig_prefix = \"../figures/2018-07-22-jw-weaselball-heatmap_\"\n",
    "data_prefix = \"../data/2018-07-22-jw-weaselball-heatmap_\"\n"
   ]
  },
  {
   "cell_type": "code",
   "execution_count": 67,
   "metadata": {},
   "outputs": [
    {
     "name": "stdout",
     "output_type": "stream",
     "text": [
      "          0         1         2         3         4         5         6  \\\n",
      "0  0.000159  0.000159  0.000159  0.000159  0.000159  0.000159  0.000159   \n",
      "1  0.000159  0.000159  0.000159  0.000159  0.000159  0.000159  0.000159   \n",
      "2  0.000159  0.000159  0.000159  0.000159  0.000159  0.000159  0.000159   \n",
      "3  0.000159  0.000159  0.000159  0.000159  0.000159  0.000159  0.000159   \n",
      "4  0.000159  0.000159  0.000159  0.000159  0.000159  0.000159  0.000159   \n",
      "\n",
      "          7         8         9    ...         6290      6291      6292  \\\n",
      "0  0.000159  0.000159  0.000159    ...     0.000159  0.000159  0.000159   \n",
      "1  0.000159  0.000159  0.000159    ...     0.000159  0.000159  0.000159   \n",
      "2  0.000159  0.000159  0.000159    ...     0.000159  0.000159  0.000159   \n",
      "3  0.000159  0.000159  0.000159    ...     0.000159  0.000159  0.000159   \n",
      "4  0.000159  0.000159  0.000159    ...     0.000159  0.000159  0.000159   \n",
      "\n",
      "       6293      6294      6295      6296      6297      6298      6299  \n",
      "0  0.000159  0.000159  0.000159  0.000159  0.000159  0.000159  0.000159  \n",
      "1  0.000159  0.000159  0.000159  0.000159  0.000159  0.000159  0.000159  \n",
      "2  0.000159  0.000159  0.000159  0.000159  0.000159  0.000159  0.000159  \n",
      "3  0.000159  0.000159  0.000159  0.000159  0.000159  0.000159  0.000159  \n",
      "4  0.000159  0.000159  0.000159  0.000159  0.000159  0.000159  0.000159  \n",
      "\n",
      "[5 rows x 6300 columns]\n"
     ]
    }
   ],
   "source": [
    "df = pd.read_csv('../data/2018-07-22-jw-weaselball_analysis_translation_matrix_out.csv')\n",
    "print(df.head())\n"
   ]
  },
  {
   "cell_type": "code",
   "execution_count": 68,
   "metadata": {},
   "outputs": [],
   "source": [
    "NUMBER_OF_SQUARES = 100 #This should be a square number to create equal sized squares.\n",
    "RESOLUTION_OF_S1 = 0.1 #This is used to discretize the yaw angle over 0 - 2*pi\n",
    "\n",
    "X_MAX = NUMBER_OF_SQUARES ** (1/2.0)\n",
    "Y_MAX = NUMBER_OF_SQUARES ** (1/2.0)\n",
    "YAW_MAX = (2 * np.pi) / RESOLUTION_OF_S1\n",
    "\n",
    "def map1Dto3D(element):\n",
    "    z = int(element / (X_MAX * Y_MAX));\n",
    "    element -= int(z * X_MAX * Y_MAX)\n",
    "    y = int(element / X_MAX)\n",
    "    x = int(element % X_MAX)\n",
    "    return ( x, y, z );\n",
    "           \n",
    "def map3Dto1D(x,y,yaw):\n",
    "    return int((yaw*X_MAX*Y_MAX) + (y*X_MAX) + x)\n"
   ]
  },
  {
   "cell_type": "code",
   "execution_count": 69,
   "metadata": {},
   "outputs": [
    {
     "name": "stdout",
     "output_type": "stream",
     "text": [
      "(5, 5, 2)\n"
     ]
    }
   ],
   "source": [
    "print(map1Dto3D(map3Dto1D(5,5,2)))"
   ]
  },
  {
   "cell_type": "code",
   "execution_count": 70,
   "metadata": {},
   "outputs": [
    {
     "name": "stdout",
     "output_type": "stream",
     "text": [
      "     0    1    2    3    4    5    6    7    8    9  ...   6290  6291  6292  \\\n",
      "0  1.0  1.0  1.0  1.0  1.0  1.0  1.0  1.0  1.0  1.0  ...    1.0   1.0   1.0   \n",
      "1  1.0  1.0  1.0  1.0  1.0  1.0  1.0  1.0  1.0  1.0  ...    1.0   1.0   1.0   \n",
      "2  1.0  1.0  1.0  1.0  1.0  1.0  1.0  1.0  1.0  1.0  ...    1.0   1.0   1.0   \n",
      "3  1.0  1.0  1.0  1.0  1.0  1.0  1.0  1.0  1.0  1.0  ...    1.0   1.0   1.0   \n",
      "4  1.0  1.0  1.0  1.0  1.0  1.0  1.0  1.0  1.0  1.0  ...    1.0   1.0   1.0   \n",
      "\n",
      "   6293  6294  6295  6296  6297  6298  6299  \n",
      "0   1.0   1.0   1.0   1.0   1.0   1.0   1.0  \n",
      "1   1.0   1.0   1.0   1.0   1.0   1.0   1.0  \n",
      "2   1.0   1.0   1.0   1.0   1.0   1.0   1.0  \n",
      "3   1.0   1.0   1.0   1.0   1.0   1.0   1.0  \n",
      "4   1.0   1.0   1.0   1.0   1.0   1.0   1.0  \n",
      "\n",
      "[5 rows x 6300 columns]\n"
     ]
    }
   ],
   "source": [
    "df_regularized = df.copy()\n",
    "for index, row in df_regularized.iterrows():\n",
    "    multiplyer = 1.0/row.min() \n",
    "    df_regularized.iloc[index] *= multiplyer\n",
    "print(df_regularized.head())"
   ]
  },
  {
   "cell_type": "code",
   "execution_count": 71,
   "metadata": {},
   "outputs": [
    {
     "name": "stdout",
     "output_type": "stream",
     "text": [
      "        0       1       2       3       4       5       6       7       8  \\\n",
      "0  396900  396900  396900  396900  400055  396900  396900  396900  396900   \n",
      "1  399706  399340  396992  397066  405085  397352  396900  396958  398558   \n",
      "2  397732  437135  397269  397264  397063  397186  397281  397454  399197   \n",
      "3  396900  445063  397023  396900  397062  398159  397212  396900  396900   \n",
      "4  396900  397147  396900  396900  398586  400411  397225  397011  396900   \n",
      "\n",
      "        9  \n",
      "0  396900  \n",
      "1  396900  \n",
      "2  396900  \n",
      "3  396900  \n",
      "4  396900  \n",
      "0    635470\n",
      "1    639023\n",
      "2    639030\n",
      "3    641409\n",
      "4    641418\n",
      "dtype: int64\n"
     ]
    }
   ],
   "source": [
    "#Create heatmap of where ball is\n",
    "size_of_rotation_series = int((2*np.pi)/RESOLUTION_OF_S1)\n",
    "heatmap_rotation = pd.Series(0, index=range(size_of_rotation_series + 1))\n",
    "heatmap = pd.DataFrame(0, index=range(10), columns=range(10))\n",
    "heatmap_index = range(10)\n",
    "\n",
    "for index, row in df_regularized.iterrows():\n",
    "    coordinates_in_3d = map1Dto3D(index)\n",
    "    total_states = row.sum()\n",
    "    heatmap.at[coordinates_in_3d[0],coordinates_in_3d[1]] += total_states\n",
    "    \n",
    "    heatmap_rotation.at[coordinates_in_3d[2]] += total_states\n",
    "\n",
    "print(heatmap.head())\n",
    "print(heatmap_rotation.head())"
   ]
  },
  {
   "cell_type": "code",
   "execution_count": 72,
   "metadata": {},
   "outputs": [
    {
     "name": "stdout",
     "output_type": "stream",
     "text": [
      "396900\n",
      "      0      1    2    3     4     5    6    7     8  9\n",
      "0     0      0    0    0  3155     0    0    0     0  0\n",
      "1  2806   2440   92  166  8185   452    0   58  1658  0\n",
      "2   832  40235  369  364   163   286  381  554  2297  0\n",
      "3     0  48163  123    0   162  1259  312    0     0  0\n",
      "4     0    247    0    0  1686  3511  325  111     0  0\n"
     ]
    }
   ],
   "source": [
    "#I am not sure if this is neccessary. This tries to take out the +1 given to all events.\n",
    "#Get the position heatmap have the lowest at 0\n",
    "import sys\n",
    "heatmap_without_n = heatmap.copy()\n",
    "\n",
    "minimum = sys.maxint\n",
    "for index, row in heatmap.iterrows():\n",
    "    minimum = min(minimum, row.min())\n",
    "    \n",
    "print(minimum)\n",
    "for index, row in heatmap.iterrows():\n",
    "    heatmap_without_n.iloc[index] -= minimum\n",
    "print(heatmap_without_n.head())"
   ]
  },
  {
   "cell_type": "code",
   "execution_count": 73,
   "metadata": {},
   "outputs": [
    {
     "name": "stdout",
     "output_type": "stream",
     "text": [
      "0     5470\n",
      "1     9023\n",
      "2     9030\n",
      "3    11409\n",
      "4    11418\n",
      "dtype: int64\n"
     ]
    }
   ],
   "source": [
    "heatmap_rotation_without_n = heatmap_rotation.copy()\n",
    "minimum = heatmap_rotation_without_n.min()\n",
    "heatmap_rotation_without_n -= minimum\n",
    "print(heatmap_rotation_without_n.head())\n"
   ]
  },
  {
   "cell_type": "code",
   "execution_count": 74,
   "metadata": {},
   "outputs": [
    {
     "name": "stdout",
     "output_type": "stream",
     "text": [
      "          0          1         2         3         4         5         6  \\\n",
      "0  0.000000   0.000000  0.000000  0.000000  8.057061  0.000000  0.000000   \n",
      "1  7.939872   7.800163  4.532599  5.117994  9.010181  6.115892  0.000000   \n",
      "2  6.725034  10.602517  5.913503  5.899897  5.099866  5.659482  5.945421   \n",
      "3  0.000000  10.782367  4.820282  0.000000  5.093750  7.138867  5.746203   \n",
      "4  0.000000   5.513429  0.000000  0.000000  7.430707  8.163941  5.786897   \n",
      "5  0.000000   5.365976  0.000000  0.000000  6.084499  6.630683  3.044522   \n",
      "6  0.000000   5.327876  3.713572  0.000000  0.000000  0.000000  0.000000   \n",
      "7  0.000000   3.465736  5.192957  4.634729  5.105945  0.000000  5.641907   \n",
      "8  0.000000   0.000000  4.653960  5.135798  4.110874  6.182085  4.997212   \n",
      "9  0.000000   0.000000  0.000000  3.367296  0.000000  0.000000  0.000000   \n",
      "\n",
      "          7         8         9  \n",
      "0  0.000000  0.000000  0.000000  \n",
      "1  4.077537  7.413970  0.000000  \n",
      "2  6.318968  7.739794  0.000000  \n",
      "3  0.000000  0.000000  0.000000  \n",
      "4  4.718499  0.000000  0.000000  \n",
      "5  5.697093  3.332205  7.200425  \n",
      "6  2.772589  7.257003  8.480322  \n",
      "7  4.394449  7.109879  6.587550  \n",
      "8  5.669881  6.705639  0.000000  \n",
      "9  0.000000  0.000000  0.000000  \n"
     ]
    },
    {
     "data": {
      "image/png": "[encoded data removed]",
      "text/plain": [
       "<Figure size 432x288 with 2 Axes>"
      ]
     },
     "metadata": {},
     "output_type": "display_data"
    }
   ],
   "source": [
    "#Create graphic heatmap of position with n taken out\n",
    "#Take the log of everything so it can be graphed, add 1 to get rid of log(0)\n",
    "for index, row in heatmap_without_n.iterrows():\n",
    "    heatmap_without_n.iloc[index] += 1\n",
    "    heatmap_without_n.iloc[index] = np.log(heatmap_without_n.iloc[index])\n",
    "heatmap_position = sns.heatmap(heatmap_without_n, annot=False).set_title('Log Frequence of Weaselball Structure in (x,y) with n taken out')\n",
    "plot = heatmap_position.get_figure()\n",
    "plot.savefig(fig_prefix + \"position_heatmap_without_n.png\")\n",
    "print(heatmap_without_n)"
   ]
  },
  {
   "cell_type": "code",
   "execution_count": 75,
   "metadata": {},
   "outputs": [
    {
     "name": "stdout",
     "output_type": "stream",
     "text": [
      "           0          1          2          3          4          5  \\\n",
      "0  12.891442  12.891442  12.891442  12.891442  12.899360  12.891442   \n",
      "1  12.898487  12.897571  12.891674  12.891860  12.911855  12.892580   \n",
      "2  12.893536  12.988000  12.892371  12.892359  12.891853  12.892162   \n",
      "3  12.891442  13.005973  12.891752  12.891442  12.891850  12.894609   \n",
      "4  12.891442  12.892064  12.891442  12.891442  12.895681  12.900249   \n",
      "5  12.891442  12.891979  12.891442  12.891442  12.892545  12.893348   \n",
      "6  12.891442  12.891959  12.891543  12.891442  12.891442  12.891442   \n",
      "7  12.891442  12.891520  12.891893  12.891699  12.891855  12.891442   \n",
      "8  12.891442  12.891442  12.891704  12.891868  12.891593  12.892658   \n",
      "9  12.891442  12.891442  12.891442  12.891513  12.891442  12.891442   \n",
      "\n",
      "           6          7          8          9  \n",
      "0  12.891442  12.891442  12.891442  12.891442  \n",
      "1  12.891442  12.891588  12.895611  12.891442  \n",
      "2  12.892402  12.892837  12.897213  12.891442  \n",
      "3  12.892228  12.891442  12.891442  12.891442  \n",
      "4  12.892261  12.891722  12.891442  12.891442  \n",
      "5  12.891493  12.892190  12.891510  12.894810  \n",
      "6  12.891442  12.891480  12.895006  12.903508  \n",
      "7  12.892150  12.891644  12.894519  12.893267  \n",
      "8  12.891812  12.892170  12.893496  12.891442  \n",
      "9  12.891442  12.891442  12.891442  12.891442  \n"
     ]
    },
    {
     "data": {
      "image/png": "[encoded data removed]",
      "text/plain": [
       "<Figure size 432x288 with 2 Axes>"
      ]
     },
     "metadata": {},
     "output_type": "display_data"
    }
   ],
   "source": [
    "#Create graphic heatmap of position without n taken out\n",
    "#Take the log of everything so it can be graphed, add 1 to get rid of log(0)\n",
    "for index, row in heatmap.iterrows():\n",
    "    heatmap.iloc[index] += 1\n",
    "    heatmap.iloc[index] = np.log(heatmap.iloc[index])\n",
    "heatmap_position = sns.heatmap(heatmap, annot=False).set_title('Log Frequence of Weaselball Structure in (x,y)')\n",
    "plot = heatmap_position.get_figure()\n",
    "plot.savefig(fig_prefix + \"position_heatmap.png\")\n",
    "print(heatmap)"
   ]
  },
  {
   "cell_type": "code",
   "execution_count": 76,
   "metadata": {},
   "outputs": [
    {
     "data": {
      "image/png": "[encoded data removed]",
      "text/plain": [
       "<Figure size 1440x720 with 1 Axes>"
      ]
     },
     "metadata": {},
     "output_type": "display_data"
    }
   ],
   "source": [
    "#Create graphic heatmap of rotation with n taken out\n",
    "#Take the log of everything to it can be graphed better, add 1 to get rid of log(0)\n",
    "heatmap_rotation_without_n += 1\n",
    "heatmap_rotation_without_n = np.log(heatmap_rotation_without_n)\n",
    "plt.figure(figsize=(20,10))\n",
    "plt.title('Log Rotation Frequence of Weaselball Structure with n taken out')\n",
    "plt.xlabel('n * RESOLUTION_OF_S1')\n",
    "plt.ylabel('log(frequency)')\n",
    "heatmap_rotation_without_n.plot.bar()\n",
    "plt.savefig(fig_prefix + \"rotation_heatmap_without_n.png\")\n",
    "plt.show()\n",
    "\n"
   ]
  },
  {
   "cell_type": "code",
   "execution_count": 77,
   "metadata": {},
   "outputs": [
    {
     "data": {
      "image/png": "[encoded data removed]",
      "text/plain": [
       "<Figure size 1440x720 with 1 Axes>"
      ]
     },
     "metadata": {},
     "output_type": "display_data"
    }
   ],
   "source": [
    "#Create graphic heatmap of rotation without n taken out\n",
    "#Take the log of everything to it can be graphed better, add 1 to get rid of log(0)\n",
    "heatmap_rotation += 1\n",
    "heatmap_rotation = np.log(heatmap_rotation)\n",
    "plt.figure(figsize=(20,10))\n",
    "plt.title('Log Rotation Frequence of Weaselball Structure without n taken out')\n",
    "plt.xlabel('n * RESOLUTION_OF_S1')\n",
    "plt.ylabel('log(frequency)')\n",
    "heatmap_rotation.plot.bar()\n",
    "plt.savefig(fig_prefix + \"rotation_heatmap.png\")\n",
    "plt.show()\n"
   ]
  },
  {
   "cell_type": "code",
   "execution_count": null,
   "metadata": {},
   "outputs": [],
   "source": []
  }
 ],
 "metadata": {
  "kernelspec": {
   "display_name": "Python 2",
   "language": "python",
   "name": "python2"
  },
  "language_info": {
   "codemirror_mode": {
    "name": "ipython",
    "version": 2
   },
   "file_extension": ".py",
   "mimetype": "text/x-python",
   "name": "python",
   "nbconvert_exporter": "python",
   "pygments_lexer": "ipython2",
   "version": "2.7.13"
  }
 },
 "nbformat": 4,
 "nbformat_minor": 2
}
