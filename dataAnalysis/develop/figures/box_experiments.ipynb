{
 "cells": [
  {
   "cell_type": "markdown",
   "metadata": {},
   "source": [
    "In this experiment I plot the results for the first time contact of the boxes and the time for the boxes to become flush\n"
   ]
  },
  {
   "cell_type": "markdown",
   "metadata": {},
   "source": [
    "Note: The \"Maximum\" time in this experiment is 10 minutes. So if both boxes become stuck on a wall, or if 10 minutes pass, they are recorded as 600 seconds. Flush is defined as 2 edges of the boxes being flush against eachother. In the case of the '1' and '5' inch group, the boxes were always flush against each other along their longer dimension. For the case of '9' it was more common for the boxes to be flush with 1 long dimension and one short dimension forming an \"L\". "
   ]
  },
  {
   "cell_type": "code",
   "execution_count": 9,
   "metadata": {},
   "outputs": [
    {
     "data": {
      "text/html": [
       "<img src=\"../../figures/box_experiment.png\"/>"
      ],
      "text/plain": [
       "<IPython.core.display.Image object>"
      ]
     },
     "execution_count": 9,
     "metadata": {},
     "output_type": "execute_result"
    }
   ],
   "source": [
    "from IPython.display import Image\n",
    "from IPython.core.display import HTML \n",
    "Image(url= \"../../figures/box_experiment.png\")"
   ]
  },
  {
   "cell_type": "code",
   "execution_count": 10,
   "metadata": {},
   "outputs": [],
   "source": [
    "import pandas as pd\n",
    "import numpy as np\n",
    "import operator\n",
    "import seaborn as sns\n",
    "from scipy import stats\n",
    "import matplotlib.pyplot as plt"
   ]
  },
  {
   "cell_type": "code",
   "execution_count": 11,
   "metadata": {},
   "outputs": [],
   "source": [
    "DATA_DIR = '../../data/'\n",
    "FIGURE_DIR = '../../figures/'"
   ]
  },
  {
   "cell_type": "code",
   "execution_count": 12,
   "metadata": {
    "scrolled": true
   },
   "outputs": [],
   "source": [
    "#Import the data\n",
    "first_touch = pd.read_csv(DATA_DIR + 'first_touch.csv')\n",
    "flush = pd.read_csv(DATA_DIR + 'flush.csv')\n",
    "first_touch = first_touch.dropna()\n",
    "flush = flush.dropna()"
   ]
  },
  {
   "cell_type": "code",
   "execution_count": 13,
   "metadata": {},
   "outputs": [
    {
     "data": {
      "text/html": [
       "<div>\n",
       "<style scoped>\n",
       "    .dataframe tbody tr th:only-of-type {\n",
       "        vertical-align: middle;\n",
       "    }\n",
       "\n",
       "    .dataframe tbody tr th {\n",
       "        vertical-align: top;\n",
       "    }\n",
       "\n",
       "    .dataframe thead th {\n",
       "        text-align: right;\n",
       "    }\n",
       "</style>\n",
       "<table border=\"1\" class=\"dataframe\">\n",
       "  <thead>\n",
       "    <tr style=\"text-align: right;\">\n",
       "      <th></th>\n",
       "      <th>1</th>\n",
       "      <th>5</th>\n",
       "      <th>9</th>\n",
       "    </tr>\n",
       "  </thead>\n",
       "  <tbody>\n",
       "    <tr>\n",
       "      <th>0</th>\n",
       "      <td>39.0</td>\n",
       "      <td>50.0</td>\n",
       "      <td>470.0</td>\n",
       "    </tr>\n",
       "    <tr>\n",
       "      <th>1</th>\n",
       "      <td>14.0</td>\n",
       "      <td>77.0</td>\n",
       "      <td>96.0</td>\n",
       "    </tr>\n",
       "    <tr>\n",
       "      <th>2</th>\n",
       "      <td>4.0</td>\n",
       "      <td>72.0</td>\n",
       "      <td>600.0</td>\n",
       "    </tr>\n",
       "    <tr>\n",
       "      <th>3</th>\n",
       "      <td>17.0</td>\n",
       "      <td>101.0</td>\n",
       "      <td>600.0</td>\n",
       "    </tr>\n",
       "    <tr>\n",
       "      <th>4</th>\n",
       "      <td>17.0</td>\n",
       "      <td>163.0</td>\n",
       "      <td>109.0</td>\n",
       "    </tr>\n",
       "    <tr>\n",
       "      <th>5</th>\n",
       "      <td>21.0</td>\n",
       "      <td>71.0</td>\n",
       "      <td>139.0</td>\n",
       "    </tr>\n",
       "    <tr>\n",
       "      <th>6</th>\n",
       "      <td>11.0</td>\n",
       "      <td>89.0</td>\n",
       "      <td>600.0</td>\n",
       "    </tr>\n",
       "    <tr>\n",
       "      <th>7</th>\n",
       "      <td>2.0</td>\n",
       "      <td>166.0</td>\n",
       "      <td>600.0</td>\n",
       "    </tr>\n",
       "    <tr>\n",
       "      <th>8</th>\n",
       "      <td>29.0</td>\n",
       "      <td>62.0</td>\n",
       "      <td>600.0</td>\n",
       "    </tr>\n",
       "    <tr>\n",
       "      <th>9</th>\n",
       "      <td>1.0</td>\n",
       "      <td>92.0</td>\n",
       "      <td>600.0</td>\n",
       "    </tr>\n",
       "  </tbody>\n",
       "</table>\n",
       "</div>"
      ],
      "text/plain": [
       "      1      5      9\n",
       "0  39.0   50.0  470.0\n",
       "1  14.0   77.0   96.0\n",
       "2   4.0   72.0  600.0\n",
       "3  17.0  101.0  600.0\n",
       "4  17.0  163.0  109.0\n",
       "5  21.0   71.0  139.0\n",
       "6  11.0   89.0  600.0\n",
       "7   2.0  166.0  600.0\n",
       "8  29.0   62.0  600.0\n",
       "9   1.0   92.0  600.0"
      ]
     },
     "execution_count": 13,
     "metadata": {},
     "output_type": "execute_result"
    }
   ],
   "source": [
    "flush"
   ]
  },
  {
   "cell_type": "code",
   "execution_count": 14,
   "metadata": {},
   "outputs": [
    {
     "data": {
      "text/html": [
       "<div>\n",
       "<style scoped>\n",
       "    .dataframe tbody tr th:only-of-type {\n",
       "        vertical-align: middle;\n",
       "    }\n",
       "\n",
       "    .dataframe tbody tr th {\n",
       "        vertical-align: top;\n",
       "    }\n",
       "\n",
       "    .dataframe thead th {\n",
       "        text-align: right;\n",
       "    }\n",
       "</style>\n",
       "<table border=\"1\" class=\"dataframe\">\n",
       "  <thead>\n",
       "    <tr style=\"text-align: right;\">\n",
       "      <th></th>\n",
       "      <th>1</th>\n",
       "      <th>5</th>\n",
       "      <th>9</th>\n",
       "    </tr>\n",
       "  </thead>\n",
       "  <tbody>\n",
       "    <tr>\n",
       "      <th>0</th>\n",
       "      <td>9.0</td>\n",
       "      <td>25.0</td>\n",
       "      <td>188.0</td>\n",
       "    </tr>\n",
       "    <tr>\n",
       "      <th>1</th>\n",
       "      <td>10.0</td>\n",
       "      <td>33.0</td>\n",
       "      <td>94.0</td>\n",
       "    </tr>\n",
       "    <tr>\n",
       "      <th>2</th>\n",
       "      <td>3.0</td>\n",
       "      <td>48.0</td>\n",
       "      <td>600.0</td>\n",
       "    </tr>\n",
       "    <tr>\n",
       "      <th>3</th>\n",
       "      <td>8.0</td>\n",
       "      <td>43.0</td>\n",
       "      <td>600.0</td>\n",
       "    </tr>\n",
       "    <tr>\n",
       "      <th>4</th>\n",
       "      <td>1.0</td>\n",
       "      <td>109.0</td>\n",
       "      <td>100.0</td>\n",
       "    </tr>\n",
       "    <tr>\n",
       "      <th>5</th>\n",
       "      <td>2.0</td>\n",
       "      <td>36.0</td>\n",
       "      <td>93.0</td>\n",
       "    </tr>\n",
       "    <tr>\n",
       "      <th>6</th>\n",
       "      <td>2.0</td>\n",
       "      <td>53.0</td>\n",
       "      <td>600.0</td>\n",
       "    </tr>\n",
       "    <tr>\n",
       "      <th>7</th>\n",
       "      <td>1.0</td>\n",
       "      <td>59.0</td>\n",
       "      <td>600.0</td>\n",
       "    </tr>\n",
       "    <tr>\n",
       "      <th>8</th>\n",
       "      <td>3.0</td>\n",
       "      <td>25.0</td>\n",
       "      <td>600.0</td>\n",
       "    </tr>\n",
       "    <tr>\n",
       "      <th>9</th>\n",
       "      <td>1.0</td>\n",
       "      <td>45.0</td>\n",
       "      <td>600.0</td>\n",
       "    </tr>\n",
       "  </tbody>\n",
       "</table>\n",
       "</div>"
      ],
      "text/plain": [
       "      1      5      9\n",
       "0   9.0   25.0  188.0\n",
       "1  10.0   33.0   94.0\n",
       "2   3.0   48.0  600.0\n",
       "3   8.0   43.0  600.0\n",
       "4   1.0  109.0  100.0\n",
       "5   2.0   36.0   93.0\n",
       "6   2.0   53.0  600.0\n",
       "7   1.0   59.0  600.0\n",
       "8   3.0   25.0  600.0\n",
       "9   1.0   45.0  600.0"
      ]
     },
     "execution_count": 14,
     "metadata": {},
     "output_type": "execute_result"
    }
   ],
   "source": [
    "first_touch"
   ]
  },
  {
   "cell_type": "markdown",
   "metadata": {},
   "source": [
    "## First hit time"
   ]
  },
  {
   "cell_type": "code",
   "execution_count": 15,
   "metadata": {},
   "outputs": [
    {
     "data": {
      "image/png": "[encoded data removed]",
      "text/plain": [
       "<Figure size 432x288 with 1 Axes>"
      ]
     },
     "metadata": {
      "needs_background": "light"
     },
     "output_type": "display_data"
    }
   ],
   "source": [
    "data1 = first_touch['1']\n",
    "data5 = first_touch['5']\n",
    "data9 = first_touch['9']\n",
    "plt.hist(data1, label = '1 Inch',bins=range(0,601,10))\n",
    "plt.hist(data5, label = '5 Inch',bins=range(0,601,10))\n",
    "plt.hist(data9, label = '9 Inch',bins=range(0,601,10))\n",
    "plt.legend()\n",
    "plt.title(\"Histogram of Time for Boxes to Touch\\n vs Distance of Boxes From Center\")\n",
    "plt.xlabel('Time (seconds)')\n",
    "plt.ylabel('Frequency')\n",
    "plt.plot()\n",
    "plt.savefig(FIGURE_DIR + 'oneHit.png')"
   ]
  },
  {
   "cell_type": "code",
   "execution_count": 16,
   "metadata": {},
   "outputs": [
    {
     "name": "stdout",
     "output_type": "stream",
     "text": [
      "DescribeResult(nobs=10, minmax=(1.0, 10.0), mean=4.0, variance=12.666666666666666, skewness=0.7949945464661502, kurtosis=-1.1117266851338874)\n",
      "DescribeResult(nobs=10, minmax=(25.0, 109.0), mean=47.6, variance=591.8222222222223, skewness=1.6695983866495645, kurtosis=2.2223639379435953)\n",
      "DescribeResult(nobs=10, minmax=(93.0, 600.0), mean=407.5, variance=62474.055555555555, skewness=-0.4408038185698752, kurtosis=-1.7681594373014289)\n"
     ]
    }
   ],
   "source": [
    "print(stats.describe(data1))\n",
    "print(stats.describe(data5))\n",
    "print(stats.describe(data9))"
   ]
  },
  {
   "cell_type": "code",
   "execution_count": 17,
   "metadata": {},
   "outputs": [
    {
     "data": {
      "image/png": "[encoded data removed]",
      "text/plain": [
       "<Figure size 432x288 with 1 Axes>"
      ]
     },
     "metadata": {
      "needs_background": "light"
     },
     "output_type": "display_data"
    }
   ],
   "source": [
    "data1 = first_touch['1']\n",
    "data5 = first_touch['5']\n",
    "data9 = first_touch['9']\n",
    "data9_filtered = list(filter(lambda x: x < 600, data9))\n",
    "plt.hist(data1, label = '1 Inch',bins=range(0,601,10))\n",
    "plt.hist(data5, label = '5 Inch',bins=range(0,601,10))\n",
    "plt.hist(data9_filtered, label = '9 Inch',bins=range(0,601,10))\n",
    "plt.legend()\n",
    "plt.title(\"Histogram of Time for Boxes to Touch\\n vs Distance of Boxes From Center \\nWith Max Time Filtered Out\")\n",
    "plt.xlabel('Time (seconds)')\n",
    "plt.ylabel('Frequency')\n",
    "plt.plot()\n",
    "plt.savefig(FIGURE_DIR + 'oneHit_max_filtered.png')"
   ]
  },
  {
   "cell_type": "code",
   "execution_count": 18,
   "metadata": {
    "scrolled": true
   },
   "outputs": [
    {
     "name": "stdout",
     "output_type": "stream",
     "text": [
      "DescribeResult(nobs=10, minmax=(93.0, 600.0), mean=407.5, variance=62474.055555555555, skewness=-0.4408038185698752, kurtosis=-1.7681594373014289)\n"
     ]
    }
   ],
   "source": [
    "print(stats.describe(data9))"
   ]
  },
  {
   "cell_type": "markdown",
   "metadata": {},
   "source": [
    "## Flush Time"
   ]
  },
  {
   "cell_type": "code",
   "execution_count": 19,
   "metadata": {},
   "outputs": [
    {
     "data": {
      "image/png": "[encoded data removed]",
      "text/plain": [
       "<Figure size 432x288 with 1 Axes>"
      ]
     },
     "metadata": {
      "needs_background": "light"
     },
     "output_type": "display_data"
    }
   ],
   "source": [
    "data1_flush = flush['1']\n",
    "data5_flush = flush['5']\n",
    "data9_flush = flush['9']\n",
    "plt.hist(data1_flush, label = '1 Inch',bins=range(0,601,10))\n",
    "plt.hist(data5_flush, label = '5 Inch',bins=range(0,601,10))\n",
    "plt.hist(data9_flush, label = '9 Inch',bins=range(0,601,10))\n",
    "plt.legend()\n",
    "plt.title(\"Histogram of Time for Boxes to Become Flush \\n vs Distance of Boxes From Center\")\n",
    "plt.xlabel('Time (seconds)')\n",
    "plt.ylabel('Frequency')\n",
    "plt.plot()\n",
    "plt.savefig(FIGURE_DIR + 'flush.png')"
   ]
  },
  {
   "cell_type": "code",
   "execution_count": 20,
   "metadata": {},
   "outputs": [
    {
     "name": "stdout",
     "output_type": "stream",
     "text": [
      "DescribeResult(nobs=10, minmax=(1.0, 39.0), mean=15.5, variance=146.27777777777777, skewness=0.5618532624984618, kurtosis=-0.4933499829575507)\n",
      "DescribeResult(nobs=10, minmax=(50.0, 166.0), mean=94.3, variance=1587.1222222222223, skewness=1.0066189876854887, kurtosis=-0.33975338364039187)\n",
      "DescribeResult(nobs=10, minmax=(96.0, 600.0), mean=441.4, variance=52553.15555555556, skewness=-0.7935427810682977, kurtosis=-1.2745372389848368)\n"
     ]
    }
   ],
   "source": [
    "print(stats.describe(data1_flush))\n",
    "print(stats.describe(data5_flush))\n",
    "print(stats.describe(data9_flush))"
   ]
  },
  {
   "cell_type": "code",
   "execution_count": 21,
   "metadata": {},
   "outputs": [
    {
     "data": {
      "image/png": "[encoded data removed]",
      "text/plain": [
       "<Figure size 432x288 with 1 Axes>"
      ]
     },
     "metadata": {
      "needs_background": "light"
     },
     "output_type": "display_data"
    }
   ],
   "source": [
    "data1_flush = flush['1']\n",
    "data5_flush = flush['5']\n",
    "data9_flush = flush['9']\n",
    "data9_flush_filtered = list(filter(lambda x: x < 600, data9_flush))\n",
    "plt.hist(data1_flush, label = '1 Inch',bins=range(0,601,10))\n",
    "plt.hist(data5_flush, label = '5 Inch',bins=range(0,601,10))\n",
    "plt.hist(data9_flush_filtered, label = '9 Inch',bins=range(0,601,10))\n",
    "plt.legend()\n",
    "plt.title(\"Histogram of Time for Boxes to Become Flush \\n vs Distance of Boxes From Center \\nWith Max Time Filtered Out\")\n",
    "plt.xlabel('Time (seconds)')\n",
    "plt.ylabel('Frequency')\n",
    "plt.plot()\n",
    "plt.savefig(FIGURE_DIR + 'flush_max_filtered.png')"
   ]
  },
  {
   "cell_type": "code",
   "execution_count": 22,
   "metadata": {
    "scrolled": true
   },
   "outputs": [
    {
     "name": "stdout",
     "output_type": "stream",
     "text": [
      "DescribeResult(nobs=10, minmax=(96.0, 600.0), mean=441.4, variance=52553.15555555556, skewness=-0.7935427810682977, kurtosis=-1.2745372389848368)\n"
     ]
    }
   ],
   "source": [
    "print(stats.describe(data9_flush))"
   ]
  },
  {
   "cell_type": "markdown",
   "metadata": {},
   "source": [
    "## Other Statistics"
   ]
  },
  {
   "cell_type": "markdown",
   "metadata": {},
   "source": [
    "### Time Difference between first contact and flush"
   ]
  },
  {
   "cell_type": "code",
   "execution_count": 23,
   "metadata": {},
   "outputs": [],
   "source": [
    "time_diff_1 = data1_flush - data1\n",
    "time_diff_5 = data5_flush - data5\n",
    "#I use filtered because it is meaningless to use time limited data \n",
    "#I never had a case where there was a first contact then a flush\n",
    "#Although there was a close calls...\n",
    "time_diff_9 = list(map(operator.sub, data9_flush_filtered, data9_filtered))"
   ]
  },
  {
   "cell_type": "code",
   "execution_count": 24,
   "metadata": {},
   "outputs": [
    {
     "data": {
      "image/png": "[encoded data removed]",
      "text/plain": [
       "<Figure size 432x288 with 1 Axes>"
      ]
     },
     "metadata": {
      "needs_background": "light"
     },
     "output_type": "display_data"
    }
   ],
   "source": [
    "plt.hist(time_diff_1, label = '1 Inch',bins=range(0,601,10))\n",
    "plt.hist(time_diff_5, label = '5 Inch',bins=range(0,601,10))\n",
    "plt.hist(time_diff_9, label = '9 Inch',bins=range(0,601,10))\n",
    "plt.legend()\n",
    "plt.title(\"Time for Boxes to Become Flush After Initial Contact\")\n",
    "plt.xlabel('Time (seconds)')\n",
    "plt.ylabel('Frequency')\n",
    "plt.plot()\n",
    "plt.savefig(FIGURE_DIR + 'firstToFlush.png')"
   ]
  },
  {
   "cell_type": "markdown",
   "metadata": {},
   "source": [
    "There really wasnt too much of a difference between time from going between first contact and flush for each of the group"
   ]
  }
 ],
 "metadata": {
  "kernelspec": {
   "display_name": "Python (snakes37)",
   "language": "python",
   "name": "snakes37"
  },
  "language_info": {
   "codemirror_mode": {
    "name": "ipython",
    "version": 3
   },
   "file_extension": ".py",
   "mimetype": "text/x-python",
   "name": "python",
   "nbconvert_exporter": "python",
   "pygments_lexer": "ipython3",
   "version": "3.6.7"
  }
 },
 "nbformat": 4,
 "nbformat_minor": 2
}
