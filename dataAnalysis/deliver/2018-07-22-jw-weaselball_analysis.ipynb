{
 "cells": [
  {
   "cell_type": "code",
   "execution_count": 78,
   "metadata": {},
   "outputs": [
    {
     "name": "stdout",
     "output_type": "stream",
     "text": [
      "The version_information extension is already loaded. To reload it, use:\n",
      "  %reload_ext version_information\n"
     ]
    }
   ],
   "source": [
    "import pandas as pd\n",
    "import numpy as np\n",
    "%load_ext version_information\n",
    "%version_information numpy, pandas, matplotlib\n",
    "%version_information\n",
    "fig_prefix = \"../figuires/2018-07-22-jw-weaselball_analysis\"\n",
    "data_prefix = \"../data/2018-07-22-jw-weaselball_analysis_\""
   ]
  },
  {
   "cell_type": "code",
   "execution_count": 79,
   "metadata": {},
   "outputs": [
    {
     "name": "stdout",
     "output_type": "stream",
     "text": [
      "             Time    X    Y           Yaw\n",
      "0  0.780640     0  0.0  0.0  0.000000e+00\n",
      "1  0.126067     0  0.0  0.0  5.364630e-22\n",
      "2  0.230307     0  0.0  0.0  5.364630e-22\n",
      "3  0.335297     0  0.0  0.0  5.364630e-22\n",
      "4  0.439492     0  0.0  0.0  5.364630e-22\n"
     ]
    }
   ],
   "source": [
    "#import the data\n",
    "\n",
    "FLOAT_ERROR_TOLERANCE = 0.00000000001 #See IEEE 754 for why a floating point is never perfect\n",
    "df = pd.read_csv('../data/collection.csv')\n",
    "for index, row in df.iterrows():\n",
    "    df.at[index,'Time'] = row['Time'].replace(' ', '.')\n",
    "\n",
    "df = df.apply(pd.to_numeric)\n",
    "df.columns = ['','Time','X','Y','Yaw']\n",
    "print(df.head())\n",
    "\n",
    "\n"
   ]
  },
  {
   "cell_type": "code",
   "execution_count": 80,
   "metadata": {},
   "outputs": [],
   "source": [
    "#Clean up the data\n",
    "\n",
    "df_clean = df.copy()\n",
    "#When the gazebo run it may collect some data of the robots when they aren't moving for the first few 50 or so samples.\n",
    "#TODO"
   ]
  },
  {
   "cell_type": "code",
   "execution_count": 81,
   "metadata": {},
   "outputs": [
    {
     "name": "stdout",
     "output_type": "stream",
     "text": [
      "             Time    X    Y       Yaw\n",
      "0  0.780640     0  0.0  0.0  3.141593\n",
      "1  0.126067     0  0.0  0.0  3.141593\n",
      "2  0.230307     0  0.0  0.0  3.141593\n",
      "3  0.335297     0  0.0  0.0  3.141593\n",
      "4  0.439492     0  0.0  0.0  3.141593\n"
     ]
    }
   ],
   "source": [
    "#Clean up the data\n",
    "\n",
    "#Shift Yaw to go from 0 to 2pi, so just add PI since it currently goes for -pi to pi\n",
    "df_clean['Yaw'] += np.pi\n",
    "if(df_clean['Yaw'].max() > 2 * np.pi or df_clean['Yaw'].min() < 0):\n",
    "    print(\"[ERROR] Cleaning Yaw failed. Make sure range is from 0 and 2 * pi\")\n",
    "    print(\"Yaw = ({} - {})\".format(df_clean['Yaw'].min(), df_clean['Yaw'].max()))\n",
    "\n",
    "\n",
    "print(df_clean.head())"
   ]
  },
  {
   "cell_type": "code",
   "execution_count": 82,
   "metadata": {},
   "outputs": [
    {
     "name": "stdout",
     "output_type": "stream",
     "text": [
      "             Time       X       Y       Yaw\n",
      "0  0.780640     0  0.5635  0.5635  3.141593\n",
      "1  0.126067     0  0.5635  0.5635  3.141593\n",
      "2  0.230307     0  0.5635  0.5635  3.141593\n",
      "3  0.335297     0  0.5635  0.5635  3.141593\n",
      "4  0.439492     0  0.5635  0.5635  3.141593\n"
     ]
    }
   ],
   "source": [
    "#Clean up the data\n",
    "\n",
    "#Shift X and Y over so that way it could be made easier to use. Currently the world reference is at the center of the \"play area\"\n",
    "LENGTH_OF_BOX = 1.127 #This can be obtained from the .sdf file of the weazelball enclosure in gazebo\n",
    "\n",
    "\n",
    "df_clean['X'] += LENGTH_OF_BOX / 2\n",
    "df_clean['Y'] += LENGTH_OF_BOX / 2\n",
    "if (df_clean['X'].max() > LENGTH_OF_BOX or df_clean['Y'].max() > LENGTH_OF_BOX or df_clean['X'].min() < 0 or df_clean['Y'].min() < 0):\n",
    "    print(\"[ERROR] Cleaning X/Y failed, Make sure the points are between 0 and LENGTH_OF_BOX\")\n",
    "    print(\"Y = ({} - {}) X = ({} to {})\".format(df_clean['Y'].min(), df_clean['Y'].max(), df_clean['X'].min(), df_clean['X'].max()))\n",
    "print(df_clean.head())"
   ]
  },
  {
   "cell_type": "code",
   "execution_count": 83,
   "metadata": {},
   "outputs": [],
   "source": [
    "#Clean up the data\n",
    "\n",
    "#Clean the time data since gazebo prints it weird...\n",
    "#TODO"
   ]
  },
  {
   "cell_type": "code",
   "execution_count": 84,
   "metadata": {},
   "outputs": [
    {
     "name": "stdout",
     "output_type": "stream",
     "text": [
      "             Time    X    Y  Yaw\n",
      "0  0.780640     0  5.0  5.0  3.1\n",
      "1  0.126067     0  5.0  5.0  3.1\n",
      "2  0.230307     0  5.0  5.0  3.1\n",
      "3  0.335297     0  5.0  5.0  3.1\n",
      "4  0.439492     0  5.0  5.0  3.1\n"
     ]
    }
   ],
   "source": [
    "#Discretize the data\n",
    "NUMBER_OF_SQUARES = 100 #This should be a square number to create equal sized squares.\n",
    "RESOLUTION_OF_S1 = 0.1 #This is used to discretize the yaw angle over 0 - 2*pi\n",
    "\n",
    "\n",
    "df_discretized = df_clean.copy()\n",
    "mappingBoxConstant = (NUMBER_OF_SQUARES ** (1/2.0)) / (LENGTH_OF_BOX)\n",
    "for index, row in df_clean.iterrows():\n",
    "    df_discretized.at[index, 'X'] = int(row['X'] * mappingBoxConstant)\n",
    "    df_discretized.at[index, 'Y'] = int(row['Y'] * mappingBoxConstant)\n",
    "    df_discretized.at[index, 'Yaw'] = int(row['Yaw'] / RESOLUTION_OF_S1) * RESOLUTION_OF_S1\n",
    "\n",
    "print(df_discretized.head())\n"
   ]
  },
  {
   "cell_type": "code",
   "execution_count": 85,
   "metadata": {},
   "outputs": [],
   "source": [
    "#Verify Discretizing suceeded by checking that number of states generated is the number of states we expeted or less (Sometimes these things dont visit all states)\n",
    "if (df_discretized['X'].max() > (NUMBER_OF_SQUARES ** (1/2.0)) or df_discretized['Y'].max() > (NUMBER_OF_SQUARES ** (1/2.0)) or df_discretized['X'].min() < 0 or df_discretized['Y'].min() < 0):\n",
    "    print(\"[ERROR] Discretizing X/Y failed, Make sure the points are between 0 and (NUMBER_OF_SQUARES ** (1/2.0)\")\n",
    "    print(\"Y = ({} - {}) X = ({} to {})\".format(df_clean['Y'].min(), df_clean['Y'].max(), df_clean['X'].min(), df_clean['X'].max()))\n"
   ]
  },
  {
   "cell_type": "code",
   "execution_count": 86,
   "metadata": {},
   "outputs": [
    {
     "name": "stdout",
     "output_type": "stream",
     "text": [
      "[DEBUG] Size of n is 6300\n"
     ]
    }
   ],
   "source": [
    "\n",
    "#Create the matrix representing the Markov Chain\n",
    "#I am assuming we are discretizing the space into equal sized boxes\n",
    "#The transition matrix A is of size \n",
    "#( # of states of X * # of states of Y * # of states of Yaw)\n",
    "#( # of states of X and Y = mappingBoxConstant * LENGTH_OF_BOX )\n",
    "#( # of states of Yaw = int(2*pi / RESOLUTION_OF_S1)+1)\n",
    "number_of_x_states = mappingBoxConstant * LENGTH_OF_BOX\n",
    "number_of_y_states = mappingBoxConstant * LENGTH_OF_BOX\n",
    "number_of_s1_states = int(2*np.pi / RESOLUTION_OF_S1) + 1\n",
    "\n",
    "n = int(number_of_x_states * number_of_y_states * number_of_s1_states)\n",
    "print(\"[DEBUG] Size of n is {}\".format(n))\n",
    "translation_matrix = pd.DataFrame(TRANSLATION_MATRIX_INITIAL_VALUE, index=range(n), columns=range(n))#We use 1 here to set the whole matrix elements to 1\n"
   ]
  },
  {
   "cell_type": "code",
   "execution_count": 87,
   "metadata": {},
   "outputs": [],
   "source": [
    "#Create a dictionary for storing the transition states analysis\n",
    "d = {}\n",
    "#Our keys to the dictionary will look like (x_t, y_t, yaw_t, x_t+1, y_t+1, yaw_t+1)\n",
    "#Go through all but last row since t+1 isnt defined there...\n",
    "for index, row in df_discretized.iterrows():\n",
    "    if(index == df_discretized.shape[0]-1):\n",
    "        break\n",
    "    try:\n",
    "        #Need to round here because Yaw data has floating point error\n",
    "        key = (df_discretized.at[index, 'X'], df_discretized.at[index, 'Y'], round(df_discretized.at[index, 'Yaw'], 6),df_discretized.at[index+1, 'X'], df_discretized.at[index+1, 'Y'], round(df_discretized.at[index+1, 'Yaw'], 6) )\n",
    "    except Exception as e:\n",
    "        print index\n",
    "        print df_discretized.shape[0]\n",
    "        print index == df_discretized.shape[0]\n",
    "    if key in d:\n",
    "        d[key] += 1\n",
    "    else:\n",
    "        d[key] = 1\n",
    "#print d"
   ]
  },
  {
   "cell_type": "code",
   "execution_count": 88,
   "metadata": {},
   "outputs": [],
   "source": [
    "#Fill in matrix with data from dictionary\n",
    "TRANSLATION_MATRIX_INITIAL_VALUE = 1.0\n",
    "translation_matrix = pd.DataFrame(TRANSLATION_MATRIX_INITIAL_VALUE, index=range(n), columns=range(n))#We use 1 here to set the whole matrix elements to 1\n",
    "\n",
    "#The formula for mapping a 3D array to 1D is\n",
    "#(z * xMax * yMax) + (y * xMax) + x;\n",
    "#https://stackoverflow.com/questions/7367770/how-to-flatten-or-index-3d-array-in-1d-array\n",
    "X_MAX = NUMBER_OF_SQUARES ** (1/2.0)\n",
    "Y_MAX = NUMBER_OF_SQUARES ** (1/2.0)\n",
    "YAW_MAX = (2 * np.pi) / RESOLUTION_OF_S1\n",
    "def map3Dto1D(x,y,yaw):\n",
    "    return int((yaw*X_MAX*Y_MAX) + (y*X_MAX) + x)\n",
    "\n",
    "\n",
    "#Fill in matrix with dictionary data\n",
    "for key, value in d.iteritems():\n",
    "    #we need to map yaw to an int state\n",
    "    element_t = map3Dto1D(key[0], key[1], key[2]/RESOLUTION_OF_S1)\n",
    "    element_t_plus_1 = map3Dto1D(key[3], key[4], key[5]/RESOLUTION_OF_S1)\n",
    "    #Use the following to verify we the math above is fine\n",
    "    if (translation_matrix.at[element_t, element_t_plus_1] != TRANSLATION_MATRIX_INITIAL_VALUE):\n",
    "        print(\"[ERROR] Check 3D to 1D mapping!\")\n",
    "        print(translation_matrix.at[element_t, element_t_plus_1])\n",
    "        print(\"{} {}\".format(element_t,element_t_plus_1 ))\n",
    "        break\n",
    "    translation_matrix.at[element_t, element_t_plus_1] = value + translation_matrix.at[element_t, element_t_plus_1]\n",
    "   # print(\"key = {}, elements = {}, {}\".format(key, element_t, element_t_plus_1))\n"
   ]
  },
  {
   "cell_type": "code",
   "execution_count": 89,
   "metadata": {},
   "outputs": [
    {
     "name": "stdout",
     "output_type": "stream",
     "text": [
      "   0     1     2     3     4     5     6     7     8     9     ...   6290  \\\n",
      "0   1.0   1.0   1.0   1.0   1.0   1.0   1.0   1.0   1.0   1.0  ...    1.0   \n",
      "1   1.0   1.0   1.0   1.0   1.0   1.0   1.0   1.0   1.0   1.0  ...    1.0   \n",
      "2   1.0   1.0   1.0   1.0   1.0   1.0   1.0   1.0   1.0   1.0  ...    1.0   \n",
      "3   1.0   1.0   1.0   1.0   1.0   1.0   1.0   1.0   1.0   1.0  ...    1.0   \n",
      "4   1.0   1.0   1.0   1.0   1.0   1.0   1.0   1.0   1.0   1.0  ...    1.0   \n",
      "\n",
      "   6291  6292  6293  6294  6295  6296  6297  6298  6299  \n",
      "0   1.0   1.0   1.0   1.0   1.0   1.0   1.0   1.0   1.0  \n",
      "1   1.0   1.0   1.0   1.0   1.0   1.0   1.0   1.0   1.0  \n",
      "2   1.0   1.0   1.0   1.0   1.0   1.0   1.0   1.0   1.0  \n",
      "3   1.0   1.0   1.0   1.0   1.0   1.0   1.0   1.0   1.0  \n",
      "4   1.0   1.0   1.0   1.0   1.0   1.0   1.0   1.0   1.0  \n",
      "\n",
      "[5 rows x 6300 columns]\n",
      "       0         1         2         3         4         5         6     \\\n",
      "0  0.000159  0.000159  0.000159  0.000159  0.000159  0.000159  0.000159   \n",
      "1  0.000159  0.000159  0.000159  0.000159  0.000159  0.000159  0.000159   \n",
      "2  0.000159  0.000159  0.000159  0.000159  0.000159  0.000159  0.000159   \n",
      "3  0.000159  0.000159  0.000159  0.000159  0.000159  0.000159  0.000159   \n",
      "4  0.000159  0.000159  0.000159  0.000159  0.000159  0.000159  0.000159   \n",
      "\n",
      "       7         8         9       ...         6290      6291      6292  \\\n",
      "0  0.000159  0.000159  0.000159    ...     0.000159  0.000159  0.000159   \n",
      "1  0.000159  0.000159  0.000159    ...     0.000159  0.000159  0.000159   \n",
      "2  0.000159  0.000159  0.000159    ...     0.000159  0.000159  0.000159   \n",
      "3  0.000159  0.000159  0.000159    ...     0.000159  0.000159  0.000159   \n",
      "4  0.000159  0.000159  0.000159    ...     0.000159  0.000159  0.000159   \n",
      "\n",
      "       6293      6294      6295      6296      6297      6298      6299  \n",
      "0  0.000159  0.000159  0.000159  0.000159  0.000159  0.000159  0.000159  \n",
      "1  0.000159  0.000159  0.000159  0.000159  0.000159  0.000159  0.000159  \n",
      "2  0.000159  0.000159  0.000159  0.000159  0.000159  0.000159  0.000159  \n",
      "3  0.000159  0.000159  0.000159  0.000159  0.000159  0.000159  0.000159  \n",
      "4  0.000159  0.000159  0.000159  0.000159  0.000159  0.000159  0.000159  \n",
      "\n",
      "[5 rows x 6300 columns]\n"
     ]
    }
   ],
   "source": [
    "#Divide the whole dataframe by number of data collections to get the probabilities.\n",
    "print(translation_matrix.head())\n",
    "for index, row in translation_matrix.iterrows():\n",
    "    totalActionsInThisState = row.sum()\n",
    "    translation_matrix.iloc[index] /= totalActionsInThisState\n",
    "print(translation_matrix.head())"
   ]
  },
  {
   "cell_type": "code",
   "execution_count": 90,
   "metadata": {},
   "outputs": [],
   "source": [
    "#validate the matrix (all rows == 1)\n",
    "for index, row in translation_matrix.iterrows():\n",
    "    if index == 5:\n",
    "        break\n",
    "    if(abs(row.sum() - 1.0) > FLOAT_ERROR_TOLERANCE):\n",
    "        print(\"[ERROR] Row probability not equal to one!\")\n",
    "        print(index)\n",
    "        print(row.sum())\n"
   ]
  },
  {
   "cell_type": "code",
   "execution_count": 91,
   "metadata": {},
   "outputs": [],
   "source": [
    "#Make matrix into CSV\n",
    "translation_matrix.to_csv(data_prefix + 'translation_matrix_out.csv', encoding='utf-8', index=False)\n"
   ]
  },
  {
   "cell_type": "code",
   "execution_count": null,
   "metadata": {},
   "outputs": [],
   "source": []
  }
 ],
 "metadata": {
  "kernelspec": {
   "display_name": "Python 2",
   "language": "python",
   "name": "python2"
  },
  "language_info": {
   "codemirror_mode": {
    "name": "ipython",
    "version": 2
   },
   "file_extension": ".py",
   "mimetype": "text/x-python",
   "name": "python",
   "nbconvert_exporter": "python",
   "pygments_lexer": "ipython2",
   "version": "2.7.13"
  }
 },
 "nbformat": 4,
 "nbformat_minor": 2
}
